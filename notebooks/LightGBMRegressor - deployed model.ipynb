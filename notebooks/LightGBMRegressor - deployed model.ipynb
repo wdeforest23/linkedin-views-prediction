{
 "cells": [
  {
   "cell_type": "markdown",
   "metadata": {
    "application/vnd.databricks.v1+cell": {
     "cellMetadata": {
      "byteLimit": 2048000,
      "rowLimit": 10000
     },
     "inputWidgets": {},
     "nuid": "1c3f55ec-0339-47af-8b55-924dbb9bc042",
     "showTitle": false,
     "tableResultSettingsMap": {},
     "title": ""
    }
   },
   "source": [
    "# LightGBM Regressor training\n",
    "- This is an auto-generated notebook.\n",
    "- To reproduce these results, attach this notebook to a cluster with runtime version **16.0.x-cpu-ml-scala2.12**, and rerun it.\n",
    "- Compare trials in the [MLflow experiment](#mlflow/experiments/1000622678751943).\n",
    "- Clone this notebook into your project folder by selecting **File > Clone** in the notebook toolbar."
   ]
  },
  {
   "cell_type": "code",
   "execution_count": 0,
   "metadata": {
    "application/vnd.databricks.v1+cell": {
     "cellMetadata": {
      "byteLimit": 2048000,
      "rowLimit": 10000
     },
     "inputWidgets": {},
     "nuid": "42ec2294-099f-4cf2-a5c1-943853dcad12",
     "showTitle": false,
     "tableResultSettingsMap": {},
     "title": ""
    },
    "execution": {
     "iopub.execute_input": "2024-12-04T02:34:58.008690Z",
     "iopub.status.busy": "2024-12-04T02:34:58.005286Z",
     "iopub.status.idle": "2024-12-04T02:34:58.035401Z",
     "shell.execute_reply": "2024-12-04T02:34:58.033912Z"
    }
   },
   "outputs": [],
   "source": [
    "import mlflow\n",
    "import databricks.automl_runtime\n",
    "\n",
    "target_col = \"views\""
   ]
  },
  {
   "cell_type": "markdown",
   "metadata": {
    "application/vnd.databricks.v1+cell": {
     "cellMetadata": {
      "byteLimit": 2048000,
      "rowLimit": 10000
     },
     "inputWidgets": {},
     "nuid": "230fba29-2903-4fc8-9400-42d8a42abaac",
     "showTitle": false,
     "tableResultSettingsMap": {},
     "title": ""
    }
   },
   "source": [
    "## Load Data"
   ]
  },
  {
   "cell_type": "code",
   "execution_count": 0,
   "metadata": {
    "application/vnd.databricks.v1+cell": {
     "cellMetadata": {
      "byteLimit": 2048000,
      "rowLimit": 10000
     },
     "inputWidgets": {},
     "nuid": "24827489-a975-4c70-b3fe-8f317bd725f7",
     "showTitle": false,
     "tableResultSettingsMap": {},
     "title": ""
    },
    "execution": {
     "iopub.execute_input": "2024-12-04T02:34:58.046729Z",
     "iopub.status.busy": "2024-12-04T02:34:58.045872Z",
     "iopub.status.idle": "2024-12-04T02:35:03.503730Z",
     "shell.execute_reply": "2024-12-04T02:35:03.502553Z"
    }
   },
   "outputs": [
    {
     "output_type": "display_data",
     "data": {
      "application/vnd.jupyter.widget-view+json": {
       "model_id": "14bd5889a29e415ea747c57dc7cc67cc",
       "version_major": 2,
       "version_minor": 0
      },
      "text/plain": [
       "Downloading artifacts:   0%|          | 0/1 [00:00<?, ?it/s]"
      ]
     },
     "metadata": {},
     "output_type": "display_data"
    },
    {
     "output_type": "display_data",
     "data": {
      "text/html": [
       "<style scoped>\n",
       "  .table-result-container {\n",
       "    max-height: 300px;\n",
       "    overflow: auto;\n",
       "  }\n",
       "  table, th, td {\n",
       "    border: 1px solid black;\n",
       "    border-collapse: collapse;\n",
       "  }\n",
       "  th, td {\n",
       "    padding: 5px;\n",
       "  }\n",
       "  th {\n",
       "    text-align: left;\n",
       "  }\n",
       "</style><div class='table-result-container'><table class='table-result'><thead style='background-color: white'><tr><th>remote_allowed</th><th>work_type_Contract</th><th>work_type_Full-time</th><th>work_type_Internship</th><th>work_type_Other</th><th>work_type_Part-time</th><th>work_type_Temporary</th><th>work_type_Volunteer</th><th>experience_Associate</th><th>experience_Director</th><th>experience_Entry_level</th><th>experience_Executive</th><th>experience_Internship</th><th>experience_Mid-Senior_level</th><th>experience_unspecified</th><th>pay_period_BIWEEKLY</th><th>pay_period_HOURLY</th><th>pay_period_MONTHLY</th><th>pay_period_WEEKLY</th><th>pay_period_YEARLY</th><th>currency_BBD</th><th>currency_CAD</th><th>currency_EUR</th><th>currency_GBP</th><th>currency_USD</th><th>app_type_ComplexOnsiteApply</th><th>app_type_OffsiteApply</th><th>app_type_SimpleOnsiteApply</th><th>app_type_UnknownApply</th><th>link_to_application</th><th>title_length</th><th>days_listed</th><th>views</th><th>_automl_split_col_0000</th></tr></thead><tbody><tr><td>0.0</td><td>0</td><td>1</td><td>0</td><td>0</td><td>0</td><td>0</td><td>0</td><td>0</td><td>0</td><td>1</td><td>0</td><td>0</td><td>0</td><td>0</td><td>0</td><td>0</td><td>0</td><td>0</td><td>0</td><td>0</td><td>0</td><td>0</td><td>0</td><td>0</td><td>0</td><td>1</td><td>0</td><td>0</td><td>1</td><td>87</td><td>30</td><td>4.0</td><td>train</td></tr><tr><td>0.0</td><td>0</td><td>1</td><td>0</td><td>0</td><td>0</td><td>0</td><td>0</td><td>0</td><td>0</td><td>0</td><td>0</td><td>0</td><td>0</td><td>1</td><td>0</td><td>0</td><td>0</td><td>0</td><td>0</td><td>0</td><td>0</td><td>0</td><td>0</td><td>0</td><td>0</td><td>1</td><td>0</td><td>0</td><td>1</td><td>16</td><td>30</td><td>10.0</td><td>train</td></tr><tr><td>0.0</td><td>0</td><td>1</td><td>0</td><td>0</td><td>0</td><td>0</td><td>0</td><td>0</td><td>0</td><td>0</td><td>0</td><td>0</td><td>0</td><td>1</td><td>0</td><td>0</td><td>0</td><td>0</td><td>0</td><td>0</td><td>0</td><td>0</td><td>0</td><td>0</td><td>0</td><td>0</td><td>1</td><td>0</td><td>0</td><td>16</td><td>30</td><td>20.0</td><td>train</td></tr><tr><td>0.0</td><td>0</td><td>1</td><td>0</td><td>0</td><td>0</td><td>0</td><td>0</td><td>0</td><td>0</td><td>0</td><td>0</td><td>0</td><td>1</td><td>0</td><td>0</td><td>0</td><td>0</td><td>0</td><td>0</td><td>0</td><td>0</td><td>0</td><td>0</td><td>0</td><td>0</td><td>1</td><td>0</td><td>0</td><td>1</td><td>18</td><td>30</td><td>4.0</td><td>train</td></tr><tr><td>0.0</td><td>0</td><td>1</td><td>0</td><td>0</td><td>0</td><td>0</td><td>0</td><td>0</td><td>0</td><td>0</td><td>0</td><td>0</td><td>0</td><td>1</td><td>0</td><td>0</td><td>0</td><td>0</td><td>0</td><td>0</td><td>0</td><td>0</td><td>0</td><td>0</td><td>0</td><td>1</td><td>0</td><td>0</td><td>1</td><td>55</td><td>30</td><td>4.0</td><td>train</td></tr></tbody></table></div>"
      ]
     },
     "metadata": {
      "application/vnd.databricks.v1+output": {
       "addedWidgets": {},
       "aggData": [],
       "aggError": "",
       "aggOverflow": false,
       "aggSchema": [],
       "aggSeriesLimitReached": false,
       "aggType": "",
       "arguments": {},
       "columnCustomDisplayInfos": {},
       "data": [
        [
         0.0,
         0,
         1,
         0,
         0,
         0,
         0,
         0,
         0,
         0,
         1,
         0,
         0,
         0,
         0,
         0,
         0,
         0,
         0,
         0,
         0,
         0,
         0,
         0,
         0,
         0,
         1,
         0,
         0,
         1,
         87,
         30,
         4.0,
         "train"
        ],
        [
         0.0,
         0,
         1,
         0,
         0,
         0,
         0,
         0,
         0,
         0,
         0,
         0,
         0,
         0,
         1,
         0,
         0,
         0,
         0,
         0,
         0,
         0,
         0,
         0,
         0,
         0,
         1,
         0,
         0,
         1,
         16,
         30,
         10.0,
         "train"
        ],
        [
         0.0,
         0,
         1,
         0,
         0,
         0,
         0,
         0,
         0,
         0,
         0,
         0,
         0,
         0,
         1,
         0,
         0,
         0,
         0,
         0,
         0,
         0,
         0,
         0,
         0,
         0,
         0,
         1,
         0,
         0,
         16,
         30,
         20.0,
         "train"
        ],
        [
         0.0,
         0,
         1,
         0,
         0,
         0,
         0,
         0,
         0,
         0,
         0,
         0,
         0,
         1,
         0,
         0,
         0,
         0,
         0,
         0,
         0,
         0,
         0,
         0,
         0,
         0,
         1,
         0,
         0,
         1,
         18,
         30,
         4.0,
         "train"
        ],
        [
         0.0,
         0,
         1,
         0,
         0,
         0,
         0,
         0,
         0,
         0,
         0,
         0,
         0,
         0,
         1,
         0,
         0,
         0,
         0,
         0,
         0,
         0,
         0,
         0,
         0,
         0,
         1,
         0,
         0,
         1,
         55,
         30,
         4.0,
         "train"
        ]
       ],
       "datasetInfos": [],
       "dbfsResultPath": null,
       "isJsonSchema": true,
       "metadata": {},
       "overflow": false,
       "plotOptions": {
        "customPlotOptions": {},
        "displayType": "table",
        "pivotAggregation": null,
        "pivotColumns": null,
        "xColumns": null,
        "yColumns": null
       },
       "removedWidgets": [],
       "schema": [
        {
         "metadata": "{}",
         "name": "remote_allowed",
         "type": "\"double\""
        },
        {
         "metadata": "{}",
         "name": "work_type_Contract",
         "type": "\"long\""
        },
        {
         "metadata": "{}",
         "name": "work_type_Full-time",
         "type": "\"long\""
        },
        {
         "metadata": "{}",
         "name": "work_type_Internship",
         "type": "\"long\""
        },
        {
         "metadata": "{}",
         "name": "work_type_Other",
         "type": "\"long\""
        },
        {
         "metadata": "{}",
         "name": "work_type_Part-time",
         "type": "\"long\""
        },
        {
         "metadata": "{}",
         "name": "work_type_Temporary",
         "type": "\"long\""
        },
        {
         "metadata": "{}",
         "name": "work_type_Volunteer",
         "type": "\"long\""
        },
        {
         "metadata": "{}",
         "name": "experience_Associate",
         "type": "\"long\""
        },
        {
         "metadata": "{}",
         "name": "experience_Director",
         "type": "\"long\""
        },
        {
         "metadata": "{}",
         "name": "experience_Entry_level",
         "type": "\"long\""
        },
        {
         "metadata": "{}",
         "name": "experience_Executive",
         "type": "\"long\""
        },
        {
         "metadata": "{}",
         "name": "experience_Internship",
         "type": "\"long\""
        },
        {
         "metadata": "{}",
         "name": "experience_Mid-Senior_level",
         "type": "\"long\""
        },
        {
         "metadata": "{}",
         "name": "experience_unspecified",
         "type": "\"long\""
        },
        {
         "metadata": "{}",
         "name": "pay_period_BIWEEKLY",
         "type": "\"long\""
        },
        {
         "metadata": "{}",
         "name": "pay_period_HOURLY",
         "type": "\"long\""
        },
        {
         "metadata": "{}",
         "name": "pay_period_MONTHLY",
         "type": "\"long\""
        },
        {
         "metadata": "{}",
         "name": "pay_period_WEEKLY",
         "type": "\"long\""
        },
        {
         "metadata": "{}",
         "name": "pay_period_YEARLY",
         "type": "\"long\""
        },
        {
         "metadata": "{}",
         "name": "currency_BBD",
         "type": "\"long\""
        },
        {
         "metadata": "{}",
         "name": "currency_CAD",
         "type": "\"long\""
        },
        {
         "metadata": "{}",
         "name": "currency_EUR",
         "type": "\"long\""
        },
        {
         "metadata": "{}",
         "name": "currency_GBP",
         "type": "\"long\""
        },
        {
         "metadata": "{}",
         "name": "currency_USD",
         "type": "\"long\""
        },
        {
         "metadata": "{}",
         "name": "app_type_ComplexOnsiteApply",
         "type": "\"long\""
        },
        {
         "metadata": "{}",
         "name": "app_type_OffsiteApply",
         "type": "\"long\""
        },
        {
         "metadata": "{}",
         "name": "app_type_SimpleOnsiteApply",
         "type": "\"long\""
        },
        {
         "metadata": "{}",
         "name": "app_type_UnknownApply",
         "type": "\"long\""
        },
        {
         "metadata": "{}",
         "name": "link_to_application",
         "type": "\"long\""
        },
        {
         "metadata": "{}",
         "name": "title_length",
         "type": "\"long\""
        },
        {
         "metadata": "{}",
         "name": "days_listed",
         "type": "\"long\""
        },
        {
         "metadata": "{}",
         "name": "views",
         "type": "\"double\""
        },
        {
         "metadata": "{}",
         "name": "_automl_split_col_0000",
         "type": "\"string\""
        }
       ],
       "type": "table"
      }
     },
     "output_type": "display_data"
    }
   ],
   "source": [
    "import mlflow\n",
    "import os\n",
    "import uuid\n",
    "import shutil\n",
    "import pandas as pd\n",
    "\n",
    "# Create temp directory to download input data from MLflow\n",
    "input_temp_dir = os.path.join(os.environ[\"SPARK_LOCAL_DIRS\"], \"tmp\", str(uuid.uuid4())[:8])\n",
    "os.makedirs(input_temp_dir)\n",
    "\n",
    "\n",
    "# Download the artifact and read it into a pandas DataFrame\n",
    "input_data_path = mlflow.artifacts.download_artifacts(run_id=\"63dd1a5d2cd543b787964afe0ac888bc\", artifact_path=\"data\", dst_path=input_temp_dir)\n",
    "\n",
    "df_loaded = pd.read_parquet(os.path.join(input_data_path, \"training_data\"))\n",
    "# Delete the temp data\n",
    "shutil.rmtree(input_temp_dir)\n",
    "\n",
    "# Preview data\n",
    "display(df_loaded.head(5))"
   ]
  },
  {
   "cell_type": "markdown",
   "metadata": {
    "application/vnd.databricks.v1+cell": {
     "cellMetadata": {
      "byteLimit": 2048000,
      "rowLimit": 10000
     },
     "inputWidgets": {},
     "nuid": "0c42e541-b9ab-4e46-b82b-07f655f4e4aa",
     "showTitle": false,
     "tableResultSettingsMap": {},
     "title": ""
    }
   },
   "source": [
    "### Select supported columns\n",
    "Select only the columns that are supported. This allows us to train a model that can predict on a dataset that has extra columns that are not used in training.\n",
    "`[\"app_type_UnknownApply\"]` are dropped in the pipelines. See the Alerts tab of the AutoML Experiment page for details on why these columns are dropped."
   ]
  },
  {
   "cell_type": "code",
   "execution_count": 0,
   "metadata": {
    "application/vnd.databricks.v1+cell": {
     "cellMetadata": {
      "byteLimit": 2048000,
      "rowLimit": 10000
     },
     "inputWidgets": {},
     "nuid": "2f137665-0bf5-4c45-b790-8ec62c7f0258",
     "showTitle": false,
     "tableResultSettingsMap": {},
     "title": ""
    },
    "execution": {
     "iopub.execute_input": "2024-12-04T02:35:03.514765Z",
     "iopub.status.busy": "2024-12-04T02:35:03.513968Z",
     "iopub.status.idle": "2024-12-04T02:35:06.331760Z",
     "shell.execute_reply": "2024-12-04T02:35:06.309445Z"
    }
   },
   "outputs": [],
   "source": [
    "from databricks.automl_runtime.sklearn.column_selector import ColumnSelector\n",
    "supported_cols = [\"pay_period_WEEKLY\", \"title_length\", \"experience_Executive\", \"pay_period_YEARLY\", \"work_type_Internship\", \"work_type_Part-time\", \"work_type_Contract\", \"currency_BBD\", \"app_type_ComplexOnsiteApply\", \"experience_Internship\", \"experience_Mid-Senior_level\", \"work_type_Full-time\", \"pay_period_MONTHLY\", \"experience_Director\", \"pay_period_HOURLY\", \"experience_Entry_level\", \"currency_GBP\", \"currency_EUR\", \"currency_CAD\", \"experience_Associate\", \"remote_allowed\", \"days_listed\", \"work_type_Volunteer\", \"link_to_application\", \"currency_USD\", \"work_type_Other\", \"experience_unspecified\", \"work_type_Temporary\", \"app_type_SimpleOnsiteApply\", \"app_type_OffsiteApply\", \"pay_period_BIWEEKLY\"]\n",
    "col_selector = ColumnSelector(supported_cols)"
   ]
  },
  {
   "cell_type": "markdown",
   "metadata": {
    "application/vnd.databricks.v1+cell": {
     "cellMetadata": {
      "byteLimit": 2048000,
      "rowLimit": 10000
     },
     "inputWidgets": {},
     "nuid": "024e64e7-9e6b-42f1-96e5-d9ae783d1453",
     "showTitle": false,
     "tableResultSettingsMap": {},
     "title": ""
    }
   },
   "source": [
    "## Preprocessors"
   ]
  },
  {
   "cell_type": "markdown",
   "metadata": {
    "application/vnd.databricks.v1+cell": {
     "cellMetadata": {
      "byteLimit": 2048000,
      "rowLimit": 10000
     },
     "inputWidgets": {},
     "nuid": "5c383c83-18d7-49e9-b62b-8662fecea3f1",
     "showTitle": false,
     "tableResultSettingsMap": {},
     "title": ""
    }
   },
   "source": [
    "### Boolean columns\n",
    "For each column, impute missing values and then convert into ones and zeros."
   ]
  },
  {
   "cell_type": "code",
   "execution_count": 0,
   "metadata": {
    "application/vnd.databricks.v1+cell": {
     "cellMetadata": {
      "byteLimit": 2048000,
      "rowLimit": 10000
     },
     "inputWidgets": {},
     "nuid": "33162350-b9d4-4021-b7bb-f2006e2973a4",
     "showTitle": false,
     "tableResultSettingsMap": {},
     "title": ""
    },
    "execution": {
     "iopub.execute_input": "2024-12-04T02:35:06.338103Z",
     "iopub.status.busy": "2024-12-04T02:35:06.336185Z",
     "iopub.status.idle": "2024-12-04T02:35:06.353594Z",
     "shell.execute_reply": "2024-12-04T02:35:06.352549Z"
    }
   },
   "outputs": [],
   "source": [
    "from sklearn.compose import ColumnTransformer\n",
    "from sklearn.impute import SimpleImputer\n",
    "from sklearn.pipeline import Pipeline\n",
    "from sklearn.preprocessing import FunctionTransformer\n",
    "from sklearn.preprocessing import OneHotEncoder as SklearnOneHotEncoder\n",
    "\n",
    "\n",
    "bool_imputers = []\n",
    "\n",
    "bool_pipeline = Pipeline(steps=[\n",
    "    (\"cast_type\", FunctionTransformer(lambda df: df.astype(object))),\n",
    "    (\"imputers\", ColumnTransformer(bool_imputers, remainder=\"passthrough\")),\n",
    "    (\"onehot\", SklearnOneHotEncoder(handle_unknown=\"ignore\", drop=\"first\")),\n",
    "])\n",
    "\n",
    "bool_transformers = [(\"boolean\", bool_pipeline, [\"pay_period_WEEKLY\", \"experience_Executive\", \"pay_period_YEARLY\", \"work_type_Internship\", \"work_type_Part-time\", \"work_type_Contract\", \"currency_BBD\", \"app_type_ComplexOnsiteApply\", \"experience_Internship\", \"experience_Mid-Senior_level\", \"work_type_Full-time\", \"pay_period_MONTHLY\", \"experience_Director\", \"pay_period_HOURLY\", \"experience_Entry_level\", \"currency_GBP\", \"currency_EUR\", \"currency_CAD\", \"experience_Associate\", \"remote_allowed\", \"work_type_Volunteer\", \"link_to_application\", \"currency_USD\", \"work_type_Other\", \"experience_unspecified\", \"work_type_Temporary\", \"app_type_SimpleOnsiteApply\", \"app_type_OffsiteApply\", \"pay_period_BIWEEKLY\"])]"
   ]
  },
  {
   "cell_type": "markdown",
   "metadata": {
    "application/vnd.databricks.v1+cell": {
     "cellMetadata": {
      "byteLimit": 2048000,
      "rowLimit": 10000
     },
     "inputWidgets": {},
     "nuid": "662929c6-4cbe-454b-8a51-52648e7f8a07",
     "showTitle": false,
     "tableResultSettingsMap": {},
     "title": ""
    }
   },
   "source": [
    "### Numerical columns\n",
    "\n",
    "Missing values for numerical columns are imputed with mean by default."
   ]
  },
  {
   "cell_type": "code",
   "execution_count": 0,
   "metadata": {
    "application/vnd.databricks.v1+cell": {
     "cellMetadata": {
      "byteLimit": 2048000,
      "rowLimit": 10000
     },
     "inputWidgets": {},
     "nuid": "948badd4-a1ce-42d6-ac37-dd771336f1cc",
     "showTitle": false,
     "tableResultSettingsMap": {},
     "title": ""
    },
    "execution": {
     "iopub.execute_input": "2024-12-04T02:35:06.360265Z",
     "iopub.status.busy": "2024-12-04T02:35:06.358707Z",
     "iopub.status.idle": "2024-12-04T02:35:06.389870Z",
     "shell.execute_reply": "2024-12-04T02:35:06.388942Z"
    }
   },
   "outputs": [],
   "source": [
    "from sklearn.compose import ColumnTransformer\n",
    "from sklearn.impute import SimpleImputer\n",
    "from sklearn.pipeline import Pipeline\n",
    "from sklearn.preprocessing import FunctionTransformer, StandardScaler\n",
    "\n",
    "num_imputers = []\n",
    "num_imputers.append((\"impute_mean\", SimpleImputer(), [\"app_type_ComplexOnsiteApply\", \"app_type_OffsiteApply\", \"app_type_SimpleOnsiteApply\", \"currency_BBD\", \"currency_CAD\", \"currency_EUR\", \"currency_GBP\", \"currency_USD\", \"days_listed\", \"experience_Associate\", \"experience_Director\", \"experience_Entry_level\", \"experience_Executive\", \"experience_Internship\", \"experience_Mid-Senior_level\", \"experience_unspecified\", \"link_to_application\", \"pay_period_BIWEEKLY\", \"pay_period_HOURLY\", \"pay_period_MONTHLY\", \"pay_period_WEEKLY\", \"pay_period_YEARLY\", \"remote_allowed\", \"title_length\", \"work_type_Contract\", \"work_type_Full-time\", \"work_type_Internship\", \"work_type_Other\", \"work_type_Part-time\", \"work_type_Temporary\", \"work_type_Volunteer\"]))\n",
    "\n",
    "numerical_pipeline = Pipeline(steps=[\n",
    "    (\"converter\", FunctionTransformer(lambda df: df.apply(pd.to_numeric, errors='coerce'))),\n",
    "    (\"imputers\", ColumnTransformer(num_imputers)),\n",
    "    (\"standardizer\", StandardScaler()),\n",
    "])\n",
    "\n",
    "numerical_transformers = [(\"numerical\", numerical_pipeline, [\"pay_period_WEEKLY\", \"title_length\", \"experience_Executive\", \"pay_period_YEARLY\", \"work_type_Internship\", \"work_type_Part-time\", \"work_type_Contract\", \"currency_BBD\", \"app_type_ComplexOnsiteApply\", \"experience_Internship\", \"experience_Mid-Senior_level\", \"work_type_Full-time\", \"pay_period_MONTHLY\", \"experience_Director\", \"pay_period_HOURLY\", \"experience_Entry_level\", \"currency_GBP\", \"currency_EUR\", \"currency_CAD\", \"experience_Associate\", \"remote_allowed\", \"days_listed\", \"work_type_Volunteer\", \"link_to_application\", \"currency_USD\", \"work_type_Other\", \"experience_unspecified\", \"work_type_Temporary\", \"app_type_SimpleOnsiteApply\", \"app_type_OffsiteApply\", \"pay_period_BIWEEKLY\"])]"
   ]
  },
  {
   "cell_type": "code",
   "execution_count": 0,
   "metadata": {
    "application/vnd.databricks.v1+cell": {
     "cellMetadata": {
      "byteLimit": 2048000,
      "rowLimit": 10000
     },
     "inputWidgets": {},
     "nuid": "4a53bd51-d6d0-4809-8680-c260e4b31754",
     "showTitle": false,
     "tableResultSettingsMap": {},
     "title": ""
    },
    "execution": {
     "iopub.execute_input": "2024-12-04T02:35:06.401187Z",
     "iopub.status.busy": "2024-12-04T02:35:06.399085Z",
     "iopub.status.idle": "2024-12-04T02:35:06.413144Z",
     "shell.execute_reply": "2024-12-04T02:35:06.407867Z"
    }
   },
   "outputs": [],
   "source": [
    "from sklearn.compose import ColumnTransformer\n",
    "\n",
    "transformers = bool_transformers + numerical_transformers\n",
    "\n",
    "preprocessor = ColumnTransformer(transformers, remainder=\"passthrough\", sparse_threshold=0)"
   ]
  },
  {
   "cell_type": "markdown",
   "metadata": {
    "application/vnd.databricks.v1+cell": {
     "cellMetadata": {
      "byteLimit": 2048000,
      "rowLimit": 10000
     },
     "inputWidgets": {},
     "nuid": "79f7ed34-0c9e-4488-a3b3-98fac60c3426",
     "showTitle": false,
     "tableResultSettingsMap": {},
     "title": ""
    }
   },
   "source": [
    "## Train - Validation - Test Split\n",
    "The input data is split by AutoML into 3 sets:\n",
    "- Train (60% of the dataset used to train the model)\n",
    "- Validation (20% of the dataset used to tune the hyperparameters of the model)\n",
    "- Test (20% of the dataset used to report the true performance of the model on an unseen dataset)\n",
    "\n",
    "`_automl_split_col_0000` contains the information of which set a given row belongs to.\n",
    "We use this column to split the dataset into the above 3 sets. \n",
    "The column should not be used for training so it is dropped after split is done."
   ]
  },
  {
   "cell_type": "code",
   "execution_count": 0,
   "metadata": {
    "application/vnd.databricks.v1+cell": {
     "cellMetadata": {
      "byteLimit": 2048000,
      "rowLimit": 10000
     },
     "inputWidgets": {},
     "nuid": "8ecefd67-4fb6-4756-aae0-5b745f302097",
     "showTitle": false,
     "tableResultSettingsMap": {},
     "title": ""
    },
    "execution": {
     "iopub.execute_input": "2024-12-04T02:35:06.431331Z",
     "iopub.status.busy": "2024-12-04T02:35:06.420591Z",
     "iopub.status.idle": "2024-12-04T02:35:06.728444Z",
     "shell.execute_reply": "2024-12-04T02:35:06.727305Z"
    }
   },
   "outputs": [],
   "source": [
    "# AutoML completed train - validation - test split internally and used _automl_split_col_0000 to specify the set\n",
    "split_train_df = df_loaded.loc[df_loaded._automl_split_col_0000 == \"train\"]\n",
    "split_val_df = df_loaded.loc[df_loaded._automl_split_col_0000 == \"validate\"]\n",
    "split_test_df = df_loaded.loc[df_loaded._automl_split_col_0000 == \"test\"]\n",
    "\n",
    "# Separate target column from features and drop _automl_split_col_0000\n",
    "X_train = split_train_df.drop([target_col, \"_automl_split_col_0000\"], axis=1)\n",
    "y_train = split_train_df[target_col]\n",
    "\n",
    "X_val = split_val_df.drop([target_col, \"_automl_split_col_0000\"], axis=1)\n",
    "y_val = split_val_df[target_col]\n",
    "\n",
    "X_test = split_test_df.drop([target_col, \"_automl_split_col_0000\"], axis=1)\n",
    "y_test = split_test_df[target_col]"
   ]
  },
  {
   "cell_type": "markdown",
   "metadata": {
    "application/vnd.databricks.v1+cell": {
     "cellMetadata": {
      "byteLimit": 2048000,
      "rowLimit": 10000
     },
     "inputWidgets": {},
     "nuid": "b2ae1f96-c1b1-4e62-a221-29c4b82d8651",
     "showTitle": false,
     "tableResultSettingsMap": {},
     "title": ""
    }
   },
   "source": [
    "## Train regression model\n",
    "- Log relevant metrics to MLflow to track runs\n",
    "- All the runs are logged under [this MLflow experiment](#mlflow/experiments/1000622678751943)\n",
    "- Change the model parameters and re-run the training cell to log a different trial to the MLflow experiment\n",
    "- To view the full list of tunable hyperparameters, check the output of the cell below"
   ]
  },
  {
   "cell_type": "code",
   "execution_count": 0,
   "metadata": {
    "application/vnd.databricks.v1+cell": {
     "cellMetadata": {
      "byteLimit": 2048000,
      "rowLimit": 10000
     },
     "inputWidgets": {},
     "nuid": "48e304c4-5d32-4107-8e3a-b7af063f381c",
     "showTitle": false,
     "tableResultSettingsMap": {},
     "title": ""
    },
    "execution": {
     "iopub.execute_input": "2024-12-04T02:35:06.739563Z",
     "iopub.status.busy": "2024-12-04T02:35:06.735856Z",
     "iopub.status.idle": "2024-12-04T02:35:06.951137Z",
     "shell.execute_reply": "2024-12-04T02:35:06.950116Z"
    }
   },
   "outputs": [
    {
     "output_type": "stream",
     "name": "stdout",
     "output_type": "stream",
     "text": [
      "Help on class LGBMRegressor in module lightgbm.sklearn:\n\nclass LGBMRegressor(sklearn.base.RegressorMixin, LGBMModel)\n |  LGBMRegressor(boosting_type: str = 'gbdt', num_leaves: int = 31, max_depth: int = -1, learning_rate: float = 0.1, n_estimators: int = 100, subsample_for_bin: int = 200000, objective: Union[str, Callable[[Optional[numpy.ndarray], numpy.ndarray], Tuple[numpy.ndarray, numpy.ndarray]], Callable[[Optional[numpy.ndarray], numpy.ndarray, Optional[numpy.ndarray]], Tuple[numpy.ndarray, numpy.ndarray]], Callable[[Optional[numpy.ndarray], numpy.ndarray, Optional[numpy.ndarray], Optional[numpy.ndarray]], Tuple[numpy.ndarray, numpy.ndarray]], NoneType] = None, class_weight: Union[Dict, str, NoneType] = None, min_split_gain: float = 0.0, min_child_weight: float = 0.001, min_child_samples: int = 20, subsample: float = 1.0, subsample_freq: int = 0, colsample_bytree: float = 1.0, reg_alpha: float = 0.0, reg_lambda: float = 0.0, random_state: Union[int, numpy.random.mtrand.RandomState, numpy.random._generator.Generator, NoneType] = None, n_jobs: Optional[int] = None, importance_type: str = 'split', **kwargs: Any)\n |\n |  LightGBM regressor.\n |\n |  Method resolution order:\n |      LGBMRegressor\n |      sklearn.base.RegressorMixin\n |      LGBMModel\n |      sklearn.base.BaseEstimator\n |      sklearn.utils._estimator_html_repr._HTMLDocumentationLinkMixin\n |      sklearn.utils._metadata_requests._MetadataRequester\n |      builtins.object\n |\n |  Methods defined here:\n |\n |  fit(self, X: Union[lightgbm.compat.dt_DataTable, List[Union[List[float], List[int]]], numpy.ndarray, pandas.core.frame.DataFrame, scipy.sparse._matrix.spmatrix], y: Union[List[float], List[int], numpy.ndarray, pandas.core.series.Series, pandas.core.frame.DataFrame, pyarrow.lib.Array, pyarrow.lib.ChunkedArray], sample_weight: Union[List[float], List[int], numpy.ndarray, pandas.core.series.Series, pyarrow.lib.Array, pyarrow.lib.ChunkedArray, NoneType] = None, init_score: Union[List[float], List[List[float]], numpy.ndarray, pandas.core.series.Series, pandas.core.frame.DataFrame, pyarrow.lib.Table, pyarrow.lib.Array, pyarrow.lib.ChunkedArray, NoneType] = None, eval_set: Optional[List[Tuple[Union[lightgbm.compat.dt_DataTable, List[Union[List[float], List[int]]], numpy.ndarray, pandas.core.frame.DataFrame, scipy.sparse._matrix.spmatrix], Union[List[float], List[int], numpy.ndarray, pandas.core.series.Series, pandas.core.frame.DataFrame, pyarrow.lib.Array, pyarrow.lib.ChunkedArray]]]] = None, eval_names: Optional[List[str]] = None, eval_sample_weight: Optional[List[Union[List[float], List[int], numpy.ndarray, pandas.core.series.Series, pyarrow.lib.Array, pyarrow.lib.ChunkedArray]]] = None, eval_init_score: Optional[List[Union[List[float], List[List[float]], numpy.ndarray, pandas.core.series.Series, pandas.core.frame.DataFrame, pyarrow.lib.Table, pyarrow.lib.Array, pyarrow.lib.ChunkedArray]]] = None, eval_metric: Union[str, Callable[[Optional[numpy.ndarray], numpy.ndarray], Tuple[str, float, bool]], Callable[[Optional[numpy.ndarray], numpy.ndarray], List[Tuple[str, float, bool]]], Callable[[Optional[numpy.ndarray], numpy.ndarray, Optional[numpy.ndarray]], Tuple[str, float, bool]], Callable[[Optional[numpy.ndarray], numpy.ndarray, Optional[numpy.ndarray]], List[Tuple[str, float, bool]]], Callable[[Optional[numpy.ndarray], numpy.ndarray, Optional[numpy.ndarray], Optional[numpy.ndarray]], Tuple[str, float, bool]], Callable[[Optional[numpy.ndarray], numpy.ndarray, Optional[numpy.ndarray], Optional[numpy.ndarray]], List[Tuple[str, float, bool]]], List[Union[str, Callable[[Optional[numpy.ndarray], numpy.ndarray], Tuple[str, float, bool]], Callable[[Optional[numpy.ndarray], numpy.ndarray], List[Tuple[str, float, bool]]], Callable[[Optional[numpy.ndarray], numpy.ndarray, Optional[numpy.ndarray]], Tuple[str, float, bool]], Callable[[Optional[numpy.ndarray], numpy.ndarray, Optional[numpy.ndarray]], List[Tuple[str, float, bool]]], Callable[[Optional[numpy.ndarray], numpy.ndarray, Optional[numpy.ndarray], Optional[numpy.ndarray]], Tuple[str, float, bool]], Callable[[Optional[numpy.ndarray], numpy.ndarray, Optional[numpy.ndarray], Optional[numpy.ndarray]], List[Tuple[str, float, bool]]]]], NoneType] = None, feature_name: Union[List[str], ForwardRef(\"Literal['auto']\")] = 'auto', categorical_feature: Union[List[str], List[int], ForwardRef(\"Literal['auto']\")] = 'auto', callbacks: Optional[List[Callable]] = None, init_model: Union[str, pathlib.Path, lightgbm.basic.Booster, lightgbm.sklearn.LGBMModel, NoneType] = None) -> 'LGBMRegressor'\n |      Build a gradient boosting model from the training set (X, y).\n |\n |      Parameters\n |      ----------\n |      X : numpy array, pandas DataFrame, H2O DataTable's Frame , scipy.sparse, list of lists of int or float of shape = [n_samples, n_features]\n |          Input feature matrix.\n |      y : numpy array, pandas DataFrame, pandas Series, list of int or float of shape = [n_samples]\n |          The target values (class labels in classification, real numbers in regression).\n |      sample_weight : numpy array, pandas Series, list of int or float of shape = [n_samples] or None, optional (default=None)\n |          Weights of training data. Weights should be non-negative.\n |      init_score : numpy array, pandas DataFrame, pandas Series, list of int or float of shape = [n_samples] or shape = [n_samples * n_classes] (for multi-class task) or shape = [n_samples, n_classes] (for multi-class task) or None, optional (default=None)\n |          Init score of training data.\n |      eval_set : list or None, optional (default=None)\n |          A list of (X, y) tuple pairs to use as validation sets.\n |      eval_names : list of str, or None, optional (default=None)\n |          Names of eval_set.\n |      eval_sample_weight : list of array (same types as ``sample_weight`` supports), or None, optional (default=None)\n |          Weights of eval data. Weights should be non-negative.\n |      eval_init_score : list of array (same types as ``init_score`` supports), or None, optional (default=None)\n |          Init score of eval data.\n |      eval_metric : str, callable, list or None, optional (default=None)\n |          If str, it should be a built-in evaluation metric to use.\n |          If callable, it should be a custom evaluation metric, see note below for more details.\n |          If list, it can be a list of built-in metrics, a list of custom evaluation metrics, or a mix of both.\n |          In either case, the ``metric`` from the model parameters will be evaluated and used as well.\n |          Default: 'l2' for LGBMRegressor, 'logloss' for LGBMClassifier, 'ndcg' for LGBMRanker.\n |      feature_name : list of str, or 'auto', optional (default='auto')\n |          Feature names.\n |          If 'auto' and data is pandas DataFrame, data columns names are used.\n |      categorical_feature : list of str or int, or 'auto', optional (default='auto')\n |          Categorical features.\n |          If list of int, interpreted as indices.\n |          If list of str, interpreted as feature names (need to specify ``feature_name`` as well).\n |          If 'auto' and data is pandas DataFrame, pandas unordered categorical columns are used.\n |          All values in categorical features will be cast to int32 and thus should be less than int32 max value (2147483647).\n |          Large values could be memory consuming. Consider using consecutive integers starting from zero.\n |          All negative values in categorical features will be treated as missing values.\n |          The output cannot be monotonically constrained with respect to a categorical feature.\n |          Floating point numbers in categorical features will be rounded towards 0.\n |      callbacks : list of callable, or None, optional (default=None)\n |          List of callback functions that are applied at each iteration.\n |          See Callbacks in Python API for more information.\n |      init_model : str, pathlib.Path, Booster, LGBMModel or None, optional (default=None)\n |          Filename of LightGBM model, Booster instance or LGBMModel instance used for continue training.\n |\n |      Returns\n |      -------\n |      self : LGBMRegressor\n |          Returns self.\n |\n |\n |\n |      Note\n |      ----\n |      Custom eval function expects a callable with following signatures:\n |      ``func(y_true, y_pred)``, ``func(y_true, y_pred, weight)`` or\n |      ``func(y_true, y_pred, weight, group)``\n |      and returns (eval_name, eval_result, is_higher_better) or\n |      list of (eval_name, eval_result, is_higher_better):\n |\n |          y_true : numpy 1-D array of shape = [n_samples]\n |              The target values.\n |          y_pred : numpy 1-D array of shape = [n_samples] or numpy 2-D array of shape = [n_samples, n_classes] (for multi-class task)\n |              The predicted values.\n |              In case of custom ``objective``, predicted values are returned before any transformation,\n |              e.g. they are raw margin instead of probability of positive class for binary task in this case.\n |          weight : numpy 1-D array of shape = [n_samples]\n |              The weight of samples. Weights should be non-negative.\n |          group : numpy 1-D array\n |              Group/query data.\n |              Only used in the learning-to-rank task.\n |              sum(group) = n_samples.\n |              For example, if you have a 100-document dataset with ``group = [10, 20, 40, 10, 10, 10]``, that means that you have 6 groups,\n |              where the first 10 records are in the first group, records 11-30 are in the second group, records 31-70 are in the third group, etc.\n |          eval_name : str\n |              The name of evaluation function (without whitespace).\n |          eval_result : float\n |              The eval result.\n |          is_higher_better : bool\n |              Is eval result higher better, e.g. AUC is ``is_higher_better``.\n |\n |  predict(self, X: Union[lightgbm.compat.dt_DataTable, List[Union[List[float], List[int]]], numpy.ndarray, pandas.core.frame.DataFrame, scipy.sparse._matrix.spmatrix], raw_score: bool = False, start_iteration: int = 0, num_iteration: Optional[int] = None, pred_leaf: bool = False, pred_contrib: bool = False, validate_features: bool = False, **kwargs: Any) from lightgbm.sklearn.LGBMModel\n |      Return the predicted value for each sample.\n |\n |      Parameters\n |      ----------\n |      X : numpy array, pandas DataFrame, H2O DataTable's Frame , scipy.sparse, list of lists of int or float of shape = [n_samples, n_features]\n |          Input features matrix.\n |      raw_score : bool, optional (default=False)\n |          Whether to predict raw scores.\n |      start_iteration : int, optional (default=0)\n |          Start index of the iteration to predict.\n |          If <= 0, starts from the first iteration.\n |      num_iteration : int or None, optional (default=None)\n |          Total number of iterations used in the prediction.\n |          If None, if the best iteration exists and start_iteration <= 0, the best iteration is used;\n |          otherwise, all iterations from ``start_iteration`` are used (no limits).\n |          If <= 0, all iterations from ``start_iteration`` are used (no limits).\n |      pred_leaf : bool, optional (default=False)\n |          Whether to predict leaf index.\n |      pred_contrib : bool, optional (default=False)\n |          Whether to predict feature contributions.\n |\n |          .. note::\n |\n |              If you want to get more explanations for your model's predictions using SHAP values,\n |              like SHAP interaction values,\n |              you can install the shap package (https://github.com/slundberg/shap).\n |              Note that unlike the shap package, with ``pred_contrib`` we return a matrix with an extra\n |              column, where the last column is the expected value.\n |\n |      validate_features : bool, optional (default=False)\n |          If True, ensure that the features used to predict match the ones used to train.\n |          Used only if data is pandas DataFrame.\n |      **kwargs\n |          Other parameters for the prediction.\n |\n |      Returns\n |      -------\n |      predicted_result : array-like of shape = [n_samples] or shape = [n_samples, n_classes]\n |          The predicted values.\n |      X_leaves : array-like of shape = [n_samples, n_trees] or shape = [n_samples, n_trees * n_classes]\n |          If ``pred_leaf=True``, the predicted leaf of every tree for each sample.\n |      X_SHAP_values : array-like of shape = [n_samples, n_features + 1] or shape = [n_samples, (n_features + 1) * n_classes] or list with n_classes length of such objects\n |          If ``pred_contrib=True``, the feature contributions for each sample.\n |\n |  score(self, X, y, sample_weight=None) from sklearn.base.RegressorMixin\n |      Return the coefficient of determination of the prediction.\n |\n |      The coefficient of determination :math:`R^2` is defined as\n |      :math:`(1 - \\frac{u}{v})`, where :math:`u` is the residual\n |      sum of squares ``((y_true - y_pred)** 2).sum()`` and :math:`v`\n |      is the total sum of squares ``((y_true - y_true.mean()) ** 2).sum()``.\n |      The best possible score is 1.0 and it can be negative (because the\n |      model can be arbitrarily worse). A constant model that always predicts\n |      the expected value of `y`, disregarding the input features, would get\n |      a :math:`R^2` score of 0.0.\n |\n |      Parameters\n |      ----------\n |      X : array-like of shape (n_samples, n_features)\n |          Test samples. For some estimators this may be a precomputed\n |          kernel matrix or a list of generic objects instead with shape\n |          ``(n_samples, n_samples_fitted)``, where ``n_samples_fitted``\n |          is the number of samples used in the fitting for the estimator.\n |\n |      y : array-like of shape (n_samples,) or (n_samples, n_outputs)\n |          True values for `X`.\n |\n |      sample_weight : array-like of shape (n_samples,), default=None\n |          Sample weights.\n |\n |      Returns\n |      -------\n |      score : float\n |          :math:`R^2` of ``self.predict(X)`` w.r.t. `y`.\n |\n |      Notes\n |      -----\n |      The :math:`R^2` score used when calling ``score`` on a regressor uses\n |      ``multioutput='uniform_average'`` from version 0.23 to keep consistent\n |      with default value of :func:`~sklearn.metrics.r2_score`.\n |      This influences the ``score`` method of all the multioutput\n |      regressors (except for\n |      :class:`~sklearn.multioutput.MultiOutputRegressor`).\n |\n |  set_fit_request(self: lightgbm.sklearn.LGBMRegressor, *, callbacks: Union[bool, NoneType, str] = '$UNCHANGED$', categorical_feature: Union[bool, NoneType, str] = '$UNCHANGED$', eval_init_score: Union[bool, NoneType, str] = '$UNCHANGED$', eval_metric: Union[bool, NoneType, str] = '$UNCHANGED$', eval_names: Union[bool, NoneType, str] = '$UNCHANGED$', eval_sample_weight: Union[bool, NoneType, str] = '$UNCHANGED$', eval_set: Union[bool, NoneType, str] = '$UNCHANGED$', feature_name: Union[bool, NoneType, str] = '$UNCHANGED$', init_model: Union[bool, NoneType, str] = '$UNCHANGED$', init_score: Union[bool, NoneType, str] = '$UNCHANGED$', sample_weight: Union[bool, NoneType, str] = '$UNCHANGED$') -> lightgbm.sklearn.LGBMRegressor from sklearn.utils._metadata_requests.RequestMethod.__get__.<locals>\n |      Request metadata passed to the ``fit`` method.\n |\n |      Note that this method is only relevant if\n |      ``enable_metadata_routing=True`` (see :func:`sklearn.set_config`).\n |      Please see :ref:`User Guide <metadata_routing>` on how the routing\n |      mechanism works.\n |\n |      The options for each parameter are:\n |\n |      - ``True``: metadata is requested, and passed to ``fit`` if provided. The request is ignored if metadata is not provided.\n |\n |      - ``False``: metadata is not requested and the meta-estimator will not pass it to ``fit``.\n |\n |      - ``None``: metadata is not requested, and the meta-estimator will raise an error if the user provides it.\n |\n |      - ``str``: metadata should be passed to the meta-estimator with this given alias instead of the original name.\n |\n |      The default (``sklearn.utils.metadata_routing.UNCHANGED``) retains the\n |      existing request. This allows you to change the request for some\n |      parameters and not others.\n |\n |      .. versionadded:: 1.3\n |\n |      .. note::\n |          This method is only relevant if this estimator is used as a\n |          sub-estimator of a meta-estimator, e.g. used inside a\n |          :class:`~sklearn.pipeline.Pipeline`. Otherwise it has no effect.\n |\n |      Parameters\n |      ----------\n |      callbacks : str, True, False, or None,                     default=sklearn.utils.metadata_routing.UNCHANGED\n |          Metadata routing for ``callbacks`` parameter in ``fit``.\n |\n |      categorical_feature : str, True, False, or None,                     default=sklearn.utils.metadata_routing.UNCHANGED\n |          Metadata routing for ``categorical_feature`` parameter in ``fit``.\n |\n |      eval_init_score : str, True, False, or None,                     default=sklearn.utils.metadata_routing.UNCHANGED\n |          Metadata routing for ``eval_init_score`` parameter in ``fit``.\n |\n |      eval_metric : str, True, False, or None,                     default=sklearn.utils.metadata_routing.UNCHANGED\n |          Metadata routing for ``eval_metric`` parameter in ``fit``.\n |\n |      eval_names : str, True, False, or None,                     default=sklearn.utils.metadata_routing.UNCHANGED\n |          Metadata routing for ``eval_names`` parameter in ``fit``.\n |\n |      eval_sample_weight : str, True, False, or None,                     default=sklearn.utils.metadata_routing.UNCHANGED\n |          Metadata routing for ``eval_sample_weight`` parameter in ``fit``.\n |\n |      eval_set : str, True, False, or None,                     default=sklearn.utils.metadata_routing.UNCHANGED\n |          Metadata routing for ``eval_set`` parameter in ``fit``.\n |\n |      feature_name : str, True, False, or None,                     default=sklearn.utils.metadata_routing.UNCHANGED\n |          Metadata routing for ``feature_name`` parameter in ``fit``.\n |\n |      init_model : str, True, False, or None,                     default=sklearn.utils.metadata_routing.UNCHANGED\n |          Metadata routing for ``init_model`` parameter in ``fit``.\n |\n |      init_score : str, True, False, or None,                     default=sklearn.utils.metadata_routing.UNCHANGED\n |          Metadata routing for ``init_score`` parameter in ``fit``.\n |\n |      sample_weight : str, True, False, or None,                     default=sklearn.utils.metadata_routing.UNCHANGED\n |          Metadata routing for ``sample_weight`` parameter in ``fit``.\n |\n |      Returns\n |      -------\n |      self : object\n |          The updated object.\n |\n |  set_predict_request(self: lightgbm.sklearn.LGBMRegressor, *, num_iteration: Union[bool, NoneType, str] = '$UNCHANGED$', pred_contrib: Union[bool, NoneType, str] = '$UNCHANGED$', pred_leaf: Union[bool, NoneType, str] = '$UNCHANGED$', raw_score: Union[bool, NoneType, str] = '$UNCHANGED$', start_iteration: Union[bool, NoneType, str] = '$UNCHANGED$', validate_features: Union[bool, NoneType, str] = '$UNCHANGED$') -> lightgbm.sklearn.LGBMRegressor from sklearn.utils._metadata_requests.RequestMethod.__get__.<locals>\n |      Request metadata passed to the ``predict`` method.\n |\n |      Note that this method is only relevant if\n |      ``enable_metadata_routing=True`` (see :func:`sklearn.set_config`).\n |      Please see :ref:`User Guide <metadata_routing>` on how the routing\n |      mechanism works.\n |\n |      The options for each parameter are:\n |\n |      - ``True``: metadata is requested, and passed to ``predict`` if provided. The request is ignored if metadata is not provided.\n |\n |      - ``False``: metadata is not requested and the meta-estimator will not pass it to ``predict``.\n |\n |      - ``None``: metadata is not requested, and the meta-estimator will raise an error if the user provides it.\n |\n |      - ``str``: metadata should be passed to the meta-estimator with this given alias instead of the original name.\n |\n |      The default (``sklearn.utils.metadata_routing.UNCHANGED``) retains the\n |      existing request. This allows you to change the request for some\n |      parameters and not others.\n |\n |      .. versionadded:: 1.3\n |\n |      .. note::\n |          This method is only relevant if this estimator is used as a\n |          sub-estimator of a meta-estimator, e.g. used inside a\n |          :class:`~sklearn.pipeline.Pipeline`. Otherwise it has no effect.\n |\n |      Parameters\n |      ----------\n |      num_iteration : str, True, False, or None,                     default=sklearn.utils.metadata_routing.UNCHANGED\n |          Metadata routing for ``num_iteration`` parameter in ``predict``.\n |\n |      pred_contrib : str, True, False, or None,                     default=sklearn.utils.metadata_routing.UNCHANGED\n |          Metadata routing for ``pred_contrib`` parameter in ``predict``.\n |\n |      pred_leaf : str, True, False, or None,                     default=sklearn.utils.metadata_routing.UNCHANGED\n |          Metadata routing for ``pred_leaf`` parameter in ``predict``.\n |\n |      raw_score : str, True, False, or None,                     default=sklearn.utils.metadata_routing.UNCHANGED\n |          Metadata routing for ``raw_score`` parameter in ``predict``.\n |\n |      start_iteration : str, True, False, or None,                     default=sklearn.utils.metadata_routing.UNCHANGED\n |          Metadata routing for ``start_iteration`` parameter in ``predict``.\n |\n |      validate_features : str, True, False, or None,                     default=sklearn.utils.metadata_routing.UNCHANGED\n |          Metadata routing for ``validate_features`` parameter in ``predict``.\n |\n |      Returns\n |      -------\n |      self : object\n |          The updated object.\n |\n |  set_score_request(self: lightgbm.sklearn.LGBMRegressor, *, sample_weight: Union[bool, NoneType, str] = '$UNCHANGED$') -> lightgbm.sklearn.LGBMRegressor from sklearn.utils._metadata_requests.RequestMethod.__get__.<locals>\n |      Request metadata passed to the ``score`` method.\n |\n |      Note that this method is only relevant if\n |      ``enable_metadata_routing=True`` (see :func:`sklearn.set_config`).\n |      Please see :ref:`User Guide <metadata_routing>` on how the routing\n |      mechanism works.\n |\n |      The options for each parameter are:\n |\n |      - ``True``: metadata is requested, and passed to ``score`` if provided. The request is ignored if metadata is not provided.\n |\n |      - ``False``: metadata is not requested and the meta-estimator will not pass it to ``score``.\n |\n |      - ``None``: metadata is not requested, and the meta-estimator will raise an error if the user provides it.\n |\n |      - ``str``: metadata should be passed to the meta-estimator with this given alias instead of the original name.\n |\n |      The default (``sklearn.utils.metadata_routing.UNCHANGED``) retains the\n |      existing request. This allows you to change the request for some\n |      parameters and not others.\n |\n |      .. versionadded:: 1.3\n |\n |      .. note::\n |          This method is only relevant if this estimator is used as a\n |          sub-estimator of a meta-estimator, e.g. used inside a\n |          :class:`~sklearn.pipeline.Pipeline`. Otherwise it has no effect.\n |\n |      Parameters\n |      ----------\n |      sample_weight : str, True, False, or None,                     default=sklearn.utils.metadata_routing.UNCHANGED\n |          Metadata routing for ``sample_weight`` parameter in ``score``.\n |\n |      Returns\n |      -------\n |      self : object\n |          The updated object.\n |\n |  ----------------------------------------------------------------------\n |  Data descriptors inherited from sklearn.base.RegressorMixin:\n |\n |  __dict__\n |      dictionary for instance variables\n |\n |  __weakref__\n |      list of weak references to the object\n |\n |  ----------------------------------------------------------------------\n |  Methods inherited from LGBMModel:\n |\n |  __init__(self, boosting_type: str = 'gbdt', num_leaves: int = 31, max_depth: int = -1, learning_rate: float = 0.1, n_estimators: int = 100, subsample_for_bin: int = 200000, objective: Union[str, Callable[[Optional[numpy.ndarray], numpy.ndarray], Tuple[numpy.ndarray, numpy.ndarray]], Callable[[Optional[numpy.ndarray], numpy.ndarray, Optional[numpy.ndarray]], Tuple[numpy.ndarray, numpy.ndarray]], Callable[[Optional[numpy.ndarray], numpy.ndarray, Optional[numpy.ndarray], Optional[numpy.ndarray]], Tuple[numpy.ndarray, numpy.ndarray]], NoneType] = None, class_weight: Union[Dict, str, NoneType] = None, min_split_gain: float = 0.0, min_child_weight: float = 0.001, min_child_samples: int = 20, subsample: float = 1.0, subsample_freq: int = 0, colsample_bytree: float = 1.0, reg_alpha: float = 0.0, reg_lambda: float = 0.0, random_state: Union[int, numpy.random.mtrand.RandomState, numpy.random._generator.Generator, NoneType] = None, n_jobs: Optional[int] = None, importance_type: str = 'split', **kwargs: Any)\n |      Construct a gradient boosting model.\n |\n |      Parameters\n |      ----------\n |      boosting_type : str, optional (default='gbdt')\n |          'gbdt', traditional Gradient Boosting Decision Tree.\n |          'dart', Dropouts meet Multiple Additive Regression Trees.\n |          'rf', Random Forest.\n |      num_leaves : int, optional (default=31)\n |          Maximum tree leaves for base learners.\n |      max_depth : int, optional (default=-1)\n |          Maximum tree depth for base learners, <=0 means no limit.\n |          If setting this to a positive value, consider also changing ``num_leaves`` to ``<= 2^max_depth``.\n |      learning_rate : float, optional (default=0.1)\n |          Boosting learning rate.\n |          You can use ``callbacks`` parameter of ``fit`` method to shrink/adapt learning rate\n |          in training using ``reset_parameter`` callback.\n |          Note, that this will ignore the ``learning_rate`` argument in training.\n |      n_estimators : int, optional (default=100)\n |          Number of boosted trees to fit.\n |      subsample_for_bin : int, optional (default=200000)\n |          Number of samples for constructing bins.\n |      objective : str, callable or None, optional (default=None)\n |          Specify the learning task and the corresponding learning objective or\n |          a custom objective function to be used (see note below).\n |          Default: 'regression' for LGBMRegressor, 'binary' or 'multiclass' for LGBMClassifier, 'lambdarank' for LGBMRanker.\n |      class_weight : dict, 'balanced' or None, optional (default=None)\n |          Weights associated with classes in the form ``{class_label: weight}``.\n |          Use this parameter only for multi-class classification task;\n |          for binary classification task you may use ``is_unbalance`` or ``scale_pos_weight`` parameters.\n |          Note, that the usage of all these parameters will result in poor estimates of the individual class probabilities.\n |          You may want to consider performing probability calibration\n |          (https://scikit-learn.org/stable/modules/calibration.html) of your model.\n |          The 'balanced' mode uses the values of y to automatically adjust weights\n |          inversely proportional to class frequencies in the input data as ``n_samples / (n_classes * np.bincount(y))``.\n |          If None, all classes are supposed to have weight one.\n |          Note, that these weights will be multiplied with ``sample_weight`` (passed through the ``fit`` method)\n |          if ``sample_weight`` is specified.\n |      min_split_gain : float, optional (default=0.)\n |          Minimum loss reduction required to make a further partition on a leaf node of the tree.\n |      min_child_weight : float, optional (default=1e-3)\n |          Minimum sum of instance weight (Hessian) needed in a child (leaf).\n |      min_child_samples : int, optional (default=20)\n |          Minimum number of data needed in a child (leaf).\n |      subsample : float, optional (default=1.)\n |          Subsample ratio of the training instance.\n |      subsample_freq : int, optional (default=0)\n |          Frequency of subsample, <=0 means no enable.\n |      colsample_bytree : float, optional (default=1.)\n |          Subsample ratio of columns when constructing each tree.\n |      reg_alpha : float, optional (default=0.)\n |          L1 regularization term on weights.\n |      reg_lambda : float, optional (default=0.)\n |          L2 regularization term on weights.\n |      random_state : int, RandomState object or None, optional (default=None)\n |          Random number seed.\n |          If int, this number is used to seed the C++ code.\n |          If RandomState or Generator object (numpy), a random integer is picked based on its state to seed the C++ code.\n |          If None, default seeds in C++ code are used.\n |      n_jobs : int or None, optional (default=None)\n |          Number of parallel threads to use for training (can be changed at prediction time by\n |          passing it as an extra keyword argument).\n |\n |          For better performance, it is recommended to set this to the number of physical cores\n |          in the CPU.\n |\n |          Negative integers are interpreted as following joblib's formula (n_cpus + 1 + n_jobs), just like\n |          scikit-learn (so e.g. -1 means using all threads). A value of zero corresponds the default number of\n |          threads configured for OpenMP in the system. A value of ``None`` (the default) corresponds\n |          to using the number of physical cores in the system (its correct detection requires\n |          either the ``joblib`` or the ``psutil`` util libraries to be installed).\n |\n |          .. versionchanged:: 4.0.0\n |\n |      importance_type : str, optional (default='split')\n |          The type of feature importance to be filled into ``feature_importances_``.\n |          If 'split', result contains numbers of times the feature is used in a model.\n |          If 'gain', result contains total gains of splits which use the feature.\n |      **kwargs\n |          Other parameters for the model.\n |          Check http://lightgbm.readthedocs.io/en/latest/Parameters.html for more parameters.\n |\n |          .. warning::\n |\n |              \\*\\*kwargs is not supported in sklearn, it may cause unexpected issues.\n |\n |      Note\n |      ----\n |      A custom objective function can be provided for the ``objective`` parameter.\n |      In this case, it should have the signature\n |      ``objective(y_true, y_pred) -> grad, hess``,\n |      ``objective(y_true, y_pred, weight) -> grad, hess``\n |      or ``objective(y_true, y_pred, weight, group) -> grad, hess``:\n |\n |          y_true : numpy 1-D array of shape = [n_samples]\n |              The target values.\n |          y_pred : numpy 1-D array of shape = [n_samples] or numpy 2-D array of shape = [n_samples, n_classes] (for multi-class task)\n |              The predicted values.\n |              Predicted values are returned before any transformation,\n |              e.g. they are raw margin instead of probability of positive class for binary task.\n |          weight : numpy 1-D array of shape = [n_samples]\n |              The weight of samples. Weights should be non-negative.\n |          group : numpy 1-D array\n |              Group/query data.\n |              Only used in the learning-to-rank task.\n |              sum(group) = n_samples.\n |              For example, if you have a 100-document dataset with ``group = [10, 20, 40, 10, 10, 10]``, that means that you have 6 groups,\n |              where the first 10 records are in the first group, records 11-30 are in the second group, records 31-70 are in the third group, etc.\n |          grad : numpy 1-D array of shape = [n_samples] or numpy 2-D array of shape = [n_samples, n_classes] (for multi-class task)\n |              The value of the first order derivative (gradient) of the loss\n |              with respect to the elements of y_pred for each sample point.\n |          hess : numpy 1-D array of shape = [n_samples] or numpy 2-D array of shape = [n_samples, n_classes] (for multi-class task)\n |              The value of the second order derivative (Hessian) of the loss\n |              with respect to the elements of y_pred for each sample point.\n |\n |      For multi-class task, y_pred is a numpy 2-D array of shape = [n_samples, n_classes],\n |      and grad and hess should be returned in the same format.\n |\n |  __sklearn_is_fitted__(self) -> bool\n |\n |  get_params(self, deep: bool = True) -> Dict[str, Any]\n |      Get parameters for this estimator.\n |\n |      Parameters\n |      ----------\n |      deep : bool, optional (default=True)\n |          If True, will return the parameters for this estimator and\n |          contained subobjects that are estimators.\n |\n |      Returns\n |      -------\n |      params : dict\n |          Parameter names mapped to their values.\n |\n |  set_params(self, **params: Any) -> 'LGBMModel'\n |      Set the parameters of this estimator.\n |\n |      Parameters\n |      ----------\n |      **params\n |          Parameter names with their new values.\n |\n |      Returns\n |      -------\n |      self : object\n |          Returns self.\n |\n |  ----------------------------------------------------------------------\n |  Readonly properties inherited from LGBMModel:\n |\n |  best_iteration_\n |      :obj:`int`: The best iteration of fitted model if ``early_stopping()`` callback has been specified.\n |\n |  best_score_\n |      :obj:`dict`: The best score of fitted model.\n |\n |  booster_\n |      Booster: The underlying Booster of this model.\n |\n |  evals_result_\n |      :obj:`dict`: The evaluation results if validation sets have been specified.\n |\n |  feature_importances_\n |      :obj:`array` of shape = [n_features]: The feature importances (the higher, the more important).\n |\n |      .. note::\n |\n |          ``importance_type`` attribute is passed to the function\n |          to configure the type of importance values to be extracted.\n |\n |  feature_name_\n |      :obj:`list` of shape = [n_features]: The names of features.\n |\n |      .. note::\n |\n |          If input does not contain feature names, they will be added during fitting in the format ``Column_0``, ``Column_1``, ..., ``Column_N``.\n |\n |  feature_names_in_\n |      :obj:`array` of shape = [n_features]: scikit-learn compatible version of ``.feature_name_``.\n |\n |      .. versionadded:: 4.5.0\n |\n |  n_estimators_\n |      :obj:`int`: True number of boosting iterations performed.\n |\n |      This might be less than parameter ``n_estimators`` if early stopping was enabled or\n |      if boosting stopped early due to limits on complexity like ``min_gain_to_split``.\n |\n |      .. versionadded:: 4.0.0\n |\n |  n_features_\n |      :obj:`int`: The number of features of fitted model.\n |\n |  n_features_in_\n |      :obj:`int`: The number of features of fitted model.\n |\n |  n_iter_\n |      :obj:`int`: True number of boosting iterations performed.\n |\n |      This might be less than parameter ``n_estimators`` if early stopping was enabled or\n |      if boosting stopped early due to limits on complexity like ``min_gain_to_split``.\n |\n |      .. versionadded:: 4.0.0\n |\n |  objective_\n |      :obj:`str` or :obj:`callable`: The concrete objective used while fitting this model.\n |\n |  ----------------------------------------------------------------------\n |  Methods inherited from sklearn.base.BaseEstimator:\n |\n |  __getstate__(self)\n |      Helper for pickle.\n |\n |  __repr__(self, N_CHAR_MAX=700)\n |      Return repr(self).\n |\n |  __setstate__(self, state)\n |\n |  __sklearn_clone__(self)\n |\n |  ----------------------------------------------------------------------\n |  Methods inherited from sklearn.utils._metadata_requests._MetadataRequester:\n |\n |  get_metadata_routing(self)\n |      Get metadata routing of this object.\n |\n |      Please check :ref:`User Guide <metadata_routing>` on how the routing\n |      mechanism works.\n |\n |      Returns\n |      -------\n |      routing : MetadataRequest\n |          A :class:`~sklearn.utils.metadata_routing.MetadataRequest` encapsulating\n |          routing information.\n |\n |  ----------------------------------------------------------------------\n |  Class methods inherited from sklearn.utils._metadata_requests._MetadataRequester:\n |\n |  __init_subclass__(**kwargs)\n |      Set the ``set_{method}_request`` methods.\n |\n |      This uses PEP-487 [1]_ to set the ``set_{method}_request`` methods. It\n |      looks for the information available in the set default values which are\n |      set using ``__metadata_request__*`` class attributes, or inferred\n |      from method signatures.\n |\n |      The ``__metadata_request__*`` class attributes are used when a method\n |      does not explicitly accept a metadata through its arguments or if the\n |      developer would like to specify a request value for those metadata\n |      which are different from the default ``None``.\n |\n |      References\n |      ----------\n |      .. [1] https://www.python.org/dev/peps/pep-0487\n\n"
     ]
    }
   ],
   "source": [
    "import lightgbm\n",
    "from lightgbm import LGBMRegressor\n",
    "\n",
    "help(LGBMRegressor)"
   ]
  },
  {
   "cell_type": "markdown",
   "metadata": {
    "application/vnd.databricks.v1+cell": {
     "cellMetadata": {
      "byteLimit": 2048000,
      "rowLimit": 10000
     },
     "inputWidgets": {},
     "nuid": "c9b0997a-a79f-4479-981c-aa32998b6df5",
     "showTitle": false,
     "tableResultSettingsMap": {},
     "title": ""
    }
   },
   "source": [
    "### Define the objective function\n",
    "The objective function used to find optimal hyperparameters. By default, this notebook only runs\n",
    "this function once (`max_evals=1` in the `hyperopt.fmin` invocation) with fixed hyperparameters, but\n",
    "hyperparameters can be tuned by modifying `space`, defined below. `hyperopt.fmin` will then use this\n",
    "function's return value to search the space to minimize the loss."
   ]
  },
  {
   "cell_type": "code",
   "execution_count": 0,
   "metadata": {
    "application/vnd.databricks.v1+cell": {
     "cellMetadata": {
      "byteLimit": 2048000,
      "rowLimit": 10000
     },
     "inputWidgets": {},
     "nuid": "8e8ff64b-35e6-47d3-ae03-7b00abe924cb",
     "showTitle": false,
     "tableResultSettingsMap": {},
     "title": ""
    },
    "execution": {
     "iopub.execute_input": "2024-12-04T02:35:06.960331Z",
     "iopub.status.busy": "2024-12-04T02:35:06.959945Z",
     "iopub.status.idle": "2024-12-04T02:35:10.585900Z",
     "shell.execute_reply": "2024-12-04T02:35:10.582774Z"
    }
   },
   "outputs": [
    {
     "output_type": "stream",
     "name": "stderr",
     "output_type": "stream",
     "text": [
      "(2024-12-04 03:16:01) WARNING: Hyperopt is deprecated for Databricks runtime for machine learning and will not be pre-installed in the next major version.\n/databricks/python/lib/python3.12/site-packages/sklearn/preprocessing/_encoders.py:241: UserWarning: Found unknown categories in columns [6] during transform. These unknown categories will be encoded as all zeros\n  warnings.warn(\n"
     ]
    }
   ],
   "source": [
    "import mlflow\n",
    "from mlflow.models import Model, infer_signature, ModelSignature\n",
    "from mlflow.pyfunc import PyFuncModel\n",
    "from mlflow import pyfunc\n",
    "import sklearn\n",
    "from sklearn import set_config\n",
    "from sklearn.pipeline import Pipeline\n",
    "from hyperopt import hp, tpe, fmin, STATUS_OK, Trials\n",
    "\n",
    "\n",
    "# Create a separate pipeline to transform the validation dataset. This is used for early stopping.\n",
    "pipeline_val = Pipeline([\n",
    "    (\"column_selector\", col_selector),\n",
    "    (\"preprocessor\", preprocessor),\n",
    "])\n",
    "\n",
    "mlflow.sklearn.autolog(disable=True)\n",
    "pipeline_val.fit(X_train, y_train)\n",
    "X_val_processed = pipeline_val.transform(X_val)\n",
    "\n",
    "def objective(params):\n",
    "  with mlflow.start_run(experiment_id=\"1000622678751943\") as mlflow_run:\n",
    "    lgbmr_regressor = LGBMRegressor(**params)\n",
    "\n",
    "    model = Pipeline([\n",
    "        (\"column_selector\", col_selector),\n",
    "        (\"preprocessor\", preprocessor),\n",
    "        (\"regressor\", lgbmr_regressor),\n",
    "    ])\n",
    "\n",
    "    # Enable automatic logging of input samples, metrics, parameters, and models\n",
    "    mlflow.sklearn.autolog(\n",
    "        log_input_examples=True,\n",
    "        silent=True,\n",
    "    )\n",
    "\n",
    "    model.fit(X_train, y_train, regressor__callbacks=[lightgbm.early_stopping(5), lightgbm.log_evaluation(0)], regressor__eval_set=[(X_val_processed,y_val)])\n",
    "\n",
    "    \n",
    "    # Log metrics for the training set\n",
    "    mlflow_model = Model()\n",
    "    pyfunc.add_to_model(mlflow_model, loader_module=\"mlflow.sklearn\")\n",
    "    pyfunc_model = PyFuncModel(model_meta=mlflow_model, model_impl=model)\n",
    "    training_eval_result = mlflow.evaluate(\n",
    "        model=pyfunc_model,\n",
    "        data=X_train.assign(**{str(target_col):y_train}),\n",
    "        targets=target_col,\n",
    "        model_type=\"regressor\",\n",
    "        evaluator_config = {\"log_model_explainability\": False,\n",
    "                            \"metric_prefix\": \"training_\"  }\n",
    "    )\n",
    "    # Log metrics for the validation set\n",
    "    val_eval_result = mlflow.evaluate(\n",
    "        model=pyfunc_model,\n",
    "        data=X_val.assign(**{str(target_col):y_val}),\n",
    "        targets=target_col,\n",
    "        model_type=\"regressor\",\n",
    "        evaluator_config= {\"log_model_explainability\": False,\n",
    "                           \"metric_prefix\": \"val_\"  }\n",
    "   )\n",
    "    lgbmr_val_metrics = val_eval_result.metrics\n",
    "    # Log metrics for the test set\n",
    "    test_eval_result = mlflow.evaluate(\n",
    "        model=pyfunc_model,\n",
    "        data=X_test.assign(**{str(target_col):y_test}),\n",
    "        targets=target_col,\n",
    "        model_type=\"regressor\",\n",
    "        evaluator_config= {\"log_model_explainability\": False,\n",
    "                           \"metric_prefix\": \"test_\"  }\n",
    "   )\n",
    "    lgbmr_test_metrics = test_eval_result.metrics\n",
    "\n",
    "    loss = -lgbmr_val_metrics[\"val_r2_score\"]\n",
    "\n",
    "    # Truncate metric key names so they can be displayed together\n",
    "    lgbmr_val_metrics = {k.replace(\"val_\", \"\"): v for k, v in lgbmr_val_metrics.items()}\n",
    "    lgbmr_test_metrics = {k.replace(\"test_\", \"\"): v for k, v in lgbmr_test_metrics.items()}\n",
    "\n",
    "    return {\n",
    "      \"loss\": loss,\n",
    "      \"status\": STATUS_OK,\n",
    "      \"val_metrics\": lgbmr_val_metrics,\n",
    "      \"test_metrics\": lgbmr_test_metrics,\n",
    "      \"model\": model,\n",
    "      \"run\": mlflow_run,\n",
    "    }"
   ]
  },
  {
   "cell_type": "markdown",
   "metadata": {
    "application/vnd.databricks.v1+cell": {
     "cellMetadata": {
      "byteLimit": 2048000,
      "rowLimit": 10000
     },
     "inputWidgets": {},
     "nuid": "fd3171c7-c585-4d02-96ca-46af388ba756",
     "showTitle": false,
     "tableResultSettingsMap": {},
     "title": ""
    }
   },
   "source": [
    "### Configure the hyperparameter search space\n",
    "Configure the search space of parameters. Parameters below are all constant expressions but can be\n",
    "modified to widen the search space. For example, when training a decision tree regressor, to allow\n",
    "the maximum tree depth to be either 2 or 3, set the key of 'max_depth' to\n",
    "`hp.choice('max_depth', [2, 3])`. Be sure to also increase `max_evals` in the `fmin` call below.\n",
    "\n",
    "See https://docs.databricks.com/applications/machine-learning/automl-hyperparam-tuning/index.html\n",
    "for more information on hyperparameter tuning as well as\n",
    "http://hyperopt.github.io/hyperopt/getting-started/search_spaces/ for documentation on supported\n",
    "search expressions.\n",
    "\n",
    "For documentation on parameters used by the model in use, please see:\n",
    "https://lightgbm.readthedocs.io/en/stable/pythonapi/lightgbm.LGBMRegressor.html\n",
    "\n",
    "NOTE: The above URL points to a stable version of the documentation corresponding to the last\n",
    "released version of the package. The documentation may differ slightly for the package version\n",
    "used by this notebook."
   ]
  },
  {
   "cell_type": "code",
   "execution_count": 0,
   "metadata": {
    "application/vnd.databricks.v1+cell": {
     "cellMetadata": {
      "byteLimit": 2048000,
      "rowLimit": 10000
     },
     "inputWidgets": {},
     "nuid": "75105784-229f-4c5f-8c38-89cf2e010180",
     "showTitle": false,
     "tableResultSettingsMap": {},
     "title": ""
    },
    "execution": {
     "iopub.execute_input": "2024-12-04T02:35:10.594320Z",
     "iopub.status.busy": "2024-12-04T02:35:10.592710Z",
     "iopub.status.idle": "2024-12-04T02:35:10.605493Z",
     "shell.execute_reply": "2024-12-04T02:35:10.604576Z"
    }
   },
   "outputs": [],
   "source": [
    "space = {\n",
    "  \"colsample_bytree\": 0.45048245215462374,\n",
    "  \"lambda_l1\": 1.5259086651908624,\n",
    "  \"lambda_l2\": 2.284068184490839,\n",
    "  \"learning_rate\": 0.07455544417338009,\n",
    "  \"max_bin\": 479,\n",
    "  \"max_depth\": 8,\n",
    "  \"min_child_samples\": 69,\n",
    "  \"n_estimators\": 152,\n",
    "  \"num_leaves\": 56,\n",
    "  \"subsample\": 0.6707665228761195,\n",
    "  \"random_state\": 162540551,\n",
    "}"
   ]
  },
  {
   "cell_type": "markdown",
   "metadata": {
    "application/vnd.databricks.v1+cell": {
     "cellMetadata": {
      "byteLimit": 2048000,
      "rowLimit": 10000
     },
     "inputWidgets": {},
     "nuid": "56210f37-c839-4da9-a32e-21e2fc210167",
     "showTitle": false,
     "tableResultSettingsMap": {},
     "title": ""
    }
   },
   "source": [
    "### Run trials\n",
    "When widening the search space and training multiple models, switch to `SparkTrials` to parallelize\n",
    "training on Spark:\n",
    "```\n",
    "from hyperopt import SparkTrials\n",
    "trials = SparkTrials()\n",
    "```\n",
    "\n",
    "NOTE: While `Trials` starts an MLFlow run for each set of hyperparameters, `SparkTrials` only starts\n",
    "one top-level run; it will start a subrun for each set of hyperparameters.\n",
    "\n",
    "See http://hyperopt.github.io/hyperopt/scaleout/spark/ for more info."
   ]
  },
  {
   "cell_type": "code",
   "execution_count": 0,
   "metadata": {
    "application/vnd.databricks.v1+cell": {
     "cellMetadata": {
      "byteLimit": 2048000,
      "rowLimit": 10000
     },
     "inputWidgets": {},
     "nuid": "9911d501-a89a-40fe-8c68-a61fd6160637",
     "showTitle": false,
     "tableResultSettingsMap": {},
     "title": ""
    },
    "execution": {
     "iopub.execute_input": "2024-12-04T02:35:10.614426Z",
     "iopub.status.busy": "2024-12-04T02:35:10.610085Z",
     "iopub.status.idle": "2024-12-04T02:39:37.713525Z",
     "shell.execute_reply": "2024-12-04T02:39:37.712445Z"
    }
   },
   "outputs": [
    {
     "output_type": "stream",
     "name": "stdout",
     "output_type": "stream",
     "text": [
      "\r  0%|          | 0/1 [00:00<?, ?trial/s, best loss=?]\r                                                     \r[LightGBM] [Warning] lambda_l2 is set=2.284068184490839, reg_lambda=0.0 will be ignored. Current value: lambda_l2=2.284068184490839\n\r  0%|          | 0/1 [00:02<?, ?trial/s, best loss=?]\r                                                     \r[LightGBM] [Warning] lambda_l1 is set=1.5259086651908624, reg_alpha=0.0 will be ignored. Current value: lambda_l1=1.5259086651908624\n\r  0%|          | 0/1 [00:02<?, ?trial/s, best loss=?]\r                                                     \r[LightGBM] [Warning] lambda_l2 is set=2.284068184490839, reg_lambda=0.0 will be ignored. Current value: lambda_l2=2.284068184490839\n\r  0%|          | 0/1 [00:02<?, ?trial/s, best loss=?]\r                                                     \r[LightGBM] [Warning] lambda_l1 is set=1.5259086651908624, reg_alpha=0.0 will be ignored. Current value: lambda_l1=1.5259086651908624\n\r  0%|          | 0/1 [00:02<?, ?trial/s, best loss=?]\r                                                     \r[LightGBM] [Info] Auto-choosing col-wise multi-threading, the overhead of testing was 0.005249 seconds.\nYou can set `force_col_wise=true` to remove the overhead.\n\r  0%|          | 0/1 [00:02<?, ?trial/s, best loss=?]\r                                                     \r[LightGBM] [Info] Total Bins 265\n\r  0%|          | 0/1 [00:02<?, ?trial/s, best loss=?]\r                                                     \r[LightGBM] [Info] Number of data points in the train set: 55952, number of used features: 48\n\r  0%|          | 0/1 [00:02<?, ?trial/s, best loss=?]\r                                                     \r[LightGBM] [Warning] lambda_l2 is set=2.284068184490839, reg_lambda=0.0 will be ignored. Current value: lambda_l2=2.284068184490839\n\r  0%|          | 0/1 [00:02<?, ?trial/s, best loss=?]\r                                                     \r[LightGBM] [Warning] lambda_l1 is set=1.5259086651908624, reg_alpha=0.0 will be ignored. Current value: lambda_l1=1.5259086651908624\n\r  0%|          | 0/1 [00:02<?, ?trial/s, best loss=?]\r                                                     \r[LightGBM] [Info] Start training from score 9.889459\n\r  0%|          | 0/1 [00:02<?, ?trial/s, best loss=?]\r                                                     \rTraining until validation scores don't improve for 5 rounds\n\r  0%|          | 0/1 [00:02<?, ?trial/s, best loss=?]\r                                                     \r[LightGBM] [Warning] No further splits with positive gain, best gain: -inf\n\r  0%|          | 0/1 [00:02<?, ?trial/s, best loss=?]\r                                                     \r[LightGBM] [Warning] No further splits with positive gain, best gain: -inf\n\r  0%|          | 0/1 [00:02<?, ?trial/s, best loss=?]\r                                                     \r[LightGBM] [Warning] No further splits with positive gain, best gain: -inf\n\r  0%|          | 0/1 [00:02<?, ?trial/s, best loss=?]\r                                                     \r[LightGBM] [Warning] No further splits with positive gain, best gain: -inf\n\r  0%|          | 0/1 [00:02<?, ?trial/s, best loss=?]\r                                                     \r[LightGBM] [Warning] No further splits with positive gain, best gain: -inf\n\r  0%|          | 0/1 [00:02<?, ?trial/s, best loss=?]\r                                                     \r[LightGBM] [Warning] No further splits with positive gain, best gain: -inf\n\r  0%|          | 0/1 [00:02<?, ?trial/s, best loss=?]\r                                                     \r[LightGBM] [Warning] No further splits with positive gain, best gain: -inf\n\r  0%|          | 0/1 [00:02<?, ?trial/s, best loss=?]\r                                                     \r[LightGBM] [Warning] No further splits with positive gain, best gain: -inf\n\r  0%|          | 0/1 [00:02<?, ?trial/s, best loss=?]\r                                                     \r[LightGBM] [Warning] No further splits with positive gain, best gain: -inf\n\r  0%|          | 0/1 [00:02<?, ?trial/s, best loss=?]\r                                                     \r[LightGBM] [Warning] No further splits with positive gain, best gain: -inf\n\r  0%|          | 0/1 [00:02<?, ?trial/s, best loss=?]\r                                                     \r[LightGBM] [Warning] No further splits with positive gain, best gain: -inf\n\r  0%|          | 0/1 [00:02<?, ?trial/s, best loss=?]\r                                                     \r[LightGBM] [Warning] No further splits with positive gain, best gain: -inf\n\r  0%|          | 0/1 [00:02<?, ?trial/s, best loss=?]\r                                                     \r[LightGBM] [Warning] No further splits with positive gain, best gain: -inf\n\r  0%|          | 0/1 [00:02<?, ?trial/s, best loss=?]\r                                                     \r[LightGBM] [Warning] No further splits with positive gain, best gain: -inf\n\r  0%|          | 0/1 [00:02<?, ?trial/s, best loss=?]\r                                                     \r[LightGBM] [Warning] No further splits with positive gain, best gain: -inf\n\r  0%|          | 0/1 [00:02<?, ?trial/s, best loss=?]\r                                                     \r[LightGBM] [Warning] No further splits with positive gain, best gain: -inf\n\r  0%|          | 0/1 [00:02<?, ?trial/s, best loss=?]\r                                                     \r[LightGBM] [Warning] No further splits with positive gain, best gain: -inf\n\r  0%|          | 0/1 [00:02<?, ?trial/s, best loss=?]\r                                                     \r[LightGBM] [Warning] No further splits with positive gain, best gain: -inf\n\r  0%|          | 0/1 [00:02<?, ?trial/s, best loss=?]\r                                                     \r[LightGBM] [Warning] No further splits with positive gain, best gain: -inf\n\r  0%|          | 0/1 [00:02<?, ?trial/s, best loss=?]\r                                                     \r[LightGBM] [Warning] No further splits with positive gain, best gain: -inf\n\r  0%|          | 0/1 [00:02<?, ?trial/s, best loss=?]\r                                                     \r[LightGBM] [Warning] No further splits with positive gain, best gain: -inf\n\r  0%|          | 0/1 [00:02<?, ?trial/s, best loss=?]\r                                                     \r[LightGBM] [Warning] No further splits with positive gain, best gain: -inf\n\r  0%|          | 0/1 [00:02<?, ?trial/s, best loss=?]\r                                                     \r[LightGBM] [Warning] No further splits with positive gain, best gain: -inf\n\r  0%|          | 0/1 [00:02<?, ?trial/s, best loss=?]\r                                                     \r[LightGBM] [Warning] No further splits with positive gain, best gain: -inf\n\r  0%|          | 0/1 [00:03<?, ?trial/s, best loss=?]\r                                                     \r[LightGBM] [Warning] No further splits with positive gain, best gain: -inf\n\r  0%|          | 0/1 [00:03<?, ?trial/s, best loss=?]\r                                                     \r[LightGBM] [Warning] No further splits with positive gain, best gain: -inf\n\r  0%|          | 0/1 [00:03<?, ?trial/s, best loss=?]\r                                                     \r[LightGBM] [Warning] No further splits with positive gain, best gain: -inf\n\r  0%|          | 0/1 [00:03<?, ?trial/s, best loss=?]\r                                                     \r[LightGBM] [Warning] No further splits with positive gain, best gain: -inf\n\r  0%|          | 0/1 [00:03<?, ?trial/s, best loss=?]\r                                                     \r[LightGBM] [Warning] No further splits with positive gain, best gain: -inf\n\r  0%|          | 0/1 [00:03<?, ?trial/s, best loss=?]\r                                                     \r[LightGBM] [Warning] No further splits with positive gain, best gain: -inf\n\r  0%|          | 0/1 [00:03<?, ?trial/s, best loss=?]\r                                                     \r[LightGBM] [Warning] No further splits with positive gain, best gain: -inf\n\r  0%|          | 0/1 [00:03<?, ?trial/s, best loss=?]\r                                                     \r[LightGBM] [Warning] No further splits with positive gain, best gain: -inf\n\r  0%|          | 0/1 [00:03<?, ?trial/s, best loss=?]\r                                                     \r[LightGBM] [Warning] No further splits with positive gain, best gain: -inf\n\r  0%|          | 0/1 [00:03<?, ?trial/s, best loss=?]\r                                                     \r[LightGBM] [Warning] No further splits with positive gain, best gain: -inf\n\r  0%|          | 0/1 [00:03<?, ?trial/s, best loss=?]\r                                                     \r[LightGBM] [Warning] No further splits with positive gain, best gain: -inf\n\r  0%|          | 0/1 [00:03<?, ?trial/s, best loss=?]\r                                                     \r[LightGBM] [Warning] No further splits with positive gain, best gain: -inf\n\r  0%|          | 0/1 [00:03<?, ?trial/s, best loss=?]\r                                                     \r[LightGBM] [Warning] No further splits with positive gain, best gain: -inf\n\r  0%|          | 0/1 [00:03<?, ?trial/s, best loss=?]\r                                                     \r[LightGBM] [Warning] No further splits with positive gain, best gain: -inf\n\r  0%|          | 0/1 [00:03<?, ?trial/s, best loss=?]\r                                                     \r[LightGBM] [Warning] No further splits with positive gain, best gain: -inf\n\r  0%|          | 0/1 [00:03<?, ?trial/s, best loss=?]\r                                                     \r[LightGBM] [Warning] No further splits with positive gain, best gain: -inf\n\r  0%|          | 0/1 [00:03<?, ?trial/s, best loss=?]\r                                                     \r[LightGBM] [Warning] No further splits with positive gain, best gain: -inf\n\r  0%|          | 0/1 [00:03<?, ?trial/s, best loss=?]\r                                                     \r[LightGBM] [Warning] No further splits with positive gain, best gain: -inf\n\r  0%|          | 0/1 [00:03<?, ?trial/s, best loss=?]\r                                                     \r[LightGBM] [Warning] No further splits with positive gain, best gain: -inf\n\r  0%|          | 0/1 [00:03<?, ?trial/s, best loss=?]\r                                                     \r[LightGBM] [Warning] No further splits with positive gain, best gain: -inf\n\r  0%|          | 0/1 [00:03<?, ?trial/s, best loss=?]\r                                                     \r[LightGBM] [Warning] No further splits with positive gain, best gain: -inf\n\r  0%|          | 0/1 [00:03<?, ?trial/s, best loss=?]\r                                                     \r[LightGBM] [Warning] No further splits with positive gain, best gain: -inf\n\r  0%|          | 0/1 [00:03<?, ?trial/s, best loss=?]\r                                                     \r[LightGBM] [Warning] No further splits with positive gain, best gain: -inf\n\r  0%|          | 0/1 [00:03<?, ?trial/s, best loss=?]\r                                                     \r[LightGBM] [Warning] No further splits with positive gain, best gain: -inf\n\r  0%|          | 0/1 [00:03<?, ?trial/s, best loss=?]\r                                                     \r[LightGBM] [Warning] No further splits with positive gain, best gain: -inf\n\r  0%|          | 0/1 [00:03<?, ?trial/s, best loss=?]\r                                                     \r[LightGBM] [Warning] No further splits with positive gain, best gain: -inf\n\r  0%|          | 0/1 [00:03<?, ?trial/s, best loss=?]\r                                                     \r[LightGBM] [Warning] No further splits with positive gain, best gain: -inf\n\r  0%|          | 0/1 [00:03<?, ?trial/s, best loss=?]\r                                                     \r[LightGBM] [Warning] No further splits with positive gain, best gain: -inf\n\r  0%|          | 0/1 [00:03<?, ?trial/s, best loss=?]\r                                                     \r[LightGBM] [Warning] No further splits with positive gain, best gain: -inf\n\r  0%|          | 0/1 [00:03<?, ?trial/s, best loss=?]\r                                                     \r[LightGBM] [Warning] No further splits with positive gain, best gain: -inf\n\r  0%|          | 0/1 [00:03<?, ?trial/s, best loss=?]\r                                                     \r[LightGBM] [Warning] No further splits with positive gain, best gain: -inf\n\r  0%|          | 0/1 [00:03<?, ?trial/s, best loss=?]\r                                                     \rEarly stopping, best iteration is:\n[81]\tvalid_0's l2: 352.191\n\r  0%|          | 0/1 [00:03<?, ?trial/s, best loss=?]\r                                                     \r[LightGBM] [Warning] lambda_l2 is set=2.284068184490839, reg_lambda=0.0 will be ignored. Current value: lambda_l2=2.284068184490839\n\r  0%|          | 0/1 [00:03<?, ?trial/s, best loss=?]\r                                                     \r[LightGBM] [Warning] lambda_l1 is set=1.5259086651908624, reg_alpha=0.0 will be ignored. Current value: lambda_l1=1.5259086651908624\n\r  0%|          | 0/1 [00:03<?, ?trial/s, best loss=?]\r                                                     \r[LightGBM] [Warning] lambda_l2 is set=2.284068184490839, reg_lambda=0.0 will be ignored. Current value: lambda_l2=2.284068184490839\n\r  0%|          | 0/1 [00:04<?, ?trial/s, best loss=?]\r                                                     \r[LightGBM] [Warning] lambda_l1 is set=1.5259086651908624, reg_alpha=0.0 will be ignored. Current value: lambda_l1=1.5259086651908624\n\r  0%|          | 0/1 [00:04<?, ?trial/s, best loss=?]\r                                                     \r[LightGBM] [Warning] lambda_l2 is set=2.284068184490839, reg_lambda=0.0 will be ignored. Current value: lambda_l2=2.284068184490839\n\r  0%|          | 0/1 [00:04<?, ?trial/s, best loss=?]\r                                                     \r[LightGBM] [Warning] lambda_l1 is set=1.5259086651908624, reg_alpha=0.0 will be ignored. Current value: lambda_l1=1.5259086651908624\n\r  0%|          | 0/1 [00:04<?, ?trial/s, best loss=?]"
     ]
    },
    {
     "output_type": "display_data",
     "data": {
      "application/vnd.jupyter.widget-view+json": {
       "model_id": "3fc07c0bf1534695896c91ee3a578531",
       "version_major": 2,
       "version_minor": 0
      },
      "text/plain": [
       "Uploading artifacts:   0%|          | 0/11 [00:00<?, ?it/s]"
      ]
     },
     "metadata": {},
     "output_type": "display_data"
    },
    {
     "output_type": "display_data",
     "data": {
      "application/vnd.jupyter.widget-view+json": {
       "model_id": "b385ab2dbe6a4082bc9491b7e0b36bcd",
       "version_major": 2,
       "version_minor": 0
      },
      "text/plain": [
       "Downloading artifacts:   0%|          | 0/11 [00:00<?, ?it/s]"
      ]
     },
     "metadata": {},
     "output_type": "display_data"
    },
    {
     "output_type": "stream",
     "name": "stdout",
     "output_type": "stream",
     "text": [
      "\r                                                     \r[LightGBM] [Warning] lambda_l2 is set=2.284068184490839, reg_lambda=0.0 will be ignored. Current value: lambda_l2=2.284068184490839\n\r  0%|          | 0/1 [00:10<?, ?trial/s, best loss=?]\r                                                     \r[LightGBM] [Warning] lambda_l1 is set=1.5259086651908624, reg_alpha=0.0 will be ignored. Current value: lambda_l1=1.5259086651908624\n\r  0%|          | 0/1 [00:10<?, ?trial/s, best loss=?]"
     ]
    },
    {
     "output_type": "stream",
     "name": "stderr",
     "output_type": "stream",
     "text": [
      "/databricks/python/lib/python3.12/site-packages/mlflow/types/utils.py:406: UserWarning: Hint: Inferred schema contains integer column(s). Integer columns in Python cannot represent missing values. If your input data contains missing values at inference time, it will be encoded as floats and will cause a schema enforcement error. The best way to avoid this problem is to infer the model schema based on a realistic data sample (training dataset) that includes missing values. Alternatively, you can declare integer columns as doubles (float64) whenever these columns may have missing values. See `Handling Integers With Missing Values <https://www.mlflow.org/docs/latest/models.html#handling-integers-with-missing-values>`_ for more details.\n  warnings.warn(\n\n2024/12/04 03:16:14 INFO mlflow.models.evaluation.default_evaluator: Computing model predictions.\n\n2024/12/04 03:16:14 WARNING mlflow.utils.autologging_utils: You are using an unsupported version of langchain. If you encounter errors during autologging, try upgrading / downgrading langchain to a supported version, or try upgrading MLflow.\n\n"
     ]
    },
    {
     "output_type": "stream",
     "name": "stdout",
     "output_type": "stream",
     "text": [
      "\r                                                     \r[LightGBM] [Warning] lambda_l2 is set=2.284068184490839, reg_lambda=0.0 will be ignored. Current value: lambda_l2=2.284068184490839\n\r  0%|          | 0/1 [00:12<?, ?trial/s, best loss=?]\r                                                     \r[LightGBM] [Warning] lambda_l1 is set=1.5259086651908624, reg_alpha=0.0 will be ignored. Current value: lambda_l1=1.5259086651908624\n\r  0%|          | 0/1 [00:12<?, ?trial/s, best loss=?]"
     ]
    },
    {
     "output_type": "stream",
     "name": "stderr",
     "output_type": "stream",
     "text": [
      "2024/12/04 03:16:14 WARNING mlflow.utils.autologging_utils: You are using an unsupported version of langchain. If you encounter errors during autologging, try upgrading / downgrading langchain to a supported version, or try upgrading MLflow.\n\n"
     ]
    },
    {
     "output_type": "stream",
     "name": "stdout",
     "output_type": "stream",
     "text": [
      "\r                                                     \r[LightGBM] [Warning] lambda_l2 is set=2.284068184490839, reg_lambda=0.0 will be ignored. Current value: lambda_l2=2.284068184490839\n\r  0%|          | 0/1 [00:12<?, ?trial/s, best loss=?]\r                                                     \r[LightGBM] [Warning] lambda_l1 is set=1.5259086651908624, reg_alpha=0.0 will be ignored. Current value: lambda_l1=1.5259086651908624\n\r  0%|          | 0/1 [00:12<?, ?trial/s, best loss=?]"
     ]
    },
    {
     "output_type": "stream",
     "name": "stderr",
     "output_type": "stream",
     "text": [
      "/databricks/python/lib/python3.12/site-packages/sklearn/metrics/_regression.py:483: FutureWarning: 'squared' is deprecated in version 1.4 and will be removed in 1.6. To calculate the root mean squared error, use the function'root_mean_squared_error'.\n  warnings.warn(\n\n2024/12/04 03:16:15 INFO mlflow.models.evaluation.default_evaluator: Testing metrics on first row...\n\n/databricks/python/lib/python3.12/site-packages/mlflow/types/utils.py:406: UserWarning: Hint: Inferred schema contains integer column(s). Integer columns in Python cannot represent missing values. If your input data contains missing values at inference time, it will be encoded as floats and will cause a schema enforcement error. The best way to avoid this problem is to infer the model schema based on a realistic data sample (training dataset) that includes missing values. Alternatively, you can declare integer columns as doubles (float64) whenever these columns may have missing values. See `Handling Integers With Missing Values <https://www.mlflow.org/docs/latest/models.html#handling-integers-with-missing-values>`_ for more details.\n  warnings.warn(\n\n2024/12/04 03:16:15 INFO mlflow.models.evaluation.default_evaluator: Computing model predictions.\n\n2024/12/04 03:16:15 WARNING mlflow.utils.autologging_utils: You are using an unsupported version of langchain. If you encounter errors during autologging, try upgrading / downgrading langchain to a supported version, or try upgrading MLflow.\n\n"
     ]
    },
    {
     "output_type": "stream",
     "name": "stdout",
     "output_type": "stream",
     "text": [
      "\r                                                     \r[LightGBM] [Warning] lambda_l2 is set=2.284068184490839, reg_lambda=0.0 will be ignored. Current value: lambda_l2=2.284068184490839\n\r  0%|          | 0/1 [00:14<?, ?trial/s, best loss=?]\r                                                     \r[LightGBM] [Warning] lambda_l1 is set=1.5259086651908624, reg_alpha=0.0 will be ignored. Current value: lambda_l1=1.5259086651908624\n\r  0%|          | 0/1 [00:14<?, ?trial/s, best loss=?]"
     ]
    },
    {
     "output_type": "stream",
     "name": "stderr",
     "output_type": "stream",
     "text": [
      "/databricks/python/lib/python3.12/site-packages/sklearn/preprocessing/_encoders.py:241: UserWarning: Found unknown categories in columns [6] during transform. These unknown categories will be encoded as all zeros\n  warnings.warn(\n\n2024/12/04 03:16:16 WARNING mlflow.utils.autologging_utils: You are using an unsupported version of langchain. If you encounter errors during autologging, try upgrading / downgrading langchain to a supported version, or try upgrading MLflow.\n\n"
     ]
    },
    {
     "output_type": "stream",
     "name": "stdout",
     "output_type": "stream",
     "text": [
      "\r                                                     \r[LightGBM] [Warning] lambda_l2 is set=2.284068184490839, reg_lambda=0.0 will be ignored. Current value: lambda_l2=2.284068184490839\n\r  0%|          | 0/1 [00:14<?, ?trial/s, best loss=?]\r                                                     \r[LightGBM] [Warning] lambda_l1 is set=1.5259086651908624, reg_alpha=0.0 will be ignored. Current value: lambda_l1=1.5259086651908624\n\r  0%|          | 0/1 [00:14<?, ?trial/s, best loss=?]"
     ]
    },
    {
     "output_type": "stream",
     "name": "stderr",
     "output_type": "stream",
     "text": [
      "/databricks/python/lib/python3.12/site-packages/sklearn/preprocessing/_encoders.py:241: UserWarning: Found unknown categories in columns [6] during transform. These unknown categories will be encoded as all zeros\n  warnings.warn(\n\n/databricks/python/lib/python3.12/site-packages/sklearn/metrics/_regression.py:483: FutureWarning: 'squared' is deprecated in version 1.4 and will be removed in 1.6. To calculate the root mean squared error, use the function'root_mean_squared_error'.\n  warnings.warn(\n\n2024/12/04 03:16:16 INFO mlflow.models.evaluation.default_evaluator: Testing metrics on first row...\n\n/databricks/python/lib/python3.12/site-packages/mlflow/types/utils.py:406: UserWarning: Hint: Inferred schema contains integer column(s). Integer columns in Python cannot represent missing values. If your input data contains missing values at inference time, it will be encoded as floats and will cause a schema enforcement error. The best way to avoid this problem is to infer the model schema based on a realistic data sample (training dataset) that includes missing values. Alternatively, you can declare integer columns as doubles (float64) whenever these columns may have missing values. See `Handling Integers With Missing Values <https://www.mlflow.org/docs/latest/models.html#handling-integers-with-missing-values>`_ for more details.\n  warnings.warn(\n\n2024/12/04 03:16:16 INFO mlflow.models.evaluation.default_evaluator: Computing model predictions.\n\n2024/12/04 03:16:16 WARNING mlflow.utils.autologging_utils: You are using an unsupported version of langchain. If you encounter errors during autologging, try upgrading / downgrading langchain to a supported version, or try upgrading MLflow.\n\n"
     ]
    },
    {
     "output_type": "stream",
     "name": "stdout",
     "output_type": "stream",
     "text": [
      "\r                                                     \r[LightGBM] [Warning] lambda_l2 is set=2.284068184490839, reg_lambda=0.0 will be ignored. Current value: lambda_l2=2.284068184490839\n\r  0%|          | 0/1 [00:15<?, ?trial/s, best loss=?]\r                                                     \r[LightGBM] [Warning] lambda_l1 is set=1.5259086651908624, reg_alpha=0.0 will be ignored. Current value: lambda_l1=1.5259086651908624\n\r  0%|          | 0/1 [00:15<?, ?trial/s, best loss=?]"
     ]
    },
    {
     "output_type": "stream",
     "name": "stderr",
     "output_type": "stream",
     "text": [
      "2024/12/04 03:16:17 WARNING mlflow.utils.autologging_utils: You are using an unsupported version of langchain. If you encounter errors during autologging, try upgrading / downgrading langchain to a supported version, or try upgrading MLflow.\n\n"
     ]
    },
    {
     "output_type": "stream",
     "name": "stdout",
     "output_type": "stream",
     "text": [
      "\r                                                     \r[LightGBM] [Warning] lambda_l2 is set=2.284068184490839, reg_lambda=0.0 will be ignored. Current value: lambda_l2=2.284068184490839\n\r  0%|          | 0/1 [00:15<?, ?trial/s, best loss=?]\r                                                     \r[LightGBM] [Warning] lambda_l1 is set=1.5259086651908624, reg_alpha=0.0 will be ignored. Current value: lambda_l1=1.5259086651908624\n\r  0%|          | 0/1 [00:15<?, ?trial/s, best loss=?]"
     ]
    },
    {
     "output_type": "stream",
     "name": "stderr",
     "output_type": "stream",
     "text": [
      "/databricks/python/lib/python3.12/site-packages/sklearn/metrics/_regression.py:483: FutureWarning: 'squared' is deprecated in version 1.4 and will be removed in 1.6. To calculate the root mean squared error, use the function'root_mean_squared_error'.\n  warnings.warn(\n\n2024/12/04 03:16:17 INFO mlflow.models.evaluation.default_evaluator: Testing metrics on first row...\n\n2024/12/04 03:16:17 INFO mlflow.tracking._tracking_service.client: 🏃 View run unruly-ape-858 at: dbc-88ba1732-a561.cloud.databricks.com/ml/experiments/1000622678751943/runs/66abbd367f4745cda811d23115c269c4.\n\n2024/12/04 03:16:17 INFO mlflow.tracking._tracking_service.client: 🧪 View experiment at: dbc-88ba1732-a561.cloud.databricks.com/ml/experiments/1000622678751943.\n\n"
     ]
    },
    {
     "output_type": "stream",
     "name": "stdout",
     "output_type": "stream",
     "text": [
      "\r100%|██████████| 1/1 [00:15<00:00, 15.43s/trial, best loss: -0.12122553019001325]\r100%|██████████| 1/1 [00:15<00:00, 15.43s/trial, best loss: -0.12122553019001325]\n"
     ]
    },
    {
     "output_type": "display_data",
     "data": {
      "text/html": [
       "<style scoped>\n",
       "  .table-result-container {\n",
       "    max-height: 300px;\n",
       "    overflow: auto;\n",
       "  }\n",
       "  table, th, td {\n",
       "    border: 1px solid black;\n",
       "    border-collapse: collapse;\n",
       "  }\n",
       "  th, td {\n",
       "    padding: 5px;\n",
       "  }\n",
       "  th {\n",
       "    text-align: left;\n",
       "  }\n",
       "</style><div class='table-result-container'><table class='table-result'><thead style='background-color: white'><tr><th>split</th><th>score</th><th>example_count</th><th>mean_absolute_error</th><th>mean_squared_error</th><th>root_mean_squared_error</th><th>sum_on_target</th><th>mean_on_target</th><th>r2_score</th><th>max_error</th><th>mean_absolute_percentage_error</th></tr></thead><tbody><tr><td>validation</td><td>0.12122553019001325</td><td>18761</td><td>8.60365683886152</td><td>352.1907694620742</td><td>18.766746373894282</td><td>191895.0</td><td>10.228399339054421</td><td>0.12122553019001325</td><td>253.5998446825151</td><td>1.6627885625589198</td></tr><tr><td>test</td><td>0.12678262464759937</td><td>18639</td><td>8.309832788819005</td><td>331.3958260364855</td><td>18.204280431714007</td><td>186066.0</td><td>9.982617093191696</td><td>0.12678262464759937</td><td>253.86099293884735</td><td>1.635916598015807</td></tr></tbody></table></div>"
      ]
     },
     "metadata": {
      "application/vnd.databricks.v1+output": {
       "addedWidgets": {},
       "aggData": [],
       "aggError": "",
       "aggOverflow": false,
       "aggSchema": [],
       "aggSeriesLimitReached": false,
       "aggType": "",
       "arguments": {},
       "columnCustomDisplayInfos": {},
       "data": [
        [
         "validation",
         0.12122553019001325,
         18761,
         8.60365683886152,
         352.1907694620742,
         18.766746373894282,
         191895.0,
         10.228399339054421,
         0.12122553019001325,
         253.5998446825151,
         1.6627885625589198
        ],
        [
         "test",
         0.12678262464759937,
         18639,
         8.309832788819005,
         331.3958260364855,
         18.204280431714007,
         186066.0,
         9.982617093191696,
         0.12678262464759937,
         253.86099293884735,
         1.635916598015807
        ]
       ],
       "datasetInfos": [],
       "dbfsResultPath": null,
       "isJsonSchema": true,
       "metadata": {},
       "overflow": false,
       "plotOptions": {
        "customPlotOptions": {},
        "displayType": "table",
        "pivotAggregation": null,
        "pivotColumns": null,
        "xColumns": null,
        "yColumns": null
       },
       "removedWidgets": [],
       "schema": [
        {
         "metadata": "{}",
         "name": "split",
         "type": "\"string\""
        },
        {
         "metadata": "{}",
         "name": "score",
         "type": "\"double\""
        },
        {
         "metadata": "{}",
         "name": "example_count",
         "type": "\"long\""
        },
        {
         "metadata": "{}",
         "name": "mean_absolute_error",
         "type": "\"double\""
        },
        {
         "metadata": "{}",
         "name": "mean_squared_error",
         "type": "\"double\""
        },
        {
         "metadata": "{}",
         "name": "root_mean_squared_error",
         "type": "\"double\""
        },
        {
         "metadata": "{}",
         "name": "sum_on_target",
         "type": "\"double\""
        },
        {
         "metadata": "{}",
         "name": "mean_on_target",
         "type": "\"double\""
        },
        {
         "metadata": "{}",
         "name": "r2_score",
         "type": "\"double\""
        },
        {
         "metadata": "{}",
         "name": "max_error",
         "type": "\"double\""
        },
        {
         "metadata": "{}",
         "name": "mean_absolute_percentage_error",
         "type": "\"double\""
        }
       ],
       "type": "table"
      }
     },
     "output_type": "display_data"
    },
    {
     "output_type": "execute_result",
     "data": {
      "text/html": [
       "<style>#sk-container-id-2 {\n",
       "  /* Definition of color scheme common for light and dark mode */\n",
       "  --sklearn-color-text: black;\n",
       "  --sklearn-color-line: gray;\n",
       "  /* Definition of color scheme for unfitted estimators */\n",
       "  --sklearn-color-unfitted-level-0: #fff5e6;\n",
       "  --sklearn-color-unfitted-level-1: #f6e4d2;\n",
       "  --sklearn-color-unfitted-level-2: #ffe0b3;\n",
       "  --sklearn-color-unfitted-level-3: chocolate;\n",
       "  /* Definition of color scheme for fitted estimators */\n",
       "  --sklearn-color-fitted-level-0: #f0f8ff;\n",
       "  --sklearn-color-fitted-level-1: #d4ebff;\n",
       "  --sklearn-color-fitted-level-2: #b3dbfd;\n",
       "  --sklearn-color-fitted-level-3: cornflowerblue;\n",
       "\n",
       "  /* Specific color for light theme */\n",
       "  --sklearn-color-text-on-default-background: var(--sg-text-color, var(--theme-code-foreground, var(--jp-content-font-color1, black)));\n",
       "  --sklearn-color-background: var(--sg-background-color, var(--theme-background, var(--jp-layout-color0, white)));\n",
       "  --sklearn-color-border-box: var(--sg-text-color, var(--theme-code-foreground, var(--jp-content-font-color1, black)));\n",
       "  --sklearn-color-icon: #696969;\n",
       "\n",
       "  @media (prefers-color-scheme: dark) {\n",
       "    /* Redefinition of color scheme for dark theme */\n",
       "    --sklearn-color-text-on-default-background: var(--sg-text-color, var(--theme-code-foreground, var(--jp-content-font-color1, white)));\n",
       "    --sklearn-color-background: var(--sg-background-color, var(--theme-background, var(--jp-layout-color0, #111)));\n",
       "    --sklearn-color-border-box: var(--sg-text-color, var(--theme-code-foreground, var(--jp-content-font-color1, white)));\n",
       "    --sklearn-color-icon: #878787;\n",
       "  }\n",
       "}\n",
       "\n",
       "#sk-container-id-2 {\n",
       "  color: var(--sklearn-color-text);\n",
       "}\n",
       "\n",
       "#sk-container-id-2 pre {\n",
       "  padding: 0;\n",
       "}\n",
       "\n",
       "#sk-container-id-2 input.sk-hidden--visually {\n",
       "  border: 0;\n",
       "  clip: rect(1px 1px 1px 1px);\n",
       "  clip: rect(1px, 1px, 1px, 1px);\n",
       "  height: 1px;\n",
       "  margin: -1px;\n",
       "  overflow: hidden;\n",
       "  padding: 0;\n",
       "  position: absolute;\n",
       "  width: 1px;\n",
       "}\n",
       "\n",
       "#sk-container-id-2 div.sk-dashed-wrapped {\n",
       "  border: 1px dashed var(--sklearn-color-line);\n",
       "  margin: 0 0.4em 0.5em 0.4em;\n",
       "  box-sizing: border-box;\n",
       "  padding-bottom: 0.4em;\n",
       "  background-color: var(--sklearn-color-background);\n",
       "}\n",
       "\n",
       "#sk-container-id-2 div.sk-container {\n",
       "  /* jupyter's `normalize.less` sets `[hidden] { display: none; }`\n",
       "     but bootstrap.min.css set `[hidden] { display: none !important; }`\n",
       "     so we also need the `!important` here to be able to override the\n",
       "     default hidden behavior on the sphinx rendered scikit-learn.org.\n",
       "     See: https://github.com/scikit-learn/scikit-learn/issues/21755 */\n",
       "  display: inline-block !important;\n",
       "  position: relative;\n",
       "}\n",
       "\n",
       "#sk-container-id-2 div.sk-text-repr-fallback {\n",
       "  display: none;\n",
       "}\n",
       "\n",
       "div.sk-parallel-item,\n",
       "div.sk-serial,\n",
       "div.sk-item {\n",
       "  /* draw centered vertical line to link estimators */\n",
       "  background-image: linear-gradient(var(--sklearn-color-text-on-default-background), var(--sklearn-color-text-on-default-background));\n",
       "  background-size: 2px 100%;\n",
       "  background-repeat: no-repeat;\n",
       "  background-position: center center;\n",
       "}\n",
       "\n",
       "/* Parallel-specific style estimator block */\n",
       "\n",
       "#sk-container-id-2 div.sk-parallel-item::after {\n",
       "  content: \"\";\n",
       "  width: 100%;\n",
       "  border-bottom: 2px solid var(--sklearn-color-text-on-default-background);\n",
       "  flex-grow: 1;\n",
       "}\n",
       "\n",
       "#sk-container-id-2 div.sk-parallel {\n",
       "  display: flex;\n",
       "  align-items: stretch;\n",
       "  justify-content: center;\n",
       "  background-color: var(--sklearn-color-background);\n",
       "  position: relative;\n",
       "}\n",
       "\n",
       "#sk-container-id-2 div.sk-parallel-item {\n",
       "  display: flex;\n",
       "  flex-direction: column;\n",
       "}\n",
       "\n",
       "#sk-container-id-2 div.sk-parallel-item:first-child::after {\n",
       "  align-self: flex-end;\n",
       "  width: 50%;\n",
       "}\n",
       "\n",
       "#sk-container-id-2 div.sk-parallel-item:last-child::after {\n",
       "  align-self: flex-start;\n",
       "  width: 50%;\n",
       "}\n",
       "\n",
       "#sk-container-id-2 div.sk-parallel-item:only-child::after {\n",
       "  width: 0;\n",
       "}\n",
       "\n",
       "/* Serial-specific style estimator block */\n",
       "\n",
       "#sk-container-id-2 div.sk-serial {\n",
       "  display: flex;\n",
       "  flex-direction: column;\n",
       "  align-items: center;\n",
       "  background-color: var(--sklearn-color-background);\n",
       "  padding-right: 1em;\n",
       "  padding-left: 1em;\n",
       "}\n",
       "\n",
       "\n",
       "/* Toggleable style: style used for estimator/Pipeline/ColumnTransformer box that is\n",
       "clickable and can be expanded/collapsed.\n",
       "- Pipeline and ColumnTransformer use this feature and define the default style\n",
       "- Estimators will overwrite some part of the style using the `sk-estimator` class\n",
       "*/\n",
       "\n",
       "/* Pipeline and ColumnTransformer style (default) */\n",
       "\n",
       "#sk-container-id-2 div.sk-toggleable {\n",
       "  /* Default theme specific background. It is overwritten whether we have a\n",
       "  specific estimator or a Pipeline/ColumnTransformer */\n",
       "  background-color: var(--sklearn-color-background);\n",
       "}\n",
       "\n",
       "/* Toggleable label */\n",
       "#sk-container-id-2 label.sk-toggleable__label {\n",
       "  cursor: pointer;\n",
       "  display: block;\n",
       "  width: 100%;\n",
       "  margin-bottom: 0;\n",
       "  padding: 0.5em;\n",
       "  box-sizing: border-box;\n",
       "  text-align: center;\n",
       "}\n",
       "\n",
       "#sk-container-id-2 label.sk-toggleable__label-arrow:before {\n",
       "  /* Arrow on the left of the label */\n",
       "  content: \"▸\";\n",
       "  float: left;\n",
       "  margin-right: 0.25em;\n",
       "  color: var(--sklearn-color-icon);\n",
       "}\n",
       "\n",
       "#sk-container-id-2 label.sk-toggleable__label-arrow:hover:before {\n",
       "  color: var(--sklearn-color-text);\n",
       "}\n",
       "\n",
       "/* Toggleable content - dropdown */\n",
       "\n",
       "#sk-container-id-2 div.sk-toggleable__content {\n",
       "  max-height: 0;\n",
       "  max-width: 0;\n",
       "  overflow: hidden;\n",
       "  text-align: left;\n",
       "  /* unfitted */\n",
       "  background-color: var(--sklearn-color-unfitted-level-0);\n",
       "}\n",
       "\n",
       "#sk-container-id-2 div.sk-toggleable__content.fitted {\n",
       "  /* fitted */\n",
       "  background-color: var(--sklearn-color-fitted-level-0);\n",
       "}\n",
       "\n",
       "#sk-container-id-2 div.sk-toggleable__content pre {\n",
       "  margin: 0.2em;\n",
       "  border-radius: 0.25em;\n",
       "  color: var(--sklearn-color-text);\n",
       "  /* unfitted */\n",
       "  background-color: var(--sklearn-color-unfitted-level-0);\n",
       "}\n",
       "\n",
       "#sk-container-id-2 div.sk-toggleable__content.fitted pre {\n",
       "  /* unfitted */\n",
       "  background-color: var(--sklearn-color-fitted-level-0);\n",
       "}\n",
       "\n",
       "#sk-container-id-2 input.sk-toggleable__control:checked~div.sk-toggleable__content {\n",
       "  /* Expand drop-down */\n",
       "  max-height: 200px;\n",
       "  max-width: 100%;\n",
       "  overflow: auto;\n",
       "}\n",
       "\n",
       "#sk-container-id-2 input.sk-toggleable__control:checked~label.sk-toggleable__label-arrow:before {\n",
       "  content: \"▾\";\n",
       "}\n",
       "\n",
       "/* Pipeline/ColumnTransformer-specific style */\n",
       "\n",
       "#sk-container-id-2 div.sk-label input.sk-toggleable__control:checked~label.sk-toggleable__label {\n",
       "  color: var(--sklearn-color-text);\n",
       "  background-color: var(--sklearn-color-unfitted-level-2);\n",
       "}\n",
       "\n",
       "#sk-container-id-2 div.sk-label.fitted input.sk-toggleable__control:checked~label.sk-toggleable__label {\n",
       "  background-color: var(--sklearn-color-fitted-level-2);\n",
       "}\n",
       "\n",
       "/* Estimator-specific style */\n",
       "\n",
       "/* Colorize estimator box */\n",
       "#sk-container-id-2 div.sk-estimator input.sk-toggleable__control:checked~label.sk-toggleable__label {\n",
       "  /* unfitted */\n",
       "  background-color: var(--sklearn-color-unfitted-level-2);\n",
       "}\n",
       "\n",
       "#sk-container-id-2 div.sk-estimator.fitted input.sk-toggleable__control:checked~label.sk-toggleable__label {\n",
       "  /* fitted */\n",
       "  background-color: var(--sklearn-color-fitted-level-2);\n",
       "}\n",
       "\n",
       "#sk-container-id-2 div.sk-label label.sk-toggleable__label,\n",
       "#sk-container-id-2 div.sk-label label {\n",
       "  /* The background is the default theme color */\n",
       "  color: var(--sklearn-color-text-on-default-background);\n",
       "}\n",
       "\n",
       "/* On hover, darken the color of the background */\n",
       "#sk-container-id-2 div.sk-label:hover label.sk-toggleable__label {\n",
       "  color: var(--sklearn-color-text);\n",
       "  background-color: var(--sklearn-color-unfitted-level-2);\n",
       "}\n",
       "\n",
       "/* Label box, darken color on hover, fitted */\n",
       "#sk-container-id-2 div.sk-label.fitted:hover label.sk-toggleable__label.fitted {\n",
       "  color: var(--sklearn-color-text);\n",
       "  background-color: var(--sklearn-color-fitted-level-2);\n",
       "}\n",
       "\n",
       "/* Estimator label */\n",
       "\n",
       "#sk-container-id-2 div.sk-label label {\n",
       "  font-family: monospace;\n",
       "  font-weight: bold;\n",
       "  display: inline-block;\n",
       "  line-height: 1.2em;\n",
       "}\n",
       "\n",
       "#sk-container-id-2 div.sk-label-container {\n",
       "  text-align: center;\n",
       "}\n",
       "\n",
       "/* Estimator-specific */\n",
       "#sk-container-id-2 div.sk-estimator {\n",
       "  font-family: monospace;\n",
       "  border: 1px dotted var(--sklearn-color-border-box);\n",
       "  border-radius: 0.25em;\n",
       "  box-sizing: border-box;\n",
       "  margin-bottom: 0.5em;\n",
       "  /* unfitted */\n",
       "  background-color: var(--sklearn-color-unfitted-level-0);\n",
       "}\n",
       "\n",
       "#sk-container-id-2 div.sk-estimator.fitted {\n",
       "  /* fitted */\n",
       "  background-color: var(--sklearn-color-fitted-level-0);\n",
       "}\n",
       "\n",
       "/* on hover */\n",
       "#sk-container-id-2 div.sk-estimator:hover {\n",
       "  /* unfitted */\n",
       "  background-color: var(--sklearn-color-unfitted-level-2);\n",
       "}\n",
       "\n",
       "#sk-container-id-2 div.sk-estimator.fitted:hover {\n",
       "  /* fitted */\n",
       "  background-color: var(--sklearn-color-fitted-level-2);\n",
       "}\n",
       "\n",
       "/* Specification for estimator info (e.g. \"i\" and \"?\") */\n",
       "\n",
       "/* Common style for \"i\" and \"?\" */\n",
       "\n",
       ".sk-estimator-doc-link,\n",
       "a:link.sk-estimator-doc-link,\n",
       "a:visited.sk-estimator-doc-link {\n",
       "  float: right;\n",
       "  font-size: smaller;\n",
       "  line-height: 1em;\n",
       "  font-family: monospace;\n",
       "  background-color: var(--sklearn-color-background);\n",
       "  border-radius: 1em;\n",
       "  height: 1em;\n",
       "  width: 1em;\n",
       "  text-decoration: none !important;\n",
       "  margin-left: 1ex;\n",
       "  /* unfitted */\n",
       "  border: var(--sklearn-color-unfitted-level-1) 1pt solid;\n",
       "  color: var(--sklearn-color-unfitted-level-1);\n",
       "}\n",
       "\n",
       ".sk-estimator-doc-link.fitted,\n",
       "a:link.sk-estimator-doc-link.fitted,\n",
       "a:visited.sk-estimator-doc-link.fitted {\n",
       "  /* fitted */\n",
       "  border: var(--sklearn-color-fitted-level-1) 1pt solid;\n",
       "  color: var(--sklearn-color-fitted-level-1);\n",
       "}\n",
       "\n",
       "/* On hover */\n",
       "div.sk-estimator:hover .sk-estimator-doc-link:hover,\n",
       ".sk-estimator-doc-link:hover,\n",
       "div.sk-label-container:hover .sk-estimator-doc-link:hover,\n",
       ".sk-estimator-doc-link:hover {\n",
       "  /* unfitted */\n",
       "  background-color: var(--sklearn-color-unfitted-level-3);\n",
       "  color: var(--sklearn-color-background);\n",
       "  text-decoration: none;\n",
       "}\n",
       "\n",
       "div.sk-estimator.fitted:hover .sk-estimator-doc-link.fitted:hover,\n",
       ".sk-estimator-doc-link.fitted:hover,\n",
       "div.sk-label-container:hover .sk-estimator-doc-link.fitted:hover,\n",
       ".sk-estimator-doc-link.fitted:hover {\n",
       "  /* fitted */\n",
       "  background-color: var(--sklearn-color-fitted-level-3);\n",
       "  color: var(--sklearn-color-background);\n",
       "  text-decoration: none;\n",
       "}\n",
       "\n",
       "/* Span, style for the box shown on hovering the info icon */\n",
       ".sk-estimator-doc-link span {\n",
       "  display: none;\n",
       "  z-index: 9999;\n",
       "  position: relative;\n",
       "  font-weight: normal;\n",
       "  right: .2ex;\n",
       "  padding: .5ex;\n",
       "  margin: .5ex;\n",
       "  width: min-content;\n",
       "  min-width: 20ex;\n",
       "  max-width: 50ex;\n",
       "  color: var(--sklearn-color-text);\n",
       "  box-shadow: 2pt 2pt 4pt #999;\n",
       "  /* unfitted */\n",
       "  background: var(--sklearn-color-unfitted-level-0);\n",
       "  border: .5pt solid var(--sklearn-color-unfitted-level-3);\n",
       "}\n",
       "\n",
       ".sk-estimator-doc-link.fitted span {\n",
       "  /* fitted */\n",
       "  background: var(--sklearn-color-fitted-level-0);\n",
       "  border: var(--sklearn-color-fitted-level-3);\n",
       "}\n",
       "\n",
       ".sk-estimator-doc-link:hover span {\n",
       "  display: block;\n",
       "}\n",
       "\n",
       "/* \"?\"-specific style due to the `<a>` HTML tag */\n",
       "\n",
       "#sk-container-id-2 a.estimator_doc_link {\n",
       "  float: right;\n",
       "  font-size: 1rem;\n",
       "  line-height: 1em;\n",
       "  font-family: monospace;\n",
       "  background-color: var(--sklearn-color-background);\n",
       "  border-radius: 1rem;\n",
       "  height: 1rem;\n",
       "  width: 1rem;\n",
       "  text-decoration: none;\n",
       "  /* unfitted */\n",
       "  color: var(--sklearn-color-unfitted-level-1);\n",
       "  border: var(--sklearn-color-unfitted-level-1) 1pt solid;\n",
       "}\n",
       "\n",
       "#sk-container-id-2 a.estimator_doc_link.fitted {\n",
       "  /* fitted */\n",
       "  border: var(--sklearn-color-fitted-level-1) 1pt solid;\n",
       "  color: var(--sklearn-color-fitted-level-1);\n",
       "}\n",
       "\n",
       "/* On hover */\n",
       "#sk-container-id-2 a.estimator_doc_link:hover {\n",
       "  /* unfitted */\n",
       "  background-color: var(--sklearn-color-unfitted-level-3);\n",
       "  color: var(--sklearn-color-background);\n",
       "  text-decoration: none;\n",
       "}\n",
       "\n",
       "#sk-container-id-2 a.estimator_doc_link.fitted:hover {\n",
       "  /* fitted */\n",
       "  background-color: var(--sklearn-color-fitted-level-3);\n",
       "}\n",
       "</style><div id=\"sk-container-id-2\" class=\"sk-top-container\"><div class=\"sk-text-repr-fallback\"><pre>Pipeline(steps=[(&#x27;column_selector&#x27;,\n",
       "                 ColumnSelector(cols=[&#x27;pay_period_WEEKLY&#x27;, &#x27;title_length&#x27;,\n",
       "                                      &#x27;experience_Executive&#x27;,\n",
       "                                      &#x27;pay_period_YEARLY&#x27;,\n",
       "                                      &#x27;work_type_Internship&#x27;,\n",
       "                                      &#x27;work_type_Part-time&#x27;,\n",
       "                                      &#x27;work_type_Contract&#x27;, &#x27;currency_BBD&#x27;,\n",
       "                                      &#x27;app_type_ComplexOnsiteApply&#x27;,\n",
       "                                      &#x27;experience_Internship&#x27;,\n",
       "                                      &#x27;experience_Mid-Senior_level&#x27;,\n",
       "                                      &#x27;work_type_Full-time&#x27;,\n",
       "                                      &#x27;pay_period_MONTHLY&#x27;,\n",
       "                                      &#x27;experie...\n",
       "                                                   &#x27;work_type_Temporary&#x27;,\n",
       "                                                   &#x27;app_type_SimpleOnsiteApply&#x27;,\n",
       "                                                   &#x27;app_type_OffsiteApply&#x27;, ...])])),\n",
       "                (&#x27;regressor&#x27;,\n",
       "                 LGBMRegressor(colsample_bytree=0.45048245215462374,\n",
       "                               lambda_l1=1.5259086651908624,\n",
       "                               lambda_l2=2.284068184490839,\n",
       "                               learning_rate=0.07455544417338009, max_bin=479,\n",
       "                               max_depth=8, min_child_samples=69,\n",
       "                               n_estimators=152, num_leaves=56,\n",
       "                               random_state=162540551,\n",
       "                               subsample=0.6707665228761195))])</pre><b>In a Jupyter environment, please rerun this cell to show the HTML representation or trust the notebook. <br />On GitHub, the HTML representation is unable to render, please try loading this page with nbviewer.org.</b></div><div class=\"sk-container\" hidden><div class=\"sk-item sk-dashed-wrapped\"><div class=\"sk-label-container\"><div class=\"sk-label fitted sk-toggleable\"><input class=\"sk-toggleable__control sk-hidden--visually\" id=\"sk-estimator-id-19\" type=\"checkbox\" ><label for=\"sk-estimator-id-19\" class=\"sk-toggleable__label fitted sk-toggleable__label-arrow fitted\">&nbsp;&nbsp;Pipeline<a class=\"sk-estimator-doc-link fitted\" rel=\"noreferrer\" target=\"_blank\" href=\"https://scikit-learn.org/1.4/modules/generated/sklearn.pipeline.Pipeline.html\">?<span>Documentation for Pipeline</span></a><span class=\"sk-estimator-doc-link fitted\">i<span>Fitted</span></span></label><div class=\"sk-toggleable__content fitted\"><pre>Pipeline(steps=[(&#x27;column_selector&#x27;,\n",
       "                 ColumnSelector(cols=[&#x27;pay_period_WEEKLY&#x27;, &#x27;title_length&#x27;,\n",
       "                                      &#x27;experience_Executive&#x27;,\n",
       "                                      &#x27;pay_period_YEARLY&#x27;,\n",
       "                                      &#x27;work_type_Internship&#x27;,\n",
       "                                      &#x27;work_type_Part-time&#x27;,\n",
       "                                      &#x27;work_type_Contract&#x27;, &#x27;currency_BBD&#x27;,\n",
       "                                      &#x27;app_type_ComplexOnsiteApply&#x27;,\n",
       "                                      &#x27;experience_Internship&#x27;,\n",
       "                                      &#x27;experience_Mid-Senior_level&#x27;,\n",
       "                                      &#x27;work_type_Full-time&#x27;,\n",
       "                                      &#x27;pay_period_MONTHLY&#x27;,\n",
       "                                      &#x27;experie...\n",
       "                                                   &#x27;work_type_Temporary&#x27;,\n",
       "                                                   &#x27;app_type_SimpleOnsiteApply&#x27;,\n",
       "                                                   &#x27;app_type_OffsiteApply&#x27;, ...])])),\n",
       "                (&#x27;regressor&#x27;,\n",
       "                 LGBMRegressor(colsample_bytree=0.45048245215462374,\n",
       "                               lambda_l1=1.5259086651908624,\n",
       "                               lambda_l2=2.284068184490839,\n",
       "                               learning_rate=0.07455544417338009, max_bin=479,\n",
       "                               max_depth=8, min_child_samples=69,\n",
       "                               n_estimators=152, num_leaves=56,\n",
       "                               random_state=162540551,\n",
       "                               subsample=0.6707665228761195))])</pre></div> </div></div><div class=\"sk-serial\"><div class=\"sk-item\"><div class=\"sk-estimator fitted sk-toggleable\"><input class=\"sk-toggleable__control sk-hidden--visually\" id=\"sk-estimator-id-20\" type=\"checkbox\" ><label for=\"sk-estimator-id-20\" class=\"sk-toggleable__label fitted sk-toggleable__label-arrow fitted\">ColumnSelector</label><div class=\"sk-toggleable__content fitted\"><pre>ColumnSelector(cols=[&#x27;pay_period_WEEKLY&#x27;, &#x27;title_length&#x27;,\n",
       "                     &#x27;experience_Executive&#x27;, &#x27;pay_period_YEARLY&#x27;,\n",
       "                     &#x27;work_type_Internship&#x27;, &#x27;work_type_Part-time&#x27;,\n",
       "                     &#x27;work_type_Contract&#x27;, &#x27;currency_BBD&#x27;,\n",
       "                     &#x27;app_type_ComplexOnsiteApply&#x27;, &#x27;experience_Internship&#x27;,\n",
       "                     &#x27;experience_Mid-Senior_level&#x27;, &#x27;work_type_Full-time&#x27;,\n",
       "                     &#x27;pay_period_MONTHLY&#x27;, &#x27;experience_Director&#x27;,\n",
       "                     &#x27;pay_period_HOURLY&#x27;, &#x27;experience_Entry_level&#x27;,\n",
       "                     &#x27;currency_GBP&#x27;, &#x27;currency_EUR&#x27;, &#x27;currency_CAD&#x27;,\n",
       "                     &#x27;experience_Associate&#x27;, &#x27;remote_allowed&#x27;, &#x27;days_listed&#x27;,\n",
       "                     &#x27;work_type_Volunteer&#x27;, &#x27;link_to_application&#x27;,\n",
       "                     &#x27;currency_USD&#x27;, &#x27;work_type_Other&#x27;,\n",
       "                     &#x27;experience_unspecified&#x27;, &#x27;work_type_Temporary&#x27;,\n",
       "                     &#x27;app_type_SimpleOnsiteApply&#x27;, &#x27;app_type_OffsiteApply&#x27;, ...])</pre></div> </div></div><div class=\"sk-item sk-dashed-wrapped\"><div class=\"sk-label-container\"><div class=\"sk-label fitted sk-toggleable\"><input class=\"sk-toggleable__control sk-hidden--visually\" id=\"sk-estimator-id-21\" type=\"checkbox\" ><label for=\"sk-estimator-id-21\" class=\"sk-toggleable__label fitted sk-toggleable__label-arrow fitted\">&nbsp;preprocessor: ColumnTransformer<a class=\"sk-estimator-doc-link fitted\" rel=\"noreferrer\" target=\"_blank\" href=\"https://scikit-learn.org/1.4/modules/generated/sklearn.compose.ColumnTransformer.html\">?<span>Documentation for preprocessor: ColumnTransformer</span></a></label><div class=\"sk-toggleable__content fitted\"><pre>ColumnTransformer(remainder=&#x27;passthrough&#x27;, sparse_threshold=0,\n",
       "                  transformers=[(&#x27;boolean&#x27;,\n",
       "                                 Pipeline(steps=[(&#x27;cast_type&#x27;,\n",
       "                                                  FunctionTransformer(func=&lt;function &lt;lambda&gt; at 0x7f4d4e3380e0&gt;)),\n",
       "                                                 (&#x27;imputers&#x27;,\n",
       "                                                  ColumnTransformer(remainder=&#x27;passthrough&#x27;,\n",
       "                                                                    transformers=[])),\n",
       "                                                 (&#x27;onehot&#x27;,\n",
       "                                                  OneHotEncoder(drop=&#x27;first&#x27;,\n",
       "                                                                handle_unknown=&#x27;ignore&#x27;))]),\n",
       "                                 [&#x27;pay_period_WEEKLY&#x27;, &#x27;experience_Exe...\n",
       "                                  &#x27;experience_Director&#x27;, &#x27;pay_period_HOURLY&#x27;,\n",
       "                                  &#x27;experience_Entry_level&#x27;, &#x27;currency_GBP&#x27;,\n",
       "                                  &#x27;currency_EUR&#x27;, &#x27;currency_CAD&#x27;,\n",
       "                                  &#x27;experience_Associate&#x27;, &#x27;remote_allowed&#x27;,\n",
       "                                  &#x27;days_listed&#x27;, &#x27;work_type_Volunteer&#x27;,\n",
       "                                  &#x27;link_to_application&#x27;, &#x27;currency_USD&#x27;,\n",
       "                                  &#x27;work_type_Other&#x27;, &#x27;experience_unspecified&#x27;,\n",
       "                                  &#x27;work_type_Temporary&#x27;,\n",
       "                                  &#x27;app_type_SimpleOnsiteApply&#x27;,\n",
       "                                  &#x27;app_type_OffsiteApply&#x27;, ...])])</pre></div> </div></div><div class=\"sk-parallel\"><div class=\"sk-parallel-item\"><div class=\"sk-item\"><div class=\"sk-label-container\"><div class=\"sk-label fitted sk-toggleable\"><input class=\"sk-toggleable__control sk-hidden--visually\" id=\"sk-estimator-id-22\" type=\"checkbox\" ><label for=\"sk-estimator-id-22\" class=\"sk-toggleable__label fitted sk-toggleable__label-arrow fitted\">boolean</label><div class=\"sk-toggleable__content fitted\"><pre>[&#x27;pay_period_WEEKLY&#x27;, &#x27;experience_Executive&#x27;, &#x27;pay_period_YEARLY&#x27;, &#x27;work_type_Internship&#x27;, &#x27;work_type_Part-time&#x27;, &#x27;work_type_Contract&#x27;, &#x27;currency_BBD&#x27;, &#x27;app_type_ComplexOnsiteApply&#x27;, &#x27;experience_Internship&#x27;, &#x27;experience_Mid-Senior_level&#x27;, &#x27;work_type_Full-time&#x27;, &#x27;pay_period_MONTHLY&#x27;, &#x27;experience_Director&#x27;, &#x27;pay_period_HOURLY&#x27;, &#x27;experience_Entry_level&#x27;, &#x27;currency_GBP&#x27;, &#x27;currency_EUR&#x27;, &#x27;currency_CAD&#x27;, &#x27;experience_Associate&#x27;, &#x27;remote_allowed&#x27;, &#x27;work_type_Volunteer&#x27;, &#x27;link_to_application&#x27;, &#x27;currency_USD&#x27;, &#x27;work_type_Other&#x27;, &#x27;experience_unspecified&#x27;, &#x27;work_type_Temporary&#x27;, &#x27;app_type_SimpleOnsiteApply&#x27;, &#x27;app_type_OffsiteApply&#x27;, &#x27;pay_period_BIWEEKLY&#x27;]</pre></div> </div></div><div class=\"sk-serial\"><div class=\"sk-item\"><div class=\"sk-serial\"><div class=\"sk-item\"><div class=\"sk-estimator fitted sk-toggleable\"><input class=\"sk-toggleable__control sk-hidden--visually\" id=\"sk-estimator-id-23\" type=\"checkbox\" ><label for=\"sk-estimator-id-23\" class=\"sk-toggleable__label fitted sk-toggleable__label-arrow fitted\">&nbsp;FunctionTransformer<a class=\"sk-estimator-doc-link fitted\" rel=\"noreferrer\" target=\"_blank\" href=\"https://scikit-learn.org/1.4/modules/generated/sklearn.preprocessing.FunctionTransformer.html\">?<span>Documentation for FunctionTransformer</span></a></label><div class=\"sk-toggleable__content fitted\"><pre>FunctionTransformer(func=&lt;function &lt;lambda&gt; at 0x7f4d4e3380e0&gt;)</pre></div> </div></div><div class=\"sk-item sk-dashed-wrapped\"><div class=\"sk-label-container\"><div class=\"sk-label fitted sk-toggleable\"><input class=\"sk-toggleable__control sk-hidden--visually\" id=\"sk-estimator-id-24\" type=\"checkbox\" ><label for=\"sk-estimator-id-24\" class=\"sk-toggleable__label fitted sk-toggleable__label-arrow fitted\">&nbsp;imputers: ColumnTransformer<a class=\"sk-estimator-doc-link fitted\" rel=\"noreferrer\" target=\"_blank\" href=\"https://scikit-learn.org/1.4/modules/generated/sklearn.compose.ColumnTransformer.html\">?<span>Documentation for imputers: ColumnTransformer</span></a></label><div class=\"sk-toggleable__content fitted\"><pre>ColumnTransformer(remainder=&#x27;passthrough&#x27;, transformers=[])</pre></div> </div></div><div class=\"sk-parallel\"><div class=\"sk-parallel-item\"><div class=\"sk-item\"><div class=\"sk-label-container\"><div class=\"sk-label fitted sk-toggleable\"><input class=\"sk-toggleable__control sk-hidden--visually\" id=\"sk-estimator-id-25\" type=\"checkbox\" ><label for=\"sk-estimator-id-25\" class=\"sk-toggleable__label fitted sk-toggleable__label-arrow fitted\">remainder</label><div class=\"sk-toggleable__content fitted\"><pre></pre></div> </div></div><div class=\"sk-serial\"><div class=\"sk-item\"><div class=\"sk-estimator fitted sk-toggleable\"><input class=\"sk-toggleable__control sk-hidden--visually\" id=\"sk-estimator-id-26\" type=\"checkbox\" ><label for=\"sk-estimator-id-26\" class=\"sk-toggleable__label fitted sk-toggleable__label-arrow fitted\">passthrough</label><div class=\"sk-toggleable__content fitted\"><pre>passthrough</pre></div> </div></div></div></div></div></div></div><div class=\"sk-item\"><div class=\"sk-estimator fitted sk-toggleable\"><input class=\"sk-toggleable__control sk-hidden--visually\" id=\"sk-estimator-id-27\" type=\"checkbox\" ><label for=\"sk-estimator-id-27\" class=\"sk-toggleable__label fitted sk-toggleable__label-arrow fitted\">&nbsp;OneHotEncoder<a class=\"sk-estimator-doc-link fitted\" rel=\"noreferrer\" target=\"_blank\" href=\"https://scikit-learn.org/1.4/modules/generated/sklearn.preprocessing.OneHotEncoder.html\">?<span>Documentation for OneHotEncoder</span></a></label><div class=\"sk-toggleable__content fitted\"><pre>OneHotEncoder(drop=&#x27;first&#x27;, handle_unknown=&#x27;ignore&#x27;)</pre></div> </div></div></div></div></div></div></div><div class=\"sk-parallel-item\"><div class=\"sk-item\"><div class=\"sk-label-container\"><div class=\"sk-label fitted sk-toggleable\"><input class=\"sk-toggleable__control sk-hidden--visually\" id=\"sk-estimator-id-28\" type=\"checkbox\" ><label for=\"sk-estimator-id-28\" class=\"sk-toggleable__label fitted sk-toggleable__label-arrow fitted\">numerical</label><div class=\"sk-toggleable__content fitted\"><pre>[&#x27;pay_period_WEEKLY&#x27;, &#x27;title_length&#x27;, &#x27;experience_Executive&#x27;, &#x27;pay_period_YEARLY&#x27;, &#x27;work_type_Internship&#x27;, &#x27;work_type_Part-time&#x27;, &#x27;work_type_Contract&#x27;, &#x27;currency_BBD&#x27;, &#x27;app_type_ComplexOnsiteApply&#x27;, &#x27;experience_Internship&#x27;, &#x27;experience_Mid-Senior_level&#x27;, &#x27;work_type_Full-time&#x27;, &#x27;pay_period_MONTHLY&#x27;, &#x27;experience_Director&#x27;, &#x27;pay_period_HOURLY&#x27;, &#x27;experience_Entry_level&#x27;, &#x27;currency_GBP&#x27;, &#x27;currency_EUR&#x27;, &#x27;currency_CAD&#x27;, &#x27;experience_Associate&#x27;, &#x27;remote_allowed&#x27;, &#x27;days_listed&#x27;, &#x27;work_type_Volunteer&#x27;, &#x27;link_to_application&#x27;, &#x27;currency_USD&#x27;, &#x27;work_type_Other&#x27;, &#x27;experience_unspecified&#x27;, &#x27;work_type_Temporary&#x27;, &#x27;app_type_SimpleOnsiteApply&#x27;, &#x27;app_type_OffsiteApply&#x27;, &#x27;pay_period_BIWEEKLY&#x27;]</pre></div> </div></div><div class=\"sk-serial\"><div class=\"sk-item\"><div class=\"sk-serial\"><div class=\"sk-item\"><div class=\"sk-estimator fitted sk-toggleable\"><input class=\"sk-toggleable__control sk-hidden--visually\" id=\"sk-estimator-id-29\" type=\"checkbox\" ><label for=\"sk-estimator-id-29\" class=\"sk-toggleable__label fitted sk-toggleable__label-arrow fitted\">&nbsp;FunctionTransformer<a class=\"sk-estimator-doc-link fitted\" rel=\"noreferrer\" target=\"_blank\" href=\"https://scikit-learn.org/1.4/modules/generated/sklearn.preprocessing.FunctionTransformer.html\">?<span>Documentation for FunctionTransformer</span></a></label><div class=\"sk-toggleable__content fitted\"><pre>FunctionTransformer(func=&lt;function &lt;lambda&gt; at 0x7f4d4e338400&gt;)</pre></div> </div></div><div class=\"sk-item sk-dashed-wrapped\"><div class=\"sk-label-container\"><div class=\"sk-label fitted sk-toggleable\"><input class=\"sk-toggleable__control sk-hidden--visually\" id=\"sk-estimator-id-30\" type=\"checkbox\" ><label for=\"sk-estimator-id-30\" class=\"sk-toggleable__label fitted sk-toggleable__label-arrow fitted\">&nbsp;imputers: ColumnTransformer<a class=\"sk-estimator-doc-link fitted\" rel=\"noreferrer\" target=\"_blank\" href=\"https://scikit-learn.org/1.4/modules/generated/sklearn.compose.ColumnTransformer.html\">?<span>Documentation for imputers: ColumnTransformer</span></a></label><div class=\"sk-toggleable__content fitted\"><pre>ColumnTransformer(transformers=[(&#x27;impute_mean&#x27;, SimpleImputer(),\n",
       "                                 [&#x27;app_type_ComplexOnsiteApply&#x27;,\n",
       "                                  &#x27;app_type_OffsiteApply&#x27;,\n",
       "                                  &#x27;app_type_SimpleOnsiteApply&#x27;, &#x27;currency_BBD&#x27;,\n",
       "                                  &#x27;currency_CAD&#x27;, &#x27;currency_EUR&#x27;,\n",
       "                                  &#x27;currency_GBP&#x27;, &#x27;currency_USD&#x27;, &#x27;days_listed&#x27;,\n",
       "                                  &#x27;experience_Associate&#x27;, &#x27;experience_Director&#x27;,\n",
       "                                  &#x27;experience_Entry_level&#x27;,\n",
       "                                  &#x27;experience_Executive&#x27;,\n",
       "                                  &#x27;experience_Internship&#x27;,\n",
       "                                  &#x27;experience_Mid-Senior_level&#x27;,\n",
       "                                  &#x27;experience_unspecified&#x27;,\n",
       "                                  &#x27;link_to_application&#x27;, &#x27;pay_period_BIWEEKLY&#x27;,\n",
       "                                  &#x27;pay_period_HOURLY&#x27;, &#x27;pay_period_MONTHLY&#x27;,\n",
       "                                  &#x27;pay_period_WEEKLY&#x27;, &#x27;pay_period_YEARLY&#x27;,\n",
       "                                  &#x27;remote_allowed&#x27;, &#x27;title_length&#x27;,\n",
       "                                  &#x27;work_type_Contract&#x27;, &#x27;work_type_Full-time&#x27;,\n",
       "                                  &#x27;work_type_Internship&#x27;, &#x27;work_type_Other&#x27;,\n",
       "                                  &#x27;work_type_Part-time&#x27;, &#x27;work_type_Temporary&#x27;, ...])])</pre></div> </div></div><div class=\"sk-parallel\"><div class=\"sk-parallel-item\"><div class=\"sk-item\"><div class=\"sk-label-container\"><div class=\"sk-label fitted sk-toggleable\"><input class=\"sk-toggleable__control sk-hidden--visually\" id=\"sk-estimator-id-31\" type=\"checkbox\" ><label for=\"sk-estimator-id-31\" class=\"sk-toggleable__label fitted sk-toggleable__label-arrow fitted\">impute_mean</label><div class=\"sk-toggleable__content fitted\"><pre>[&#x27;app_type_ComplexOnsiteApply&#x27;, &#x27;app_type_OffsiteApply&#x27;, &#x27;app_type_SimpleOnsiteApply&#x27;, &#x27;currency_BBD&#x27;, &#x27;currency_CAD&#x27;, &#x27;currency_EUR&#x27;, &#x27;currency_GBP&#x27;, &#x27;currency_USD&#x27;, &#x27;days_listed&#x27;, &#x27;experience_Associate&#x27;, &#x27;experience_Director&#x27;, &#x27;experience_Entry_level&#x27;, &#x27;experience_Executive&#x27;, &#x27;experience_Internship&#x27;, &#x27;experience_Mid-Senior_level&#x27;, &#x27;experience_unspecified&#x27;, &#x27;link_to_application&#x27;, &#x27;pay_period_BIWEEKLY&#x27;, &#x27;pay_period_HOURLY&#x27;, &#x27;pay_period_MONTHLY&#x27;, &#x27;pay_period_WEEKLY&#x27;, &#x27;pay_period_YEARLY&#x27;, &#x27;remote_allowed&#x27;, &#x27;title_length&#x27;, &#x27;work_type_Contract&#x27;, &#x27;work_type_Full-time&#x27;, &#x27;work_type_Internship&#x27;, &#x27;work_type_Other&#x27;, &#x27;work_type_Part-time&#x27;, &#x27;work_type_Temporary&#x27;, &#x27;work_type_Volunteer&#x27;]</pre></div> </div></div><div class=\"sk-serial\"><div class=\"sk-item\"><div class=\"sk-estimator fitted sk-toggleable\"><input class=\"sk-toggleable__control sk-hidden--visually\" id=\"sk-estimator-id-32\" type=\"checkbox\" ><label for=\"sk-estimator-id-32\" class=\"sk-toggleable__label fitted sk-toggleable__label-arrow fitted\">&nbsp;SimpleImputer<a class=\"sk-estimator-doc-link fitted\" rel=\"noreferrer\" target=\"_blank\" href=\"https://scikit-learn.org/1.4/modules/generated/sklearn.impute.SimpleImputer.html\">?<span>Documentation for SimpleImputer</span></a></label><div class=\"sk-toggleable__content fitted\"><pre>SimpleImputer()</pre></div> </div></div></div></div></div></div></div><div class=\"sk-item\"><div class=\"sk-estimator fitted sk-toggleable\"><input class=\"sk-toggleable__control sk-hidden--visually\" id=\"sk-estimator-id-33\" type=\"checkbox\" ><label for=\"sk-estimator-id-33\" class=\"sk-toggleable__label fitted sk-toggleable__label-arrow fitted\">&nbsp;StandardScaler<a class=\"sk-estimator-doc-link fitted\" rel=\"noreferrer\" target=\"_blank\" href=\"https://scikit-learn.org/1.4/modules/generated/sklearn.preprocessing.StandardScaler.html\">?<span>Documentation for StandardScaler</span></a></label><div class=\"sk-toggleable__content fitted\"><pre>StandardScaler()</pre></div> </div></div></div></div></div></div></div><div class=\"sk-parallel-item\"><div class=\"sk-item\"><div class=\"sk-label-container\"><div class=\"sk-label fitted sk-toggleable\"><input class=\"sk-toggleable__control sk-hidden--visually\" id=\"sk-estimator-id-34\" type=\"checkbox\" ><label for=\"sk-estimator-id-34\" class=\"sk-toggleable__label fitted sk-toggleable__label-arrow fitted\">remainder</label><div class=\"sk-toggleable__content fitted\"><pre>[]</pre></div> </div></div><div class=\"sk-serial\"><div class=\"sk-item\"><div class=\"sk-estimator fitted sk-toggleable\"><input class=\"sk-toggleable__control sk-hidden--visually\" id=\"sk-estimator-id-35\" type=\"checkbox\" ><label for=\"sk-estimator-id-35\" class=\"sk-toggleable__label fitted sk-toggleable__label-arrow fitted\">passthrough</label><div class=\"sk-toggleable__content fitted\"><pre>passthrough</pre></div> </div></div></div></div></div></div></div><div class=\"sk-item\"><div class=\"sk-estimator fitted sk-toggleable\"><input class=\"sk-toggleable__control sk-hidden--visually\" id=\"sk-estimator-id-36\" type=\"checkbox\" ><label for=\"sk-estimator-id-36\" class=\"sk-toggleable__label fitted sk-toggleable__label-arrow fitted\">LGBMRegressor</label><div class=\"sk-toggleable__content fitted\"><pre>LGBMRegressor(colsample_bytree=0.45048245215462374,\n",
       "              lambda_l1=1.5259086651908624, lambda_l2=2.284068184490839,\n",
       "              learning_rate=0.07455544417338009, max_bin=479, max_depth=8,\n",
       "              min_child_samples=69, n_estimators=152, num_leaves=56,\n",
       "              random_state=162540551, subsample=0.6707665228761195)</pre></div> </div></div></div></div></div></div>"
      ],
      "text/plain": [
       "Pipeline(steps=[('column_selector',\n",
       "                 ColumnSelector(cols=['pay_period_WEEKLY', 'title_length',\n",
       "                                      'experience_Executive',\n",
       "                                      'pay_period_YEARLY',\n",
       "                                      'work_type_Internship',\n",
       "                                      'work_type_Part-time',\n",
       "                                      'work_type_Contract', 'currency_BBD',\n",
       "                                      'app_type_ComplexOnsiteApply',\n",
       "                                      'experience_Internship',\n",
       "                                      'experience_Mid-Senior_level',\n",
       "                                      'work_type_Full-time',\n",
       "                                      'pay_period_MONTHLY',\n",
       "                                      'experie...\n",
       "                                                   'work_type_Temporary',\n",
       "                                                   'app_type_SimpleOnsiteApply',\n",
       "                                                   'app_type_OffsiteApply', ...])])),\n",
       "                ('regressor',\n",
       "                 LGBMRegressor(colsample_bytree=0.45048245215462374,\n",
       "                               lambda_l1=1.5259086651908624,\n",
       "                               lambda_l2=2.284068184490839,\n",
       "                               learning_rate=0.07455544417338009, max_bin=479,\n",
       "                               max_depth=8, min_child_samples=69,\n",
       "                               n_estimators=152, num_leaves=56,\n",
       "                               random_state=162540551,\n",
       "                               subsample=0.6707665228761195))])"
      ]
     },
     "execution_count": 11,
     "metadata": {},
     "output_type": "execute_result"
    }
   ],
   "source": [
    "trials = Trials()\n",
    "fmin(objective,\n",
    "     space=space,\n",
    "     algo=tpe.suggest,\n",
    "     max_evals=1,  # Increase this when widening the hyperparameter search space.\n",
    "     trials=trials)\n",
    "\n",
    "best_result = trials.best_trial[\"result\"]\n",
    "model = best_result[\"model\"]\n",
    "mlflow_run = best_result[\"run\"]\n",
    "\n",
    "display(\n",
    "  pd.DataFrame(\n",
    "    [best_result[\"val_metrics\"], best_result[\"test_metrics\"]],\n",
    "    index=pd.Index([\"validation\", \"test\"], name=\"split\")).reset_index())\n",
    "\n",
    "set_config(display=\"diagram\")\n",
    "model"
   ]
  },
  {
   "cell_type": "markdown",
   "metadata": {
    "application/vnd.databricks.v1+cell": {
     "cellMetadata": {
      "byteLimit": 2048000,
      "rowLimit": 10000
     },
     "inputWidgets": {},
     "nuid": "8a29d1ef-27d8-4505-a2f9-41e433143864",
     "showTitle": false,
     "tableResultSettingsMap": {},
     "title": ""
    }
   },
   "source": [
    "### Patch pandas version in logged model\n",
    "\n",
    "Ensures that model serving uses the same version of pandas that was used to train the model."
   ]
  },
  {
   "cell_type": "code",
   "execution_count": 0,
   "metadata": {
    "application/vnd.databricks.v1+cell": {
     "cellMetadata": {
      "byteLimit": 2048000,
      "rowLimit": 10000
     },
     "inputWidgets": {},
     "nuid": "40ddfb4e-7112-475a-885d-ea46165987b3",
     "showTitle": false,
     "tableResultSettingsMap": {},
     "title": ""
    },
    "execution": {
     "iopub.execute_input": "2024-12-04T02:39:37.721964Z",
     "iopub.status.busy": "2024-12-04T02:39:37.719529Z",
     "iopub.status.idle": "2024-12-04T02:39:39.186878Z",
     "shell.execute_reply": "2024-12-04T02:39:39.185667Z"
    }
   },
   "outputs": [
    {
     "output_type": "display_data",
     "data": {
      "application/vnd.jupyter.widget-view+json": {
       "model_id": "bcf17b8f8d3445e9843ec81572a7a694",
       "version_major": 2,
       "version_minor": 0
      },
      "text/plain": [
       "Downloading artifacts:   0%|          | 0/1 [00:00<?, ?it/s]"
      ]
     },
     "metadata": {},
     "output_type": "display_data"
    },
    {
     "output_type": "stream",
     "name": "stdout",
     "output_type": "stream",
     "text": [
      "Adding pandas dependency to conda.yaml\n"
     ]
    },
    {
     "output_type": "display_data",
     "data": {
      "application/vnd.jupyter.widget-view+json": {
       "model_id": "13d48c06f13c424392a416fed89a67f6",
       "version_major": 2,
       "version_minor": 0
      },
      "text/plain": [
       "Downloading artifacts:   0%|          | 0/1 [00:00<?, ?it/s]"
      ]
     },
     "metadata": {},
     "output_type": "display_data"
    },
    {
     "output_type": "stream",
     "name": "stdout",
     "output_type": "stream",
     "text": [
      "Adding pandas dependency to requirements.txt\n"
     ]
    }
   ],
   "source": [
    "import mlflow\n",
    "import os\n",
    "import shutil\n",
    "import tempfile\n",
    "import yaml\n",
    "\n",
    "run_id = mlflow_run.info.run_id\n",
    "\n",
    "# Set up a local dir for downloading the artifacts.\n",
    "tmp_dir = tempfile.mkdtemp()\n",
    "\n",
    "client = mlflow.tracking.MlflowClient()\n",
    "\n",
    "# Fix conda.yaml\n",
    "conda_file_path = mlflow.artifacts.download_artifacts(artifact_uri=f\"runs:/{run_id}/model/conda.yaml\", dst_path=tmp_dir)\n",
    "with open(conda_file_path) as f:\n",
    "  conda_libs = yaml.load(f, Loader=yaml.FullLoader)\n",
    "pandas_lib_exists = any([lib.startswith(\"pandas==\") for lib in conda_libs[\"dependencies\"][-1][\"pip\"]])\n",
    "if not pandas_lib_exists:\n",
    "  print(\"Adding pandas dependency to conda.yaml\")\n",
    "  conda_libs[\"dependencies\"][-1][\"pip\"].append(f\"pandas=={pd.__version__}\")\n",
    "\n",
    "  with open(f\"{tmp_dir}/conda.yaml\", \"w\") as f:\n",
    "    f.write(yaml.dump(conda_libs))\n",
    "  client.log_artifact(run_id=run_id, local_path=conda_file_path, artifact_path=\"model\")\n",
    "\n",
    "# Fix requirements.txt\n",
    "venv_file_path = mlflow.artifacts.download_artifacts(artifact_uri=f\"runs:/{run_id}/model/requirements.txt\", dst_path=tmp_dir)\n",
    "with open(venv_file_path) as f:\n",
    "  venv_libs = f.readlines()\n",
    "venv_libs = [lib.strip() for lib in venv_libs]\n",
    "pandas_lib_exists = any([lib.startswith(\"pandas==\") for lib in venv_libs])\n",
    "if not pandas_lib_exists:\n",
    "  print(\"Adding pandas dependency to requirements.txt\")\n",
    "  venv_libs.append(f\"pandas=={pd.__version__}\")\n",
    "\n",
    "  with open(f\"{tmp_dir}/requirements.txt\", \"w\") as f:\n",
    "    f.write(\"\\n\".join(venv_libs))\n",
    "  client.log_artifact(run_id=run_id, local_path=venv_file_path, artifact_path=\"model\")\n",
    "\n",
    "shutil.rmtree(tmp_dir)"
   ]
  },
  {
   "cell_type": "markdown",
   "metadata": {
    "application/vnd.databricks.v1+cell": {
     "cellMetadata": {
      "byteLimit": 2048000,
      "rowLimit": 10000
     },
     "inputWidgets": {},
     "nuid": "dc3dbcaf-d5c0-429a-abbb-161aa336a839",
     "showTitle": false,
     "tableResultSettingsMap": {},
     "title": ""
    }
   },
   "source": [
    "## Feature importance\n",
    "\n",
    "SHAP is a game-theoretic approach to explain machine learning models, providing a summary plot\n",
    "of the relationship between features and model output. Features are ranked in descending order of\n",
    "importance, and impact/color describe the correlation between the feature and the target variable.\n",
    "- Generating SHAP feature importance is a very memory intensive operation, so to ensure that AutoML can run trials without\n",
    "  running out of memory, we disable SHAP by default.<br />\n",
    "  You can set the flag defined below to `shap_enabled = True` and re-run this notebook to see the SHAP plots.\n",
    "- To reduce the computational overhead of each trial, a single example is sampled from the validation set to explain.<br />\n",
    "  For more thorough results, increase the sample size of explanations, or provide your own examples to explain.\n",
    "- SHAP cannot explain models using data with nulls; if your dataset has any, both the background data and\n",
    "  examples to explain will be imputed using the mode (most frequent values). This affects the computed\n",
    "  SHAP values, as the imputed samples may not match the actual data distribution.\n",
    "\n",
    "For more information on how to read Shapley values, see the [SHAP documentation](https://shap.readthedocs.io/en/latest/example_notebooks/overviews/An%20introduction%20to%20explainable%20AI%20with%20Shapley%20values.html)."
   ]
  },
  {
   "cell_type": "code",
   "execution_count": 0,
   "metadata": {
    "application/vnd.databricks.v1+cell": {
     "cellMetadata": {
      "byteLimit": 2048000,
      "rowLimit": 10000
     },
     "inputWidgets": {},
     "nuid": "119947ae-8dac-407d-80f6-a30f36e10b03",
     "showTitle": false,
     "tableResultSettingsMap": {},
     "title": ""
    },
    "execution": {
     "iopub.execute_input": "2024-12-04T02:39:39.193241Z",
     "iopub.status.busy": "2024-12-04T02:39:39.192285Z",
     "iopub.status.idle": "2024-12-04T02:39:39.199117Z",
     "shell.execute_reply": "2024-12-04T02:39:39.198219Z"
    }
   },
   "outputs": [],
   "source": [
    "# Set this flag to True and re-run the notebook to see the SHAP plots\n",
    "shap_enabled = True"
   ]
  },
  {
   "cell_type": "code",
   "execution_count": 0,
   "metadata": {
    "application/vnd.databricks.v1+cell": {
     "cellMetadata": {
      "byteLimit": 2048000,
      "rowLimit": 10000
     },
     "inputWidgets": {},
     "nuid": "c22c2413-0a0a-4a26-8145-2b597f042a1c",
     "showTitle": false,
     "tableResultSettingsMap": {},
     "title": ""
    },
    "execution": {
     "iopub.execute_input": "2024-12-04T02:39:39.206714Z",
     "iopub.status.busy": "2024-12-04T02:39:39.206071Z",
     "iopub.status.idle": "2024-12-04T02:39:39.221838Z",
     "shell.execute_reply": "2024-12-04T02:39:39.218341Z"
    }
   },
   "outputs": [
    {
     "output_type": "stream",
     "name": "stdout",
     "output_type": "stream",
     "text": [
      "[LightGBM] [Warning] lambda_l2 is set=2.284068184490839, reg_lambda=0.0 will be ignored. Current value: lambda_l2=2.284068184490839\n[LightGBM] [Warning] lambda_l1 is set=1.5259086651908624, reg_alpha=0.0 will be ignored. Current value: lambda_l1=1.5259086651908624\n"
     ]
    },
    {
     "output_type": "display_data",
     "data": {
      "application/vnd.jupyter.widget-view+json": {
       "model_id": "aa9c38b86dfa4d02a91a1c00e5a1ae05",
       "version_major": 2,
       "version_minor": 0
      },
      "text/plain": [
       "  0%|          | 0/100 [00:00<?, ?it/s]"
      ]
     },
     "metadata": {},
     "output_type": "display_data"
    },
    {
     "output_type": "stream",
     "name": "stdout",
     "output_type": "stream",
     "text": [
      "[LightGBM] [Warning] lambda_l2 is set=2.284068184490839, reg_lambda=0.0 will be ignored. Current value: lambda_l2=2.284068184490839\n[LightGBM] [Warning] lambda_l1 is set=1.5259086651908624, reg_alpha=0.0 will be ignored. Current value: lambda_l1=1.5259086651908624\n[LightGBM] [Warning] lambda_l2 is set=2.284068184490839, reg_lambda=0.0 will be ignored. Current value: lambda_l2=2.284068184490839\n[LightGBM] [Warning] lambda_l1 is set=1.5259086651908624, reg_alpha=0.0 will be ignored. Current value: lambda_l1=1.5259086651908624\n[LightGBM] [Warning] lambda_l2 is set=2.284068184490839, reg_lambda=0.0 will be ignored. Current value: lambda_l2=2.284068184490839\n[LightGBM] [Warning] lambda_l1 is set=1.5259086651908624, reg_alpha=0.0 will be ignored. Current value: lambda_l1=1.5259086651908624\n[LightGBM] [Warning] lambda_l2 is set=2.284068184490839, reg_lambda=0.0 will be ignored. Current value: lambda_l2=2.284068184490839\n[LightGBM] [Warning] lambda_l1 is set=1.5259086651908624, reg_alpha=0.0 will be ignored. Current value: lambda_l1=1.5259086651908624\n[LightGBM] [Warning] lambda_l2 is set=2.284068184490839, reg_lambda=0.0 will be ignored. Current value: lambda_l2=2.284068184490839\n[LightGBM] [Warning] lambda_l1 is set=1.5259086651908624, reg_alpha=0.0 will be ignored. Current value: lambda_l1=1.5259086651908624\n[LightGBM] [Warning] lambda_l2 is set=2.284068184490839, reg_lambda=0.0 will be ignored. Current value: lambda_l2=2.284068184490839\n[LightGBM] [Warning] lambda_l1 is set=1.5259086651908624, reg_alpha=0.0 will be ignored. Current value: lambda_l1=1.5259086651908624\n[LightGBM] [Warning] lambda_l2 is set=2.284068184490839, reg_lambda=0.0 will be ignored. Current value: lambda_l2=2.284068184490839\n[LightGBM] [Warning] lambda_l1 is set=1.5259086651908624, reg_alpha=0.0 will be ignored. Current value: lambda_l1=1.5259086651908624\n[LightGBM] [Warning] lambda_l2 is set=2.284068184490839, reg_lambda=0.0 will be ignored. Current value: lambda_l2=2.284068184490839\n[LightGBM] [Warning] lambda_l1 is set=1.5259086651908624, reg_alpha=0.0 will be ignored. Current value: lambda_l1=1.5259086651908624\n[LightGBM] [Warning] lambda_l2 is set=2.284068184490839, reg_lambda=0.0 will be ignored. Current value: lambda_l2=2.284068184490839\n[LightGBM] [Warning] lambda_l1 is set=1.5259086651908624, reg_alpha=0.0 will be ignored. Current value: lambda_l1=1.5259086651908624\n[LightGBM] [Warning] lambda_l2 is set=2.284068184490839, reg_lambda=0.0 will be ignored. Current value: lambda_l2=2.284068184490839\n[LightGBM] [Warning] lambda_l1 is set=1.5259086651908624, reg_alpha=0.0 will be ignored. Current value: lambda_l1=1.5259086651908624\n[LightGBM] [Warning] lambda_l2 is set=2.284068184490839, reg_lambda=0.0 will be ignored. Current value: lambda_l2=2.284068184490839\n[LightGBM] [Warning] lambda_l1 is set=1.5259086651908624, reg_alpha=0.0 will be ignored. Current value: lambda_l1=1.5259086651908624\n[LightGBM] [Warning] lambda_l2 is set=2.284068184490839, reg_lambda=0.0 will be ignored. Current value: lambda_l2=2.284068184490839\n[LightGBM] [Warning] lambda_l1 is set=1.5259086651908624, reg_alpha=0.0 will be ignored. Current value: lambda_l1=1.5259086651908624\n[LightGBM] [Warning] lambda_l2 is set=2.284068184490839, reg_lambda=0.0 will be ignored. Current value: lambda_l2=2.284068184490839\n[LightGBM] [Warning] lambda_l1 is set=1.5259086651908624, reg_alpha=0.0 will be ignored. Current value: lambda_l1=1.5259086651908624\n[LightGBM] [Warning] lambda_l2 is set=2.284068184490839, reg_lambda=0.0 will be ignored. Current value: lambda_l2=2.284068184490839\n[LightGBM] [Warning] lambda_l1 is set=1.5259086651908624, reg_alpha=0.0 will be ignored. Current value: lambda_l1=1.5259086651908624\n[LightGBM] [Warning] lambda_l2 is set=2.284068184490839, reg_lambda=0.0 will be ignored. Current value: lambda_l2=2.284068184490839\n[LightGBM] [Warning] lambda_l1 is set=1.5259086651908624, reg_alpha=0.0 will be ignored. Current value: lambda_l1=1.5259086651908624\n[LightGBM] [Warning] lambda_l2 is set=2.284068184490839, reg_lambda=0.0 will be ignored. Current value: lambda_l2=2.284068184490839\n[LightGBM] [Warning] lambda_l1 is set=1.5259086651908624, reg_alpha=0.0 will be ignored. Current value: lambda_l1=1.5259086651908624\n[LightGBM] [Warning] lambda_l2 is set=2.284068184490839, reg_lambda=0.0 will be ignored. Current value: lambda_l2=2.284068184490839\n[LightGBM] [Warning] lambda_l1 is set=1.5259086651908624, reg_alpha=0.0 will be ignored. Current value: lambda_l1=1.5259086651908624\n[LightGBM] [Warning] lambda_l2 is set=2.284068184490839, reg_lambda=0.0 will be ignored. Current value: lambda_l2=2.284068184490839\n[LightGBM] [Warning] lambda_l1 is set=1.5259086651908624, reg_alpha=0.0 will be ignored. Current value: lambda_l1=1.5259086651908624\n[LightGBM] [Warning] lambda_l2 is set=2.284068184490839, reg_lambda=0.0 will be ignored. Current value: lambda_l2=2.284068184490839\n[LightGBM] [Warning] lambda_l1 is set=1.5259086651908624, reg_alpha=0.0 will be ignored. Current value: lambda_l1=1.5259086651908624\n[LightGBM] [Warning] lambda_l2 is set=2.284068184490839, reg_lambda=0.0 will be ignored. Current value: lambda_l2=2.284068184490839\n[LightGBM] [Warning] lambda_l1 is set=1.5259086651908624, reg_alpha=0.0 will be ignored. Current value: lambda_l1=1.5259086651908624\n[LightGBM] [Warning] lambda_l2 is set=2.284068184490839, reg_lambda=0.0 will be ignored. Current value: lambda_l2=2.284068184490839\n[LightGBM] [Warning] lambda_l1 is set=1.5259086651908624, reg_alpha=0.0 will be ignored. Current value: lambda_l1=1.5259086651908624\n[LightGBM] [Warning] lambda_l2 is set=2.284068184490839, reg_lambda=0.0 will be ignored. Current value: lambda_l2=2.284068184490839\n[LightGBM] [Warning] lambda_l1 is set=1.5259086651908624, reg_alpha=0.0 will be ignored. Current value: lambda_l1=1.5259086651908624\n[LightGBM] [Warning] lambda_l2 is set=2.284068184490839, reg_lambda=0.0 will be ignored. Current value: lambda_l2=2.284068184490839\n[LightGBM] [Warning] lambda_l1 is set=1.5259086651908624, reg_alpha=0.0 will be ignored. Current value: lambda_l1=1.5259086651908624\n[LightGBM] [Warning] lambda_l2 is set=2.284068184490839, reg_lambda=0.0 will be ignored. Current value: lambda_l2=2.284068184490839\n[LightGBM] [Warning] lambda_l1 is set=1.5259086651908624, reg_alpha=0.0 will be ignored. Current value: lambda_l1=1.5259086651908624\n[LightGBM] [Warning] lambda_l2 is set=2.284068184490839, reg_lambda=0.0 will be ignored. Current value: lambda_l2=2.284068184490839\n[LightGBM] [Warning] lambda_l1 is set=1.5259086651908624, reg_alpha=0.0 will be ignored. Current value: lambda_l1=1.5259086651908624\n[LightGBM] [Warning] lambda_l2 is set=2.284068184490839, reg_lambda=0.0 will be ignored. Current value: lambda_l2=2.284068184490839\n[LightGBM] [Warning] lambda_l1 is set=1.5259086651908624, reg_alpha=0.0 will be ignored. Current value: lambda_l1=1.5259086651908624\n[LightGBM] [Warning] lambda_l2 is set=2.284068184490839, reg_lambda=0.0 will be ignored. Current value: lambda_l2=2.284068184490839\n[LightGBM] [Warning] lambda_l1 is set=1.5259086651908624, reg_alpha=0.0 will be ignored. Current value: lambda_l1=1.5259086651908624\n[LightGBM] [Warning] lambda_l2 is set=2.284068184490839, reg_lambda=0.0 will be ignored. Current value: lambda_l2=2.284068184490839\n[LightGBM] [Warning] lambda_l1 is set=1.5259086651908624, reg_alpha=0.0 will be ignored. Current value: lambda_l1=1.5259086651908624\n[LightGBM] [Warning] lambda_l2 is set=2.284068184490839, reg_lambda=0.0 will be ignored. Current value: lambda_l2=2.284068184490839\n[LightGBM] [Warning] lambda_l1 is set=1.5259086651908624, reg_alpha=0.0 will be ignored. Current value: lambda_l1=1.5259086651908624\n[LightGBM] [Warning] lambda_l2 is set=2.284068184490839, reg_lambda=0.0 will be ignored. Current value: lambda_l2=2.284068184490839\n[LightGBM] [Warning] lambda_l1 is set=1.5259086651908624, reg_alpha=0.0 will be ignored. Current value: lambda_l1=1.5259086651908624\n[LightGBM] [Warning] lambda_l2 is set=2.284068184490839, reg_lambda=0.0 will be ignored. Current value: lambda_l2=2.284068184490839\n[LightGBM] [Warning] lambda_l1 is set=1.5259086651908624, reg_alpha=0.0 will be ignored. Current value: lambda_l1=1.5259086651908624\n[LightGBM] [Warning] lambda_l2 is set=2.284068184490839, reg_lambda=0.0 will be ignored. Current value: lambda_l2=2.284068184490839\n[LightGBM] [Warning] lambda_l1 is set=1.5259086651908624, reg_alpha=0.0 will be ignored. Current value: lambda_l1=1.5259086651908624\n[LightGBM] [Warning] lambda_l2 is set=2.284068184490839, reg_lambda=0.0 will be ignored. Current value: lambda_l2=2.284068184490839\n[LightGBM] [Warning] lambda_l1 is set=1.5259086651908624, reg_alpha=0.0 will be ignored. Current value: lambda_l1=1.5259086651908624\n[LightGBM] [Warning] lambda_l2 is set=2.284068184490839, reg_lambda=0.0 will be ignored. Current value: lambda_l2=2.284068184490839\n[LightGBM] [Warning] lambda_l1 is set=1.5259086651908624, reg_alpha=0.0 will be ignored. Current value: lambda_l1=1.5259086651908624\n[LightGBM] [Warning] lambda_l2 is set=2.284068184490839, reg_lambda=0.0 will be ignored. Current value: lambda_l2=2.284068184490839\n[LightGBM] [Warning] lambda_l1 is set=1.5259086651908624, reg_alpha=0.0 will be ignored. Current value: lambda_l1=1.5259086651908624\n[LightGBM] [Warning] lambda_l2 is set=2.284068184490839, reg_lambda=0.0 will be ignored. Current value: lambda_l2=2.284068184490839\n[LightGBM] [Warning] lambda_l1 is set=1.5259086651908624, reg_alpha=0.0 will be ignored. Current value: lambda_l1=1.5259086651908624\n[LightGBM] [Warning] lambda_l2 is set=2.284068184490839, reg_lambda=0.0 will be ignored. Current value: lambda_l2=2.284068184490839\n[LightGBM] [Warning] lambda_l1 is set=1.5259086651908624, reg_alpha=0.0 will be ignored. Current value: lambda_l1=1.5259086651908624\n[LightGBM] [Warning] lambda_l2 is set=2.284068184490839, reg_lambda=0.0 will be ignored. Current value: lambda_l2=2.284068184490839\n[LightGBM] [Warning] lambda_l1 is set=1.5259086651908624, reg_alpha=0.0 will be ignored. Current value: lambda_l1=1.5259086651908624\n[LightGBM] [Warning] lambda_l2 is set=2.284068184490839, reg_lambda=0.0 will be ignored. Current value: lambda_l2=2.284068184490839\n[LightGBM] [Warning] lambda_l1 is set=1.5259086651908624, reg_alpha=0.0 will be ignored. Current value: lambda_l1=1.5259086651908624\n[LightGBM] [Warning] lambda_l2 is set=2.284068184490839, reg_lambda=0.0 will be ignored. Current value: lambda_l2=2.284068184490839\n[LightGBM] [Warning] lambda_l1 is set=1.5259086651908624, reg_alpha=0.0 will be ignored. Current value: lambda_l1=1.5259086651908624\n[LightGBM] [Warning] lambda_l2 is set=2.284068184490839, reg_lambda=0.0 will be ignored. Current value: lambda_l2=2.284068184490839\n[LightGBM] [Warning] lambda_l1 is set=1.5259086651908624, reg_alpha=0.0 will be ignored. Current value: lambda_l1=1.5259086651908624\n[LightGBM] [Warning] lambda_l2 is set=2.284068184490839, reg_lambda=0.0 will be ignored. Current value: lambda_l2=2.284068184490839\n[LightGBM] [Warning] lambda_l1 is set=1.5259086651908624, reg_alpha=0.0 will be ignored. Current value: lambda_l1=1.5259086651908624\n[LightGBM] [Warning] lambda_l2 is set=2.284068184490839, reg_lambda=0.0 will be ignored. Current value: lambda_l2=2.284068184490839\n[LightGBM] [Warning] lambda_l1 is set=1.5259086651908624, reg_alpha=0.0 will be ignored. Current value: lambda_l1=1.5259086651908624\n[LightGBM] [Warning] lambda_l2 is set=2.284068184490839, reg_lambda=0.0 will be ignored. Current value: lambda_l2=2.284068184490839\n[LightGBM] [Warning] lambda_l1 is set=1.5259086651908624, reg_alpha=0.0 will be ignored. Current value: lambda_l1=1.5259086651908624\n[LightGBM] [Warning] lambda_l2 is set=2.284068184490839, reg_lambda=0.0 will be ignored. Current value: lambda_l2=2.284068184490839\n[LightGBM] [Warning] lambda_l1 is set=1.5259086651908624, reg_alpha=0.0 will be ignored. Current value: lambda_l1=1.5259086651908624\n[LightGBM] [Warning] lambda_l2 is set=2.284068184490839, reg_lambda=0.0 will be ignored. Current value: lambda_l2=2.284068184490839\n[LightGBM] [Warning] lambda_l1 is set=1.5259086651908624, reg_alpha=0.0 will be ignored. Current value: lambda_l1=1.5259086651908624\n[LightGBM] [Warning] lambda_l2 is set=2.284068184490839, reg_lambda=0.0 will be ignored. Current value: lambda_l2=2.284068184490839\n[LightGBM] [Warning] lambda_l1 is set=1.5259086651908624, reg_alpha=0.0 will be ignored. Current value: lambda_l1=1.5259086651908624\n[LightGBM] [Warning] lambda_l2 is set=2.284068184490839, reg_lambda=0.0 will be ignored. Current value: lambda_l2=2.284068184490839\n[LightGBM] [Warning] lambda_l1 is set=1.5259086651908624, reg_alpha=0.0 will be ignored. Current value: lambda_l1=1.5259086651908624\n[LightGBM] [Warning] lambda_l2 is set=2.284068184490839, reg_lambda=0.0 will be ignored. Current value: lambda_l2=2.284068184490839\n[LightGBM] [Warning] lambda_l1 is set=1.5259086651908624, reg_alpha=0.0 will be ignored. Current value: lambda_l1=1.5259086651908624\n[LightGBM] [Warning] lambda_l2 is set=2.284068184490839, reg_lambda=0.0 will be ignored. Current value: lambda_l2=2.284068184490839\n[LightGBM] [Warning] lambda_l1 is set=1.5259086651908624, reg_alpha=0.0 will be ignored. Current value: lambda_l1=1.5259086651908624\n[LightGBM] [Warning] lambda_l2 is set=2.284068184490839, reg_lambda=0.0 will be ignored. Current value: lambda_l2=2.284068184490839\n[LightGBM] [Warning] lambda_l1 is set=1.5259086651908624, reg_alpha=0.0 will be ignored. Current value: lambda_l1=1.5259086651908624\n[LightGBM] [Warning] lambda_l2 is set=2.284068184490839, reg_lambda=0.0 will be ignored. Current value: lambda_l2=2.284068184490839\n[LightGBM] [Warning] lambda_l1 is set=1.5259086651908624, reg_alpha=0.0 will be ignored. Current value: lambda_l1=1.5259086651908624\n[LightGBM] [Warning] lambda_l2 is set=2.284068184490839, reg_lambda=0.0 will be ignored. Current value: lambda_l2=2.284068184490839\n[LightGBM] [Warning] lambda_l1 is set=1.5259086651908624, reg_alpha=0.0 will be ignored. Current value: lambda_l1=1.5259086651908624\n[LightGBM] [Warning] lambda_l2 is set=2.284068184490839, reg_lambda=0.0 will be ignored. Current value: lambda_l2=2.284068184490839\n[LightGBM] [Warning] lambda_l1 is set=1.5259086651908624, reg_alpha=0.0 will be ignored. Current value: lambda_l1=1.5259086651908624\n[LightGBM] [Warning] lambda_l2 is set=2.284068184490839, reg_lambda=0.0 will be ignored. Current value: lambda_l2=2.284068184490839\n[LightGBM] [Warning] lambda_l1 is set=1.5259086651908624, reg_alpha=0.0 will be ignored. Current value: lambda_l1=1.5259086651908624\n[LightGBM] [Warning] lambda_l2 is set=2.284068184490839, reg_lambda=0.0 will be ignored. Current value: lambda_l2=2.284068184490839\n[LightGBM] [Warning] lambda_l1 is set=1.5259086651908624, reg_alpha=0.0 will be ignored. Current value: lambda_l1=1.5259086651908624\n[LightGBM] [Warning] lambda_l2 is set=2.284068184490839, reg_lambda=0.0 will be ignored. Current value: lambda_l2=2.284068184490839\n[LightGBM] [Warning] lambda_l1 is set=1.5259086651908624, reg_alpha=0.0 will be ignored. Current value: lambda_l1=1.5259086651908624\n[LightGBM] [Warning] lambda_l2 is set=2.284068184490839, reg_lambda=0.0 will be ignored. Current value: lambda_l2=2.284068184490839\n[LightGBM] [Warning] lambda_l1 is set=1.5259086651908624, reg_alpha=0.0 will be ignored. Current value: lambda_l1=1.5259086651908624\n[LightGBM] [Warning] lambda_l2 is set=2.284068184490839, reg_lambda=0.0 will be ignored. Current value: lambda_l2=2.284068184490839\n[LightGBM] [Warning] lambda_l1 is set=1.5259086651908624, reg_alpha=0.0 will be ignored. Current value: lambda_l1=1.5259086651908624\n[LightGBM] [Warning] lambda_l2 is set=2.284068184490839, reg_lambda=0.0 will be ignored. Current value: lambda_l2=2.284068184490839\n[LightGBM] [Warning] lambda_l1 is set=1.5259086651908624, reg_alpha=0.0 will be ignored. Current value: lambda_l1=1.5259086651908624\n[LightGBM] [Warning] lambda_l2 is set=2.284068184490839, reg_lambda=0.0 will be ignored. Current value: lambda_l2=2.284068184490839\n[LightGBM] [Warning] lambda_l1 is set=1.5259086651908624, reg_alpha=0.0 will be ignored. Current value: lambda_l1=1.5259086651908624\n[LightGBM] [Warning] lambda_l2 is set=2.284068184490839, reg_lambda=0.0 will be ignored. Current value: lambda_l2=2.284068184490839\n[LightGBM] [Warning] lambda_l1 is set=1.5259086651908624, reg_alpha=0.0 will be ignored. Current value: lambda_l1=1.5259086651908624\n[LightGBM] [Warning] lambda_l2 is set=2.284068184490839, reg_lambda=0.0 will be ignored. Current value: lambda_l2=2.284068184490839\n[LightGBM] [Warning] lambda_l1 is set=1.5259086651908624, reg_alpha=0.0 will be ignored. Current value: lambda_l1=1.5259086651908624\n[LightGBM] [Warning] lambda_l2 is set=2.284068184490839, reg_lambda=0.0 will be ignored. Current value: lambda_l2=2.284068184490839\n[LightGBM] [Warning] lambda_l1 is set=1.5259086651908624, reg_alpha=0.0 will be ignored. Current value: lambda_l1=1.5259086651908624\n[LightGBM] [Warning] lambda_l2 is set=2.284068184490839, reg_lambda=0.0 will be ignored. Current value: lambda_l2=2.284068184490839\n[LightGBM] [Warning] lambda_l1 is set=1.5259086651908624, reg_alpha=0.0 will be ignored. Current value: lambda_l1=1.5259086651908624\n[LightGBM] [Warning] lambda_l2 is set=2.284068184490839, reg_lambda=0.0 will be ignored. Current value: lambda_l2=2.284068184490839\n[LightGBM] [Warning] lambda_l1 is set=1.5259086651908624, reg_alpha=0.0 will be ignored. Current value: lambda_l1=1.5259086651908624\n[LightGBM] [Warning] lambda_l2 is set=2.284068184490839, reg_lambda=0.0 will be ignored. Current value: lambda_l2=2.284068184490839\n[LightGBM] [Warning] lambda_l1 is set=1.5259086651908624, reg_alpha=0.0 will be ignored. Current value: lambda_l1=1.5259086651908624\n[LightGBM] [Warning] lambda_l2 is set=2.284068184490839, reg_lambda=0.0 will be ignored. Current value: lambda_l2=2.284068184490839\n[LightGBM] [Warning] lambda_l1 is set=1.5259086651908624, reg_alpha=0.0 will be ignored. Current value: lambda_l1=1.5259086651908624\n[LightGBM] [Warning] lambda_l2 is set=2.284068184490839, reg_lambda=0.0 will be ignored. Current value: lambda_l2=2.284068184490839\n[LightGBM] [Warning] lambda_l1 is set=1.5259086651908624, reg_alpha=0.0 will be ignored. Current value: lambda_l1=1.5259086651908624\n[LightGBM] [Warning] lambda_l2 is set=2.284068184490839, reg_lambda=0.0 will be ignored. Current value: lambda_l2=2.284068184490839\n[LightGBM] [Warning] lambda_l1 is set=1.5259086651908624, reg_alpha=0.0 will be ignored. Current value: lambda_l1=1.5259086651908624\n[LightGBM] [Warning] lambda_l2 is set=2.284068184490839, reg_lambda=0.0 will be ignored. Current value: lambda_l2=2.284068184490839\n[LightGBM] [Warning] lambda_l1 is set=1.5259086651908624, reg_alpha=0.0 will be ignored. Current value: lambda_l1=1.5259086651908624\n[LightGBM] [Warning] lambda_l2 is set=2.284068184490839, reg_lambda=0.0 will be ignored. Current value: lambda_l2=2.284068184490839\n[LightGBM] [Warning] lambda_l1 is set=1.5259086651908624, reg_alpha=0.0 will be ignored. Current value: lambda_l1=1.5259086651908624\n[LightGBM] [Warning] lambda_l2 is set=2.284068184490839, reg_lambda=0.0 will be ignored. Current value: lambda_l2=2.284068184490839\n[LightGBM] [Warning] lambda_l1 is set=1.5259086651908624, reg_alpha=0.0 will be ignored. Current value: lambda_l1=1.5259086651908624\n[LightGBM] [Warning] lambda_l2 is set=2.284068184490839, reg_lambda=0.0 will be ignored. Current value: lambda_l2=2.284068184490839\n[LightGBM] [Warning] lambda_l1 is set=1.5259086651908624, reg_alpha=0.0 will be ignored. Current value: lambda_l1=1.5259086651908624\n[LightGBM] [Warning] lambda_l2 is set=2.284068184490839, reg_lambda=0.0 will be ignored. Current value: lambda_l2=2.284068184490839\n[LightGBM] [Warning] lambda_l1 is set=1.5259086651908624, reg_alpha=0.0 will be ignored. Current value: lambda_l1=1.5259086651908624\n[LightGBM] [Warning] lambda_l2 is set=2.284068184490839, reg_lambda=0.0 will be ignored. Current value: lambda_l2=2.284068184490839\n[LightGBM] [Warning] lambda_l1 is set=1.5259086651908624, reg_alpha=0.0 will be ignored. Current value: lambda_l1=1.5259086651908624\n[LightGBM] [Warning] lambda_l2 is set=2.284068184490839, reg_lambda=0.0 will be ignored. Current value: lambda_l2=2.284068184490839\n[LightGBM] [Warning] lambda_l1 is set=1.5259086651908624, reg_alpha=0.0 will be ignored. Current value: lambda_l1=1.5259086651908624\n[LightGBM] [Warning] lambda_l2 is set=2.284068184490839, reg_lambda=0.0 will be ignored. Current value: lambda_l2=2.284068184490839\n[LightGBM] [Warning] lambda_l1 is set=1.5259086651908624, reg_alpha=0.0 will be ignored. Current value: lambda_l1=1.5259086651908624\n[LightGBM] [Warning] lambda_l2 is set=2.284068184490839, reg_lambda=0.0 will be ignored. Current value: lambda_l2=2.284068184490839\n[LightGBM] [Warning] lambda_l1 is set=1.5259086651908624, reg_alpha=0.0 will be ignored. Current value: lambda_l1=1.5259086651908624\n[LightGBM] [Warning] lambda_l2 is set=2.284068184490839, reg_lambda=0.0 will be ignored. Current value: lambda_l2=2.284068184490839\n[LightGBM] [Warning] lambda_l1 is set=1.5259086651908624, reg_alpha=0.0 will be ignored. Current value: lambda_l1=1.5259086651908624\n[LightGBM] [Warning] lambda_l2 is set=2.284068184490839, reg_lambda=0.0 will be ignored. Current value: lambda_l2=2.284068184490839\n[LightGBM] [Warning] lambda_l1 is set=1.5259086651908624, reg_alpha=0.0 will be ignored. Current value: lambda_l1=1.5259086651908624\n[LightGBM] [Warning] lambda_l2 is set=2.284068184490839, reg_lambda=0.0 will be ignored. Current value: lambda_l2=2.284068184490839\n[LightGBM] [Warning] lambda_l1 is set=1.5259086651908624, reg_alpha=0.0 will be ignored. Current value: lambda_l1=1.5259086651908624\n[LightGBM] [Warning] lambda_l2 is set=2.284068184490839, reg_lambda=0.0 will be ignored. Current value: lambda_l2=2.284068184490839\n[LightGBM] [Warning] lambda_l1 is set=1.5259086651908624, reg_alpha=0.0 will be ignored. Current value: lambda_l1=1.5259086651908624\n[LightGBM] [Warning] lambda_l2 is set=2.284068184490839, reg_lambda=0.0 will be ignored. Current value: lambda_l2=2.284068184490839\n[LightGBM] [Warning] lambda_l1 is set=1.5259086651908624, reg_alpha=0.0 will be ignored. Current value: lambda_l1=1.5259086651908624\n[LightGBM] [Warning] lambda_l2 is set=2.284068184490839, reg_lambda=0.0 will be ignored. Current value: lambda_l2=2.284068184490839\n[LightGBM] [Warning] lambda_l1 is set=1.5259086651908624, reg_alpha=0.0 will be ignored. Current value: lambda_l1=1.5259086651908624\n[LightGBM] [Warning] lambda_l2 is set=2.284068184490839, reg_lambda=0.0 will be ignored. Current value: lambda_l2=2.284068184490839\n[LightGBM] [Warning] lambda_l1 is set=1.5259086651908624, reg_alpha=0.0 will be ignored. Current value: lambda_l1=1.5259086651908624\n[LightGBM] [Warning] lambda_l2 is set=2.284068184490839, reg_lambda=0.0 will be ignored. Current value: lambda_l2=2.284068184490839\n[LightGBM] [Warning] lambda_l1 is set=1.5259086651908624, reg_alpha=0.0 will be ignored. Current value: lambda_l1=1.5259086651908624\n[LightGBM] [Warning] lambda_l2 is set=2.284068184490839, reg_lambda=0.0 will be ignored. Current value: lambda_l2=2.284068184490839\n[LightGBM] [Warning] lambda_l1 is set=1.5259086651908624, reg_alpha=0.0 will be ignored. Current value: lambda_l1=1.5259086651908624\n[LightGBM] [Warning] lambda_l2 is set=2.284068184490839, reg_lambda=0.0 will be ignored. Current value: lambda_l2=2.284068184490839\n[LightGBM] [Warning] lambda_l1 is set=1.5259086651908624, reg_alpha=0.0 will be ignored. Current value: lambda_l1=1.5259086651908624\n[LightGBM] [Warning] lambda_l2 is set=2.284068184490839, reg_lambda=0.0 will be ignored. Current value: lambda_l2=2.284068184490839\n[LightGBM] [Warning] lambda_l1 is set=1.5259086651908624, reg_alpha=0.0 will be ignored. Current value: lambda_l1=1.5259086651908624\n[LightGBM] [Warning] lambda_l2 is set=2.284068184490839, reg_lambda=0.0 will be ignored. Current value: lambda_l2=2.284068184490839\n[LightGBM] [Warning] lambda_l1 is set=1.5259086651908624, reg_alpha=0.0 will be ignored. Current value: lambda_l1=1.5259086651908624\n[LightGBM] [Warning] lambda_l2 is set=2.284068184490839, reg_lambda=0.0 will be ignored. Current value: lambda_l2=2.284068184490839\n[LightGBM] [Warning] lambda_l1 is set=1.5259086651908624, reg_alpha=0.0 will be ignored. Current value: lambda_l1=1.5259086651908624\n[LightGBM] [Warning] lambda_l2 is set=2.284068184490839, reg_lambda=0.0 will be ignored. Current value: lambda_l2=2.284068184490839\n[LightGBM] [Warning] lambda_l1 is set=1.5259086651908624, reg_alpha=0.0 will be ignored. Current value: lambda_l1=1.5259086651908624\n[LightGBM] [Warning] lambda_l2 is set=2.284068184490839, reg_lambda=0.0 will be ignored. Current value: lambda_l2=2.284068184490839\n[LightGBM] [Warning] lambda_l1 is set=1.5259086651908624, reg_alpha=0.0 will be ignored. Current value: lambda_l1=1.5259086651908624\n[LightGBM] [Warning] lambda_l2 is set=2.284068184490839, reg_lambda=0.0 will be ignored. C\n\n*** WARNING: max output size exceeded, skipping output. ***\n\n9086651908624, reg_alpha=0.0 will be ignored. Current value: lambda_l1=1.5259086651908624\n[LightGBM] [Warning] lambda_l2 is set=2.284068184490839, reg_lambda=0.0 will be ignored. Current value: lambda_l2=2.284068184490839\n[LightGBM] [Warning] lambda_l1 is set=1.5259086651908624, reg_alpha=0.0 will be ignored. Current value: lambda_l1=1.5259086651908624\n[LightGBM] [Warning] lambda_l2 is set=2.284068184490839, reg_lambda=0.0 will be ignored. Current value: lambda_l2=2.284068184490839\n[LightGBM] [Warning] lambda_l1 is set=1.5259086651908624, reg_alpha=0.0 will be ignored. Current value: lambda_l1=1.5259086651908624\n[LightGBM] [Warning] lambda_l2 is set=2.284068184490839, reg_lambda=0.0 will be ignored. Current value: lambda_l2=2.284068184490839\n[LightGBM] [Warning] lambda_l1 is set=1.5259086651908624, reg_alpha=0.0 will be ignored. Current value: lambda_l1=1.5259086651908624\n[LightGBM] [Warning] lambda_l2 is set=2.284068184490839, reg_lambda=0.0 will be ignored. Current value: lambda_l2=2.284068184490839\n[LightGBM] [Warning] lambda_l1 is set=1.5259086651908624, reg_alpha=0.0 will be ignored. Current value: lambda_l1=1.5259086651908624\n[LightGBM] [Warning] lambda_l2 is set=2.284068184490839, reg_lambda=0.0 will be ignored. Current value: lambda_l2=2.284068184490839\n[LightGBM] [Warning] lambda_l1 is set=1.5259086651908624, reg_alpha=0.0 will be ignored. Current value: lambda_l1=1.5259086651908624\n[LightGBM] [Warning] lambda_l2 is set=2.284068184490839, reg_lambda=0.0 will be ignored. Current value: lambda_l2=2.284068184490839\n[LightGBM] [Warning] lambda_l1 is set=1.5259086651908624, reg_alpha=0.0 will be ignored. Current value: lambda_l1=1.5259086651908624\n[LightGBM] [Warning] lambda_l2 is set=2.284068184490839, reg_lambda=0.0 will be ignored. Current value: lambda_l2=2.284068184490839\n[LightGBM] [Warning] lambda_l1 is set=1.5259086651908624, reg_alpha=0.0 will be ignored. Current value: lambda_l1=1.5259086651908624\n[LightGBM] [Warning] lambda_l2 is set=2.284068184490839, reg_lambda=0.0 will be ignored. Current value: lambda_l2=2.284068184490839\n[LightGBM] [Warning] lambda_l1 is set=1.5259086651908624, reg_alpha=0.0 will be ignored. Current value: lambda_l1=1.5259086651908624\n[LightGBM] [Warning] lambda_l2 is set=2.284068184490839, reg_lambda=0.0 will be ignored. Current value: lambda_l2=2.284068184490839\n[LightGBM] [Warning] lambda_l1 is set=1.5259086651908624, reg_alpha=0.0 will be ignored. Current value: lambda_l1=1.5259086651908624\n[LightGBM] [Warning] lambda_l2 is set=2.284068184490839, reg_lambda=0.0 will be ignored. Current value: lambda_l2=2.284068184490839\n[LightGBM] [Warning] lambda_l1 is set=1.5259086651908624, reg_alpha=0.0 will be ignored. Current value: lambda_l1=1.5259086651908624\n[LightGBM] [Warning] lambda_l2 is set=2.284068184490839, reg_lambda=0.0 will be ignored. Current value: lambda_l2=2.284068184490839\n[LightGBM] [Warning] lambda_l1 is set=1.5259086651908624, reg_alpha=0.0 will be ignored. Current value: lambda_l1=1.5259086651908624\n[LightGBM] [Warning] lambda_l2 is set=2.284068184490839, reg_lambda=0.0 will be ignored. Current value: lambda_l2=2.284068184490839\n[LightGBM] [Warning] lambda_l1 is set=1.5259086651908624, reg_alpha=0.0 will be ignored. Current value: lambda_l1=1.5259086651908624\n[LightGBM] [Warning] lambda_l2 is set=2.284068184490839, reg_lambda=0.0 will be ignored. Current value: lambda_l2=2.284068184490839\n[LightGBM] [Warning] lambda_l1 is set=1.5259086651908624, reg_alpha=0.0 will be ignored. Current value: lambda_l1=1.5259086651908624\n[LightGBM] [Warning] lambda_l2 is set=2.284068184490839, reg_lambda=0.0 will be ignored. Current value: lambda_l2=2.284068184490839\n[LightGBM] [Warning] lambda_l1 is set=1.5259086651908624, reg_alpha=0.0 will be ignored. Current value: lambda_l1=1.5259086651908624\n[LightGBM] [Warning] lambda_l2 is set=2.284068184490839, reg_lambda=0.0 will be ignored. Current value: lambda_l2=2.284068184490839\n[LightGBM] [Warning] lambda_l1 is set=1.5259086651908624, reg_alpha=0.0 will be ignored. Current value: lambda_l1=1.5259086651908624\n[LightGBM] [Warning] lambda_l2 is set=2.284068184490839, reg_lambda=0.0 will be ignored. Current value: lambda_l2=2.284068184490839\n[LightGBM] [Warning] lambda_l1 is set=1.5259086651908624, reg_alpha=0.0 will be ignored. Current value: lambda_l1=1.5259086651908624\n[LightGBM] [Warning] lambda_l2 is set=2.284068184490839, reg_lambda=0.0 will be ignored. Current value: lambda_l2=2.284068184490839\n[LightGBM] [Warning] lambda_l1 is set=1.5259086651908624, reg_alpha=0.0 will be ignored. Current value: lambda_l1=1.5259086651908624\n[LightGBM] [Warning] lambda_l2 is set=2.284068184490839, reg_lambda=0.0 will be ignored. Current value: lambda_l2=2.284068184490839\n[LightGBM] [Warning] lambda_l1 is set=1.5259086651908624, reg_alpha=0.0 will be ignored. Current value: lambda_l1=1.5259086651908624\n[LightGBM] [Warning] lambda_l2 is set=2.284068184490839, reg_lambda=0.0 will be ignored. Current value: lambda_l2=2.284068184490839\n[LightGBM] [Warning] lambda_l1 is set=1.5259086651908624, reg_alpha=0.0 will be ignored. Current value: lambda_l1=1.5259086651908624\n[LightGBM] [Warning] lambda_l2 is set=2.284068184490839, reg_lambda=0.0 will be ignored. Current value: lambda_l2=2.284068184490839\n[LightGBM] [Warning] lambda_l1 is set=1.5259086651908624, reg_alpha=0.0 will be ignored. Current value: lambda_l1=1.5259086651908624\n[LightGBM] [Warning] lambda_l2 is set=2.284068184490839, reg_lambda=0.0 will be ignored. Current value: lambda_l2=2.284068184490839\n[LightGBM] [Warning] lambda_l1 is set=1.5259086651908624, reg_alpha=0.0 will be ignored. Current value: lambda_l1=1.5259086651908624\n[LightGBM] [Warning] lambda_l2 is set=2.284068184490839, reg_lambda=0.0 will be ignored. Current value: lambda_l2=2.284068184490839\n[LightGBM] [Warning] lambda_l1 is set=1.5259086651908624, reg_alpha=0.0 will be ignored. Current value: lambda_l1=1.5259086651908624\n[LightGBM] [Warning] lambda_l2 is set=2.284068184490839, reg_lambda=0.0 will be ignored. Current value: lambda_l2=2.284068184490839\n[LightGBM] [Warning] lambda_l1 is set=1.5259086651908624, reg_alpha=0.0 will be ignored. Current value: lambda_l1=1.5259086651908624\n[LightGBM] [Warning] lambda_l2 is set=2.284068184490839, reg_lambda=0.0 will be ignored. Current value: lambda_l2=2.284068184490839\n[LightGBM] [Warning] lambda_l1 is set=1.5259086651908624, reg_alpha=0.0 will be ignored. Current value: lambda_l1=1.5259086651908624\n[LightGBM] [Warning] lambda_l2 is set=2.284068184490839, reg_lambda=0.0 will be ignored. Current value: lambda_l2=2.284068184490839\n[LightGBM] [Warning] lambda_l1 is set=1.5259086651908624, reg_alpha=0.0 will be ignored. Current value: lambda_l1=1.5259086651908624\n[LightGBM] [Warning] lambda_l2 is set=2.284068184490839, reg_lambda=0.0 will be ignored. Current value: lambda_l2=2.284068184490839\n[LightGBM] [Warning] lambda_l1 is set=1.5259086651908624, reg_alpha=0.0 will be ignored. Current value: lambda_l1=1.5259086651908624\n[LightGBM] [Warning] lambda_l2 is set=2.284068184490839, reg_lambda=0.0 will be ignored. Current value: lambda_l2=2.284068184490839\n[LightGBM] [Warning] lambda_l1 is set=1.5259086651908624, reg_alpha=0.0 will be ignored. Current value: lambda_l1=1.5259086651908624\n[LightGBM] [Warning] lambda_l2 is set=2.284068184490839, reg_lambda=0.0 will be ignored. Current value: lambda_l2=2.284068184490839\n[LightGBM] [Warning] lambda_l1 is set=1.5259086651908624, reg_alpha=0.0 will be ignored. Current value: lambda_l1=1.5259086651908624\n[LightGBM] [Warning] lambda_l2 is set=2.284068184490839, reg_lambda=0.0 will be ignored. Current value: lambda_l2=2.284068184490839\n[LightGBM] [Warning] lambda_l1 is set=1.5259086651908624, reg_alpha=0.0 will be ignored. Current value: lambda_l1=1.5259086651908624\n[LightGBM] [Warning] lambda_l2 is set=2.284068184490839, reg_lambda=0.0 will be ignored. Current value: lambda_l2=2.284068184490839\n[LightGBM] [Warning] lambda_l1 is set=1.5259086651908624, reg_alpha=0.0 will be ignored. Current value: lambda_l1=1.5259086651908624\n[LightGBM] [Warning] lambda_l2 is set=2.284068184490839, reg_lambda=0.0 will be ignored. Current value: lambda_l2=2.284068184490839\n[LightGBM] [Warning] lambda_l1 is set=1.5259086651908624, reg_alpha=0.0 will be ignored. Current value: lambda_l1=1.5259086651908624\n[LightGBM] [Warning] lambda_l2 is set=2.284068184490839, reg_lambda=0.0 will be ignored. Current value: lambda_l2=2.284068184490839\n[LightGBM] [Warning] lambda_l1 is set=1.5259086651908624, reg_alpha=0.0 will be ignored. Current value: lambda_l1=1.5259086651908624\n[LightGBM] [Warning] lambda_l2 is set=2.284068184490839, reg_lambda=0.0 will be ignored. Current value: lambda_l2=2.284068184490839\n[LightGBM] [Warning] lambda_l1 is set=1.5259086651908624, reg_alpha=0.0 will be ignored. Current value: lambda_l1=1.5259086651908624\n[LightGBM] [Warning] lambda_l2 is set=2.284068184490839, reg_lambda=0.0 will be ignored. Current value: lambda_l2=2.284068184490839\n[LightGBM] [Warning] lambda_l1 is set=1.5259086651908624, reg_alpha=0.0 will be ignored. Current value: lambda_l1=1.5259086651908624\n[LightGBM] [Warning] lambda_l2 is set=2.284068184490839, reg_lambda=0.0 will be ignored. Current value: lambda_l2=2.284068184490839\n[LightGBM] [Warning] lambda_l1 is set=1.5259086651908624, reg_alpha=0.0 will be ignored. Current value: lambda_l1=1.5259086651908624\n[LightGBM] [Warning] lambda_l2 is set=2.284068184490839, reg_lambda=0.0 will be ignored. Current value: lambda_l2=2.284068184490839\n[LightGBM] [Warning] lambda_l1 is set=1.5259086651908624, reg_alpha=0.0 will be ignored. Current value: lambda_l1=1.5259086651908624\n[LightGBM] [Warning] lambda_l2 is set=2.284068184490839, reg_lambda=0.0 will be ignored. Current value: lambda_l2=2.284068184490839\n[LightGBM] [Warning] lambda_l1 is set=1.5259086651908624, reg_alpha=0.0 will be ignored. Current value: lambda_l1=1.5259086651908624\n[LightGBM] [Warning] lambda_l2 is set=2.284068184490839, reg_lambda=0.0 will be ignored. Current value: lambda_l2=2.284068184490839\n[LightGBM] [Warning] lambda_l1 is set=1.5259086651908624, reg_alpha=0.0 will be ignored. Current value: lambda_l1=1.5259086651908624\n[LightGBM] [Warning] lambda_l2 is set=2.284068184490839, reg_lambda=0.0 will be ignored. Current value: lambda_l2=2.284068184490839\n[LightGBM] [Warning] lambda_l1 is set=1.5259086651908624, reg_alpha=0.0 will be ignored. Current value: lambda_l1=1.5259086651908624\n[LightGBM] [Warning] lambda_l2 is set=2.284068184490839, reg_lambda=0.0 will be ignored. Current value: lambda_l2=2.284068184490839\n[LightGBM] [Warning] lambda_l1 is set=1.5259086651908624, reg_alpha=0.0 will be ignored. Current value: lambda_l1=1.5259086651908624\n[LightGBM] [Warning] lambda_l2 is set=2.284068184490839, reg_lambda=0.0 will be ignored. Current value: lambda_l2=2.284068184490839\n[LightGBM] [Warning] lambda_l1 is set=1.5259086651908624, reg_alpha=0.0 will be ignored. Current value: lambda_l1=1.5259086651908624\n[LightGBM] [Warning] lambda_l2 is set=2.284068184490839, reg_lambda=0.0 will be ignored. Current value: lambda_l2=2.284068184490839\n[LightGBM] [Warning] lambda_l1 is set=1.5259086651908624, reg_alpha=0.0 will be ignored. Current value: lambda_l1=1.5259086651908624\n[LightGBM] [Warning] lambda_l2 is set=2.284068184490839, reg_lambda=0.0 will be ignored. Current value: lambda_l2=2.284068184490839\n[LightGBM] [Warning] lambda_l1 is set=1.5259086651908624, reg_alpha=0.0 will be ignored. Current value: lambda_l1=1.5259086651908624\n[LightGBM] [Warning] lambda_l2 is set=2.284068184490839, reg_lambda=0.0 will be ignored. Current value: lambda_l2=2.284068184490839\n[LightGBM] [Warning] lambda_l1 is set=1.5259086651908624, reg_alpha=0.0 will be ignored. Current value: lambda_l1=1.5259086651908624\n[LightGBM] [Warning] lambda_l2 is set=2.284068184490839, reg_lambda=0.0 will be ignored. Current value: lambda_l2=2.284068184490839\n[LightGBM] [Warning] lambda_l1 is set=1.5259086651908624, reg_alpha=0.0 will be ignored. Current value: lambda_l1=1.5259086651908624\n[LightGBM] [Warning] lambda_l2 is set=2.284068184490839, reg_lambda=0.0 will be ignored. Current value: lambda_l2=2.284068184490839\n[LightGBM] [Warning] lambda_l1 is set=1.5259086651908624, reg_alpha=0.0 will be ignored. Current value: lambda_l1=1.5259086651908624\n[LightGBM] [Warning] lambda_l2 is set=2.284068184490839, reg_lambda=0.0 will be ignored. Current value: lambda_l2=2.284068184490839\n[LightGBM] [Warning] lambda_l1 is set=1.5259086651908624, reg_alpha=0.0 will be ignored. Current value: lambda_l1=1.5259086651908624\n[LightGBM] [Warning] lambda_l2 is set=2.284068184490839, reg_lambda=0.0 will be ignored. Current value: lambda_l2=2.284068184490839\n[LightGBM] [Warning] lambda_l1 is set=1.5259086651908624, reg_alpha=0.0 will be ignored. Current value: lambda_l1=1.5259086651908624\n[LightGBM] [Warning] lambda_l2 is set=2.284068184490839, reg_lambda=0.0 will be ignored. Current value: lambda_l2=2.284068184490839\n[LightGBM] [Warning] lambda_l1 is set=1.5259086651908624, reg_alpha=0.0 will be ignored. Current value: lambda_l1=1.5259086651908624\n[LightGBM] [Warning] lambda_l2 is set=2.284068184490839, reg_lambda=0.0 will be ignored. Current value: lambda_l2=2.284068184490839\n[LightGBM] [Warning] lambda_l1 is set=1.5259086651908624, reg_alpha=0.0 will be ignored. Current value: lambda_l1=1.5259086651908624\n[LightGBM] [Warning] lambda_l2 is set=2.284068184490839, reg_lambda=0.0 will be ignored. Current value: lambda_l2=2.284068184490839\n[LightGBM] [Warning] lambda_l1 is set=1.5259086651908624, reg_alpha=0.0 will be ignored. Current value: lambda_l1=1.5259086651908624\n[LightGBM] [Warning] lambda_l2 is set=2.284068184490839, reg_lambda=0.0 will be ignored. Current value: lambda_l2=2.284068184490839\n[LightGBM] [Warning] lambda_l1 is set=1.5259086651908624, reg_alpha=0.0 will be ignored. Current value: lambda_l1=1.5259086651908624\n[LightGBM] [Warning] lambda_l2 is set=2.284068184490839, reg_lambda=0.0 will be ignored. Current value: lambda_l2=2.284068184490839\n[LightGBM] [Warning] lambda_l1 is set=1.5259086651908624, reg_alpha=0.0 will be ignored. Current value: lambda_l1=1.5259086651908624\n[LightGBM] [Warning] lambda_l2 is set=2.284068184490839, reg_lambda=0.0 will be ignored. Current value: lambda_l2=2.284068184490839\n[LightGBM] [Warning] lambda_l1 is set=1.5259086651908624, reg_alpha=0.0 will be ignored. Current value: lambda_l1=1.5259086651908624\n[LightGBM] [Warning] lambda_l2 is set=2.284068184490839, reg_lambda=0.0 will be ignored. Current value: lambda_l2=2.284068184490839\n[LightGBM] [Warning] lambda_l1 is set=1.5259086651908624, reg_alpha=0.0 will be ignored. Current value: lambda_l1=1.5259086651908624\n[LightGBM] [Warning] lambda_l2 is set=2.284068184490839, reg_lambda=0.0 will be ignored. Current value: lambda_l2=2.284068184490839\n[LightGBM] [Warning] lambda_l1 is set=1.5259086651908624, reg_alpha=0.0 will be ignored. Current value: lambda_l1=1.5259086651908624\n[LightGBM] [Warning] lambda_l2 is set=2.284068184490839, reg_lambda=0.0 will be ignored. Current value: lambda_l2=2.284068184490839\n[LightGBM] [Warning] lambda_l1 is set=1.5259086651908624, reg_alpha=0.0 will be ignored. Current value: lambda_l1=1.5259086651908624\n[LightGBM] [Warning] lambda_l2 is set=2.284068184490839, reg_lambda=0.0 will be ignored. Current value: lambda_l2=2.284068184490839\n[LightGBM] [Warning] lambda_l1 is set=1.5259086651908624, reg_alpha=0.0 will be ignored. Current value: lambda_l1=1.5259086651908624\n[LightGBM] [Warning] lambda_l2 is set=2.284068184490839, reg_lambda=0.0 will be ignored. Current value: lambda_l2=2.284068184490839\n[LightGBM] [Warning] lambda_l1 is set=1.5259086651908624, reg_alpha=0.0 will be ignored. Current value: lambda_l1=1.5259086651908624\n[LightGBM] [Warning] lambda_l2 is set=2.284068184490839, reg_lambda=0.0 will be ignored. Current value: lambda_l2=2.284068184490839\n[LightGBM] [Warning] lambda_l1 is set=1.5259086651908624, reg_alpha=0.0 will be ignored. Current value: lambda_l1=1.5259086651908624\n[LightGBM] [Warning] lambda_l2 is set=2.284068184490839, reg_lambda=0.0 will be ignored. Current value: lambda_l2=2.284068184490839\n[LightGBM] [Warning] lambda_l1 is set=1.5259086651908624, reg_alpha=0.0 will be ignored. Current value: lambda_l1=1.5259086651908624\n[LightGBM] [Warning] lambda_l2 is set=2.284068184490839, reg_lambda=0.0 will be ignored. Current value: lambda_l2=2.284068184490839\n[LightGBM] [Warning] lambda_l1 is set=1.5259086651908624, reg_alpha=0.0 will be ignored. Current value: lambda_l1=1.5259086651908624\n[LightGBM] [Warning] lambda_l2 is set=2.284068184490839, reg_lambda=0.0 will be ignored. Current value: lambda_l2=2.284068184490839\n[LightGBM] [Warning] lambda_l1 is set=1.5259086651908624, reg_alpha=0.0 will be ignored. Current value: lambda_l1=1.5259086651908624\n[LightGBM] [Warning] lambda_l2 is set=2.284068184490839, reg_lambda=0.0 will be ignored. Current value: lambda_l2=2.284068184490839\n[LightGBM] [Warning] lambda_l1 is set=1.5259086651908624, reg_alpha=0.0 will be ignored. Current value: lambda_l1=1.5259086651908624\n[LightGBM] [Warning] lambda_l2 is set=2.284068184490839, reg_lambda=0.0 will be ignored. Current value: lambda_l2=2.284068184490839\n[LightGBM] [Warning] lambda_l1 is set=1.5259086651908624, reg_alpha=0.0 will be ignored. Current value: lambda_l1=1.5259086651908624\n[LightGBM] [Warning] lambda_l2 is set=2.284068184490839, reg_lambda=0.0 will be ignored. Current value: lambda_l2=2.284068184490839\n[LightGBM] [Warning] lambda_l1 is set=1.5259086651908624, reg_alpha=0.0 will be ignored. Current value: lambda_l1=1.5259086651908624\n[LightGBM] [Warning] lambda_l2 is set=2.284068184490839, reg_lambda=0.0 will be ignored. Current value: lambda_l2=2.284068184490839\n[LightGBM] [Warning] lambda_l1 is set=1.5259086651908624, reg_alpha=0.0 will be ignored. Current value: lambda_l1=1.5259086651908624\n[LightGBM] [Warning] lambda_l2 is set=2.284068184490839, reg_lambda=0.0 will be ignored. Current value: lambda_l2=2.284068184490839\n[LightGBM] [Warning] lambda_l1 is set=1.5259086651908624, reg_alpha=0.0 will be ignored. Current value: lambda_l1=1.5259086651908624\n[LightGBM] [Warning] lambda_l2 is set=2.284068184490839, reg_lambda=0.0 will be ignored. Current value: lambda_l2=2.284068184490839\n[LightGBM] [Warning] lambda_l1 is set=1.5259086651908624, reg_alpha=0.0 will be ignored. Current value: lambda_l1=1.5259086651908624\n[LightGBM] [Warning] lambda_l2 is set=2.284068184490839, reg_lambda=0.0 will be ignored. Current value: lambda_l2=2.284068184490839\n[LightGBM] [Warning] lambda_l1 is set=1.5259086651908624, reg_alpha=0.0 will be ignored. Current value: lambda_l1=1.5259086651908624\n[LightGBM] [Warning] lambda_l2 is set=2.284068184490839, reg_lambda=0.0 will be ignored. Current value: lambda_l2=2.284068184490839\n[LightGBM] [Warning] lambda_l1 is set=1.5259086651908624, reg_alpha=0.0 will be ignored. Current value: lambda_l1=1.5259086651908624\n[LightGBM] [Warning] lambda_l2 is set=2.284068184490839, reg_lambda=0.0 will be ignored. Current value: lambda_l2=2.284068184490839\n[LightGBM] [Warning] lambda_l1 is set=1.5259086651908624, reg_alpha=0.0 will be ignored. Current value: lambda_l1=1.5259086651908624\n[LightGBM] [Warning] lambda_l2 is set=2.284068184490839, reg_lambda=0.0 will be ignored. Current value: lambda_l2=2.284068184490839\n[LightGBM] [Warning] lambda_l1 is set=1.5259086651908624, reg_alpha=0.0 will be ignored. Current value: lambda_l1=1.5259086651908624\n[LightGBM] [Warning] lambda_l2 is set=2.284068184490839, reg_lambda=0.0 will be ignored. Current value: lambda_l2=2.284068184490839\n[LightGBM] [Warning] lambda_l1 is set=1.5259086651908624, reg_alpha=0.0 will be ignored. Current value: lambda_l1=1.5259086651908624\n[LightGBM] [Warning] lambda_l2 is set=2.284068184490839, reg_lambda=0.0 will be ignored. Current value: lambda_l2=2.284068184490839\n[LightGBM] [Warning] lambda_l1 is set=1.5259086651908624, reg_alpha=0.0 will be ignored. Current value: lambda_l1=1.5259086651908624\n[LightGBM] [Warning] lambda_l2 is set=2.284068184490839, reg_lambda=0.0 will be ignored. Current value: lambda_l2=2.284068184490839\n[LightGBM] [Warning] lambda_l1 is set=1.5259086651908624, reg_alpha=0.0 will be ignored. Current value: lambda_l1=1.5259086651908624\n[LightGBM] [Warning] lambda_l2 is set=2.284068184490839, reg_lambda=0.0 will be ignored. Current value: lambda_l2=2.284068184490839\n[LightGBM] [Warning] lambda_l1 is set=1.5259086651908624, reg_alpha=0.0 will be ignored. Current value: lambda_l1=1.5259086651908624\n[LightGBM] [Warning] lambda_l2 is set=2.284068184490839, reg_lambda=0.0 will be ignored. Current value: lambda_l2=2.284068184490839\n[LightGBM] [Warning] lambda_l1 is set=1.5259086651908624, reg_alpha=0.0 will be ignored. Current value: lambda_l1=1.5259086651908624\n[LightGBM] [Warning] lambda_l2 is set=2.284068184490839, reg_lambda=0.0 will be ignored. Current value: lambda_l2=2.284068184490839\n[LightGBM] [Warning] lambda_l1 is set=1.5259086651908624, reg_alpha=0.0 will be ignored. Current value: lambda_l1=1.5259086651908624\n[LightGBM] [Warning] lambda_l2 is set=2.284068184490839, reg_lambda=0.0 will be ignored. Current value: lambda_l2=2.284068184490839\n[LightGBM] [Warning] lambda_l1 is set=1.5259086651908624, reg_alpha=0.0 will be ignored. Current value: lambda_l1=1.5259086651908624\n[LightGBM] [Warning] lambda_l2 is set=2.284068184490839, reg_lambda=0.0 will be ignored. Current value: lambda_l2=2.284068184490839\n[LightGBM] [Warning] lambda_l1 is set=1.5259086651908624, reg_alpha=0.0 will be ignored. Current value: lambda_l1=1.5259086651908624\n[LightGBM] [Warning] lambda_l2 is set=2.284068184490839, reg_lambda=0.0 will be ignored. Current value: lambda_l2=2.284068184490839\n[LightGBM] [Warning] lambda_l1 is set=1.5259086651908624, reg_alpha=0.0 will be ignored. Current value: lambda_l1=1.5259086651908624\n[LightGBM] [Warning] lambda_l2 is set=2.284068184490839, reg_lambda=0.0 will be ignored. Current value: lambda_l2=2.284068184490839\n[LightGBM] [Warning] lambda_l1 is set=1.5259086651908624, reg_alpha=0.0 will be ignored. Current value: lambda_l1=1.5259086651908624\n[LightGBM] [Warning] lambda_l2 is set=2.284068184490839, reg_lambda=0.0 will be ignored. Current value: lambda_l2=2.284068184490839\n[LightGBM] [Warning] lambda_l1 is set=1.5259086651908624, reg_alpha=0.0 will be ignored. Current value: lambda_l1=1.5259086651908624\n[LightGBM] [Warning] lambda_l2 is set=2.284068184490839, reg_lambda=0.0 will be ignored. Current value: lambda_l2=2.284068184490839\n[LightGBM] [Warning] lambda_l1 is set=1.5259086651908624, reg_alpha=0.0 will be ignored. Current value: lambda_l1=1.5259086651908624\n[LightGBM] [Warning] lambda_l2 is set=2.284068184490839, reg_lambda=0.0 will be ignored. Current value: lambda_l2=2.284068184490839\n[LightGBM] [Warning] lambda_l1 is set=1.5259086651908624, reg_alpha=0.0 will be ignored. Current value: lambda_l1=1.5259086651908624\n[LightGBM] [Warning] lambda_l2 is set=2.284068184490839, reg_lambda=0.0 will be ignored. Current value: lambda_l2=2.284068184490839\n[LightGBM] [Warning] lambda_l1 is set=1.5259086651908624, reg_alpha=0.0 will be ignored. Current value: lambda_l1=1.5259086651908624\n[LightGBM] [Warning] lambda_l2 is set=2.284068184490839, reg_lambda=0.0 will be ignored. Current value: lambda_l2=2.284068184490839\n[LightGBM] [Warning] lambda_l1 is set=1.5259086651908624, reg_alpha=0.0 will be ignored. Current value: lambda_l1=1.5259086651908624\n[LightGBM] [Warning] lambda_l2 is set=2.284068184490839, reg_lambda=0.0 will be ignored. Current value: lambda_l2=2.284068184490839\n[LightGBM] [Warning] lambda_l1 is set=1.5259086651908624, reg_alpha=0.0 will be ignored. Current value: lambda_l1=1.5259086651908624\n[LightGBM] [Warning] lambda_l2 is set=2.284068184490839, reg_lambda=0.0 will be ignored. Current value: lambda_l2=2.284068184490839\n[LightGBM] [Warning] lambda_l1 is set=1.5259086651908624, reg_alpha=0.0 will be ignored. Current value: lambda_l1=1.5259086651908624\n[LightGBM] [Warning] lambda_l2 is set=2.284068184490839, reg_lambda=0.0 will be ignored. Current value: lambda_l2=2.284068184490839\n[LightGBM] [Warning] lambda_l1 is set=1.5259086651908624, reg_alpha=0.0 will be ignored. Current value: lambda_l1=1.5259086651908624\n[LightGBM] [Warning] lambda_l2 is set=2.284068184490839, reg_lambda=0.0 will be ignored. Current value: lambda_l2=2.284068184490839\n[LightGBM] [Warning] lambda_l1 is set=1.5259086651908624, reg_alpha=0.0 will be ignored. Current value: lambda_l1=1.5259086651908624\n[LightGBM] [Warning] lambda_l2 is set=2.284068184490839, reg_lambda=0.0 will be ignored. Current value: lambda_l2=2.284068184490839\n[LightGBM] [Warning] lambda_l1 is set=1.5259086651908624, reg_alpha=0.0 will be ignored. Current value: lambda_l1=1.5259086651908624\n[LightGBM] [Warning] lambda_l2 is set=2.284068184490839, reg_lambda=0.0 will be ignored. Current value: lambda_l2=2.284068184490839\n[LightGBM] [Warning] lambda_l1 is set=1.5259086651908624, reg_alpha=0.0 will be ignored. Current value: lambda_l1=1.5259086651908624\n"
     ]
    },
    {
     "output_type": "display_data",
     "data": {
      "image/png": "[encoded data removed]",
      "text/plain": [
       "<Figure size 800x950 with 2 Axes>"
      ]
     },
     "metadata": {},
     "output_type": "display_data"
    }
   ],
   "source": [
    "if shap_enabled:\n",
    "    mlflow.autolog(disable=True)\n",
    "    mlflow.sklearn.autolog(disable=True)\n",
    "    from shap import KernelExplainer, summary_plot\n",
    "    # Sample background data for SHAP Explainer. Increase the sample size to reduce variance.\n",
    "    train_sample = X_train.sample(n=min(100, X_train.shape[0]), random_state=162540551)\n",
    "\n",
    "    # Sample some rows from the validation set to explain. Increase the sample size for more thorough results.\n",
    "    example = X_val.sample(n=min(100, X_val.shape[0]), random_state=162540551)\n",
    "\n",
    "    # Use Kernel SHAP to explain feature importance on the sampled rows from the validation set.\n",
    "    predict = lambda x: model.predict(pd.DataFrame(x, columns=X_train.columns))\n",
    "    explainer = KernelExplainer(predict, train_sample, link=\"identity\")\n",
    "    shap_values = explainer.shap_values(example, l1_reg=False, nsamples=500)\n",
    "    summary_plot(shap_values, example)"
   ]
  },
  {
   "cell_type": "markdown",
   "metadata": {
    "application/vnd.databricks.v1+cell": {
     "cellMetadata": {
      "byteLimit": 2048000,
      "rowLimit": 10000
     },
     "inputWidgets": {},
     "nuid": "a2b5bdaf-82da-40e5-baef-1dc3bf246326",
     "showTitle": false,
     "tableResultSettingsMap": {},
     "title": ""
    }
   },
   "source": [
    "## Inference\n",
    "[The MLflow Model Registry](https://docs.databricks.com/applications/mlflow/model-registry.html) is a collaborative hub where teams can share ML models, work together from experimentation to online testing and production, integrate with approval and governance workflows, and monitor ML deployments and their performance. The snippets below show how to add the model trained in this notebook to the model registry and to retrieve it later for inference.\n",
    "\n",
    "> **NOTE:** The `model_uri` for the model already trained in this notebook can be found in the cell below\n",
    "\n",
    "### Register to Model Registry\n",
    "```\n",
    "model_name = \"Example\"\n",
    "\n",
    "model_uri = f\"runs:/{ mlflow_run.info.run_id }/model\"\n",
    "registered_model_version = mlflow.register_model(model_uri, model_name)\n",
    "```\n",
    "\n",
    "### Load from Model Registry\n",
    "```\n",
    "model_name = \"Example\"\n",
    "model_version = registered_model_version.version\n",
    "\n",
    "model_uri=f\"models:/{model_name}/{model_version}\"\n",
    "model = mlflow.pyfunc.load_model(model_uri=model_uri)\n",
    "model.predict(input_X)\n",
    "```\n",
    "\n",
    "### Load model without registering\n",
    "```\n",
    "model_uri = f\"runs:/{ mlflow_run.info.run_id }/model\"\n",
    "\n",
    "model = mlflow.pyfunc.load_model(model_uri=model_uri)\n",
    "model.predict(input_X)\n",
    "```"
   ]
  },
  {
   "cell_type": "code",
   "execution_count": 0,
   "metadata": {
    "application/vnd.databricks.v1+cell": {
     "cellMetadata": {
      "byteLimit": 2048000,
      "rowLimit": 10000
     },
     "inputWidgets": {},
     "nuid": "ada7d9bf-025c-4bbb-b86f-b4aa20cbd95c",
     "showTitle": false,
     "tableResultSettingsMap": {},
     "title": ""
    },
    "execution": {
     "iopub.execute_input": "2024-12-04T02:39:39.229557Z",
     "iopub.status.busy": "2024-12-04T02:39:39.226881Z",
     "iopub.status.idle": "2024-12-04T02:39:39.242381Z",
     "shell.execute_reply": "2024-12-04T02:39:39.241564Z"
    }
   },
   "outputs": [
    {
     "output_type": "stream",
     "name": "stdout",
     "output_type": "stream",
     "text": [
      "runs:/66abbd367f4745cda811d23115c269c4/model\n"
     ]
    }
   ],
   "source": [
    "# model_uri for the generated model\n",
    "print(f\"runs:/{ mlflow_run.info.run_id }/model\")"
   ]
  },
  {
   "cell_type": "code",
   "execution_count": 0,
   "metadata": {
    "application/vnd.databricks.v1+cell": {
     "cellMetadata": {
      "byteLimit": 2048000,
      "rowLimit": 10000
     },
     "inputWidgets": {},
     "nuid": "4bbc18e2-5879-4cd0-b20f-b27453b91210",
     "showTitle": false,
     "tableResultSettingsMap": {},
     "title": ""
    }
   },
   "outputs": [
    {
     "output_type": "stream",
     "name": "stderr",
     "output_type": "stream",
     "text": [
      "Successfully registered model 'views_model_data_final_views-2024_12_03_v9_LightGBMRegressor'.\n2024/12/04 03:18:29 INFO mlflow.store.model_registry.abstract_store: Waiting up to 300 seconds for model version to finish creation. Model name: views_model_data_final_views-2024_12_03_v9_LightGBMRegressor, version 1\nCreated version '1' of model 'views_model_data_final_views-2024_12_03_v9_LightGBMRegressor'.\n"
     ]
    }
   ],
   "source": [
    "model_name = \"views_model_data_final_views-2024_12_03_v9_LightGBMRegressor\"\n",
    "\n",
    "model_uri = f\"runs:/{ mlflow_run.info.run_id }/model\"\n",
    "registered_model_version = mlflow.register_model(model_uri, model_name)"
   ]
  }
 ],
 "metadata": {
  "application/vnd.databricks.v1+notebook": {
   "computePreferences": null,
   "dashboards": [],
   "environmentMetadata": null,
   "language": "python",
   "notebookMetadata": {
    "pythonIndentUnit": 4
   },
   "notebookName": "LightGBMRegressor - deployed model",
   "widgets": {}
  },
  "language_info": {
   "name": "python"
  },
  "name": "LightGBMRegressor-118660c9772a452adcf4fa22cb083e04",
  "widgets": {
   "application/vnd.jupyter.widget-state+json": {
    "state": {
     "0368e36200f84d109dbee4ca87834122": {
      "model_module": "@jupyter-widgets/controls",
      "model_module_version": "1.5.0",
      "model_name": "HTMLModel",
      "state": {
       "_dom_classes": [],
       "_model_module": "@jupyter-widgets/controls",
       "_model_module_version": "1.5.0",
       "_model_name": "HTMLModel",
       "_view_count": null,
       "_view_module": "@jupyter-widgets/controls",
       "_view_module_version": "1.5.0",
       "_view_name": "HTMLView",
       "description": "",
       "description_tooltip": null,
       "layout": "IPY_MODEL_50730909c6994f0e8140341dc63345dc",
       "placeholder": "​",
       "style": "IPY_MODEL_7e6dac73f28a426b82bbd63ca5b3da5c",
       "value": " 1/1 [00:00&lt;00:00,  3.04it/s]"
      }
     },
     "03baf26355aa498c9af1fad850568f15": {
      "model_module": "@jupyter-widgets/base",
      "model_module_version": "1.2.0",
      "model_name": "LayoutModel",
      "state": {
       "_model_module": "@jupyter-widgets/base",
       "_model_module_version": "1.2.0",
       "_model_name": "LayoutModel",
       "_view_count": null,
       "_view_module": "@jupyter-widgets/base",
       "_view_module_version": "1.2.0",
       "_view_name": "LayoutView",
       "align_content": null,
       "align_items": null,
       "align_self": null,
       "border": null,
       "bottom": null,
       "display": null,
       "flex": null,
       "flex_flow": null,
       "grid_area": null,
       "grid_auto_columns": null,
       "grid_auto_flow": null,
       "grid_auto_rows": null,
       "grid_column": null,
       "grid_gap": null,
       "grid_row": null,
       "grid_template_areas": null,
       "grid_template_columns": null,
       "grid_template_rows": null,
       "height": null,
       "justify_content": null,
       "justify_items": null,
       "left": null,
       "margin": null,
       "max_height": null,
       "max_width": null,
       "min_height": null,
       "min_width": null,
       "object_fit": null,
       "object_position": null,
       "order": null,
       "overflow": null,
       "overflow_x": null,
       "overflow_y": null,
       "padding": null,
       "right": null,
       "top": null,
       "visibility": null,
       "width": null
      }
     },
     "0b0ad31f53a04d0ba70ad2c8ad7f48a0": {
      "model_module": "@jupyter-widgets/base",
      "model_module_version": "1.2.0",
      "model_name": "LayoutModel",
      "state": {
       "_model_module": "@jupyter-widgets/base",
       "_model_module_version": "1.2.0",
       "_model_name": "LayoutModel",
       "_view_count": null,
       "_view_module": "@jupyter-widgets/base",
       "_view_module_version": "1.2.0",
       "_view_name": "LayoutView",
       "align_content": null,
       "align_items": null,
       "align_self": null,
       "border": null,
       "bottom": null,
       "display": null,
       "flex": null,
       "flex_flow": null,
       "grid_area": null,
       "grid_auto_columns": null,
       "grid_auto_flow": null,
       "grid_auto_rows": null,
       "grid_column": null,
       "grid_gap": null,
       "grid_row": null,
       "grid_template_areas": null,
       "grid_template_columns": null,
       "grid_template_rows": null,
       "height": null,
       "justify_content": null,
       "justify_items": null,
       "left": null,
       "margin": null,
       "max_height": null,
       "max_width": null,
       "min_height": null,
       "min_width": null,
       "object_fit": null,
       "object_position": null,
       "order": null,
       "overflow": null,
       "overflow_x": null,
       "overflow_y": null,
       "padding": null,
       "right": null,
       "top": null,
       "visibility": null,
       "width": null
      }
     },
     "10e0ec83a83a47cfa93f052a0f8f6e3b": {
      "model_module": "@jupyter-widgets/controls",
      "model_module_version": "1.5.0",
      "model_name": "DescriptionStyleModel",
      "state": {
       "_model_module": "@jupyter-widgets/controls",
       "_model_module_version": "1.5.0",
       "_model_name": "DescriptionStyleModel",
       "_view_count": null,
       "_view_module": "@jupyter-widgets/base",
       "_view_module_version": "1.2.0",
       "_view_name": "StyleView",
       "description_width": ""
      }
     },
     "134f3432f53b4696903d6a86f51cfc40": {
      "model_module": "@jupyter-widgets/base",
      "model_module_version": "1.2.0",
      "model_name": "LayoutModel",
      "state": {
       "_model_module": "@jupyter-widgets/base",
       "_model_module_version": "1.2.0",
       "_model_name": "LayoutModel",
       "_view_count": null,
       "_view_module": "@jupyter-widgets/base",
       "_view_module_version": "1.2.0",
       "_view_name": "LayoutView",
       "align_content": null,
       "align_items": null,
       "align_self": null,
       "border": null,
       "bottom": null,
       "display": null,
       "flex": null,
       "flex_flow": null,
       "grid_area": null,
       "grid_auto_columns": null,
       "grid_auto_flow": null,
       "grid_auto_rows": null,
       "grid_column": null,
       "grid_gap": null,
       "grid_row": null,
       "grid_template_areas": null,
       "grid_template_columns": null,
       "grid_template_rows": null,
       "height": null,
       "justify_content": null,
       "justify_items": null,
       "left": null,
       "margin": null,
       "max_height": null,
       "max_width": null,
       "min_height": null,
       "min_width": null,
       "object_fit": null,
       "object_position": null,
       "order": null,
       "overflow": null,
       "overflow_x": null,
       "overflow_y": null,
       "padding": null,
       "right": null,
       "top": null,
       "visibility": null,
       "width": null
      }
     },
     "1412e96e52be4f98ba5ef35435677866": {
      "model_module": "@jupyter-widgets/controls",
      "model_module_version": "1.5.0",
      "model_name": "HTMLModel",
      "state": {
       "_dom_classes": [],
       "_model_module": "@jupyter-widgets/controls",
       "_model_module_version": "1.5.0",
       "_model_name": "HTMLModel",
       "_view_count": null,
       "_view_module": "@jupyter-widgets/controls",
       "_view_module_version": "1.5.0",
       "_view_name": "HTMLView",
       "description": "",
       "description_tooltip": null,
       "layout": "IPY_MODEL_60e8a4c89d844a66acd206850ae5538a",
       "placeholder": "​",
       "style": "IPY_MODEL_d8809ad542c24d46bae8c442ad0f9f30",
       "value": "Downloading artifacts: 100%"
      }
     },
     "173b7706242b4379b00bc1773a3453fc": {
      "model_module": "@jupyter-widgets/controls",
      "model_module_version": "1.5.0",
      "model_name": "HBoxModel",
      "state": {
       "_dom_classes": [],
       "_model_module": "@jupyter-widgets/controls",
       "_model_module_version": "1.5.0",
       "_model_name": "HBoxModel",
       "_view_count": null,
       "_view_module": "@jupyter-widgets/controls",
       "_view_module_version": "1.5.0",
       "_view_name": "HBoxView",
       "box_style": "",
       "children": [
        "IPY_MODEL_1c8dbcb928894114960941dcacb506ab",
        "IPY_MODEL_b195d5ce77ed4438832f1182f46551b5",
        "IPY_MODEL_0368e36200f84d109dbee4ca87834122"
       ],
       "layout": "IPY_MODEL_ae012c6cf1a24c1b830fec5a3920ecd8"
      }
     },
     "1c8dbcb928894114960941dcacb506ab": {
      "model_module": "@jupyter-widgets/controls",
      "model_module_version": "1.5.0",
      "model_name": "HTMLModel",
      "state": {
       "_dom_classes": [],
       "_model_module": "@jupyter-widgets/controls",
       "_model_module_version": "1.5.0",
       "_model_name": "HTMLModel",
       "_view_count": null,
       "_view_module": "@jupyter-widgets/controls",
       "_view_module_version": "1.5.0",
       "_view_name": "HTMLView",
       "description": "",
       "description_tooltip": null,
       "layout": "IPY_MODEL_47bafb3dc7014004bab90c0ac2295de0",
       "placeholder": "​",
       "style": "IPY_MODEL_b8d47c6391f249f3a0d9cef0bd454343",
       "value": "Downloading artifacts: 100%"
      }
     },
     "1e0789097fee43b5b74a2561f1034dcc": {
      "model_module": "@jupyter-widgets/controls",
      "model_module_version": "1.5.0",
      "model_name": "DescriptionStyleModel",
      "state": {
       "_model_module": "@jupyter-widgets/controls",
       "_model_module_version": "1.5.0",
       "_model_name": "DescriptionStyleModel",
       "_view_count": null,
       "_view_module": "@jupyter-widgets/base",
       "_view_module_version": "1.2.0",
       "_view_name": "StyleView",
       "description_width": ""
      }
     },
     "20c0ac3833aa45f3b9b1876ee1deccdf": {
      "model_module": "@jupyter-widgets/controls",
      "model_module_version": "1.5.0",
      "model_name": "FloatProgressModel",
      "state": {
       "_dom_classes": [],
       "_model_module": "@jupyter-widgets/controls",
       "_model_module_version": "1.5.0",
       "_model_name": "FloatProgressModel",
       "_view_count": null,
       "_view_module": "@jupyter-widgets/controls",
       "_view_module_version": "1.5.0",
       "_view_name": "ProgressView",
       "bar_style": "success",
       "description": "",
       "description_tooltip": null,
       "layout": "IPY_MODEL_4b28e7438dd74476a8c21c89b2cce93f",
       "max": 1.0,
       "min": 0.0,
       "orientation": "horizontal",
       "style": "IPY_MODEL_52aeef3d5f6a4f70b8c396cf97c0b9d0",
       "value": 1.0
      }
     },
     "27a477c060854c9bbaf4449834ca6759": {
      "model_module": "@jupyter-widgets/controls",
      "model_module_version": "1.5.0",
      "model_name": "ProgressStyleModel",
      "state": {
       "_model_module": "@jupyter-widgets/controls",
       "_model_module_version": "1.5.0",
       "_model_name": "ProgressStyleModel",
       "_view_count": null,
       "_view_module": "@jupyter-widgets/base",
       "_view_module_version": "1.2.0",
       "_view_name": "StyleView",
       "bar_color": null,
       "description_width": ""
      }
     },
     "2bec167d3fa7497aa580a6fc3c8dcd3a": {
      "model_module": "@jupyter-widgets/base",
      "model_module_version": "1.2.0",
      "model_name": "LayoutModel",
      "state": {
       "_model_module": "@jupyter-widgets/base",
       "_model_module_version": "1.2.0",
       "_model_name": "LayoutModel",
       "_view_count": null,
       "_view_module": "@jupyter-widgets/base",
       "_view_module_version": "1.2.0",
       "_view_name": "LayoutView",
       "align_content": null,
       "align_items": null,
       "align_self": null,
       "border": null,
       "bottom": null,
       "display": null,
       "flex": null,
       "flex_flow": null,
       "grid_area": null,
       "grid_auto_columns": null,
       "grid_auto_flow": null,
       "grid_auto_rows": null,
       "grid_column": null,
       "grid_gap": null,
       "grid_row": null,
       "grid_template_areas": null,
       "grid_template_columns": null,
       "grid_template_rows": null,
       "height": null,
       "justify_content": null,
       "justify_items": null,
       "left": null,
       "margin": null,
       "max_height": null,
       "max_width": null,
       "min_height": null,
       "min_width": null,
       "object_fit": null,
       "object_position": null,
       "order": null,
       "overflow": null,
       "overflow_x": null,
       "overflow_y": null,
       "padding": null,
       "right": null,
       "top": null,
       "visibility": null,
       "width": null
      }
     },
     "2e06ebc96d824b93a8b11f1eb5d86255": {
      "model_module": "@jupyter-widgets/controls",
      "model_module_version": "1.5.0",
      "model_name": "HTMLModel",
      "state": {
       "_dom_classes": [],
       "_model_module": "@jupyter-widgets/controls",
       "_model_module_version": "1.5.0",
       "_model_name": "HTMLModel",
       "_view_count": null,
       "_view_module": "@jupyter-widgets/controls",
       "_view_module_version": "1.5.0",
       "_view_name": "HTMLView",
       "description": "",
       "description_tooltip": null,
       "layout": "IPY_MODEL_e1348b06b154437ea6a3de27d1f4cc25",
       "placeholder": "​",
       "style": "IPY_MODEL_b6d9c142d9ee43c8a59eb0b40488b294",
       "value": "Downloading artifacts: 100%"
      }
     },
     "3b195a23ecd347a8a929df79bd242a7d": {
      "model_module": "@jupyter-widgets/controls",
      "model_module_version": "1.5.0",
      "model_name": "HBoxModel",
      "state": {
       "_dom_classes": [],
       "_model_module": "@jupyter-widgets/controls",
       "_model_module_version": "1.5.0",
       "_model_name": "HBoxModel",
       "_view_count": null,
       "_view_module": "@jupyter-widgets/controls",
       "_view_module_version": "1.5.0",
       "_view_name": "HBoxView",
       "box_style": "",
       "children": [
        "IPY_MODEL_5de8ebfbe53a49bd946de51570a723e2",
        "IPY_MODEL_c38bb0a62b294aab82ff3c4bdf686dc6",
        "IPY_MODEL_f900dca063c74274b90550547e0fa734"
       ],
       "layout": "IPY_MODEL_66e204410792423a92fc1ec4583a915a"
      }
     },
     "3c1868c4ecfe47c2875cfddb517ade4c": {
      "model_module": "@jupyter-widgets/base",
      "model_module_version": "1.2.0",
      "model_name": "LayoutModel",
      "state": {
       "_model_module": "@jupyter-widgets/base",
       "_model_module_version": "1.2.0",
       "_model_name": "LayoutModel",
       "_view_count": null,
       "_view_module": "@jupyter-widgets/base",
       "_view_module_version": "1.2.0",
       "_view_name": "LayoutView",
       "align_content": null,
       "align_items": null,
       "align_self": null,
       "border": null,
       "bottom": null,
       "display": null,
       "flex": null,
       "flex_flow": null,
       "grid_area": null,
       "grid_auto_columns": null,
       "grid_auto_flow": null,
       "grid_auto_rows": null,
       "grid_column": null,
       "grid_gap": null,
       "grid_row": null,
       "grid_template_areas": null,
       "grid_template_columns": null,
       "grid_template_rows": null,
       "height": null,
       "justify_content": null,
       "justify_items": null,
       "left": null,
       "margin": null,
       "max_height": null,
       "max_width": null,
       "min_height": null,
       "min_width": null,
       "object_fit": null,
       "object_position": null,
       "order": null,
       "overflow": null,
       "overflow_x": null,
       "overflow_y": null,
       "padding": null,
       "right": null,
       "top": null,
       "visibility": null,
       "width": null
      }
     },
     "3f2f673196d94afeb5a86ae535e4d929": {
      "model_module": "@jupyter-widgets/controls",
      "model_module_version": "1.5.0",
      "model_name": "HTMLModel",
      "state": {
       "_dom_classes": [],
       "_model_module": "@jupyter-widgets/controls",
       "_model_module_version": "1.5.0",
       "_model_name": "HTMLModel",
       "_view_count": null,
       "_view_module": "@jupyter-widgets/controls",
       "_view_module_version": "1.5.0",
       "_view_name": "HTMLView",
       "description": "",
       "description_tooltip": null,
       "layout": "IPY_MODEL_6263d41ef48c4a2487b4f0367e1afd6d",
       "placeholder": "​",
       "style": "IPY_MODEL_b5b7ddf136354226a12c5c204069230c",
       "value": " 1/1 [00:00&lt;00:00,  8.96it/s]"
      }
     },
     "47bafb3dc7014004bab90c0ac2295de0": {
      "model_module": "@jupyter-widgets/base",
      "model_module_version": "1.2.0",
      "model_name": "LayoutModel",
      "state": {
       "_model_module": "@jupyter-widgets/base",
       "_model_module_version": "1.2.0",
       "_model_name": "LayoutModel",
       "_view_count": null,
       "_view_module": "@jupyter-widgets/base",
       "_view_module_version": "1.2.0",
       "_view_name": "LayoutView",
       "align_content": null,
       "align_items": null,
       "align_self": null,
       "border": null,
       "bottom": null,
       "display": null,
       "flex": null,
       "flex_flow": null,
       "grid_area": null,
       "grid_auto_columns": null,
       "grid_auto_flow": null,
       "grid_auto_rows": null,
       "grid_column": null,
       "grid_gap": null,
       "grid_row": null,
       "grid_template_areas": null,
       "grid_template_columns": null,
       "grid_template_rows": null,
       "height": null,
       "justify_content": null,
       "justify_items": null,
       "left": null,
       "margin": null,
       "max_height": null,
       "max_width": null,
       "min_height": null,
       "min_width": null,
       "object_fit": null,
       "object_position": null,
       "order": null,
       "overflow": null,
       "overflow_x": null,
       "overflow_y": null,
       "padding": null,
       "right": null,
       "top": null,
       "visibility": null,
       "width": null
      }
     },
     "4b28e7438dd74476a8c21c89b2cce93f": {
      "model_module": "@jupyter-widgets/base",
      "model_module_version": "1.2.0",
      "model_name": "LayoutModel",
      "state": {
       "_model_module": "@jupyter-widgets/base",
       "_model_module_version": "1.2.0",
       "_model_name": "LayoutModel",
       "_view_count": null,
       "_view_module": "@jupyter-widgets/base",
       "_view_module_version": "1.2.0",
       "_view_name": "LayoutView",
       "align_content": null,
       "align_items": null,
       "align_self": null,
       "border": null,
       "bottom": null,
       "display": null,
       "flex": null,
       "flex_flow": null,
       "grid_area": null,
       "grid_auto_columns": null,
       "grid_auto_flow": null,
       "grid_auto_rows": null,
       "grid_column": null,
       "grid_gap": null,
       "grid_row": null,
       "grid_template_areas": null,
       "grid_template_columns": null,
       "grid_template_rows": null,
       "height": null,
       "justify_content": null,
       "justify_items": null,
       "left": null,
       "margin": null,
       "max_height": null,
       "max_width": null,
       "min_height": null,
       "min_width": null,
       "object_fit": null,
       "object_position": null,
       "order": null,
       "overflow": null,
       "overflow_x": null,
       "overflow_y": null,
       "padding": null,
       "right": null,
       "top": null,
       "visibility": null,
       "width": null
      }
     },
     "50730909c6994f0e8140341dc63345dc": {
      "model_module": "@jupyter-widgets/base",
      "model_module_version": "1.2.0",
      "model_name": "LayoutModel",
      "state": {
       "_model_module": "@jupyter-widgets/base",
       "_model_module_version": "1.2.0",
       "_model_name": "LayoutModel",
       "_view_count": null,
       "_view_module": "@jupyter-widgets/base",
       "_view_module_version": "1.2.0",
       "_view_name": "LayoutView",
       "align_content": null,
       "align_items": null,
       "align_self": null,
       "border": null,
       "bottom": null,
       "display": null,
       "flex": null,
       "flex_flow": null,
       "grid_area": null,
       "grid_auto_columns": null,
       "grid_auto_flow": null,
       "grid_auto_rows": null,
       "grid_column": null,
       "grid_gap": null,
       "grid_row": null,
       "grid_template_areas": null,
       "grid_template_columns": null,
       "grid_template_rows": null,
       "height": null,
       "justify_content": null,
       "justify_items": null,
       "left": null,
       "margin": null,
       "max_height": null,
       "max_width": null,
       "min_height": null,
       "min_width": null,
       "object_fit": null,
       "object_position": null,
       "order": null,
       "overflow": null,
       "overflow_x": null,
       "overflow_y": null,
       "padding": null,
       "right": null,
       "top": null,
       "visibility": null,
       "width": null
      }
     },
     "50a0d39407a241249544302f59bf92ba": {
      "model_module": "@jupyter-widgets/controls",
      "model_module_version": "1.5.0",
      "model_name": "HBoxModel",
      "state": {
       "_dom_classes": [],
       "_model_module": "@jupyter-widgets/controls",
       "_model_module_version": "1.5.0",
       "_model_name": "HBoxModel",
       "_view_count": null,
       "_view_module": "@jupyter-widgets/controls",
       "_view_module_version": "1.5.0",
       "_view_name": "HBoxView",
       "box_style": "",
       "children": [
        "IPY_MODEL_1412e96e52be4f98ba5ef35435677866",
        "IPY_MODEL_8d950f5ef94a4cd18a1c2c58bd71e7f9",
        "IPY_MODEL_3f2f673196d94afeb5a86ae535e4d929"
       ],
       "layout": "IPY_MODEL_0b0ad31f53a04d0ba70ad2c8ad7f48a0"
      }
     },
     "52aeef3d5f6a4f70b8c396cf97c0b9d0": {
      "model_module": "@jupyter-widgets/controls",
      "model_module_version": "1.5.0",
      "model_name": "ProgressStyleModel",
      "state": {
       "_model_module": "@jupyter-widgets/controls",
       "_model_module_version": "1.5.0",
       "_model_name": "ProgressStyleModel",
       "_view_count": null,
       "_view_module": "@jupyter-widgets/base",
       "_view_module_version": "1.2.0",
       "_view_name": "StyleView",
       "bar_color": null,
       "description_width": ""
      }
     },
     "5de8ebfbe53a49bd946de51570a723e2": {
      "model_module": "@jupyter-widgets/controls",
      "model_module_version": "1.5.0",
      "model_name": "HTMLModel",
      "state": {
       "_dom_classes": [],
       "_model_module": "@jupyter-widgets/controls",
       "_model_module_version": "1.5.0",
       "_model_name": "HTMLModel",
       "_view_count": null,
       "_view_module": "@jupyter-widgets/controls",
       "_view_module_version": "1.5.0",
       "_view_name": "HTMLView",
       "description": "",
       "description_tooltip": null,
       "layout": "IPY_MODEL_2bec167d3fa7497aa580a6fc3c8dcd3a",
       "placeholder": "​",
       "style": "IPY_MODEL_10e0ec83a83a47cfa93f052a0f8f6e3b",
       "value": "Uploading artifacts: 100%"
      }
     },
     "60e8a4c89d844a66acd206850ae5538a": {
      "model_module": "@jupyter-widgets/base",
      "model_module_version": "1.2.0",
      "model_name": "LayoutModel",
      "state": {
       "_model_module": "@jupyter-widgets/base",
       "_model_module_version": "1.2.0",
       "_model_name": "LayoutModel",
       "_view_count": null,
       "_view_module": "@jupyter-widgets/base",
       "_view_module_version": "1.2.0",
       "_view_name": "LayoutView",
       "align_content": null,
       "align_items": null,
       "align_self": null,
       "border": null,
       "bottom": null,
       "display": null,
       "flex": null,
       "flex_flow": null,
       "grid_area": null,
       "grid_auto_columns": null,
       "grid_auto_flow": null,
       "grid_auto_rows": null,
       "grid_column": null,
       "grid_gap": null,
       "grid_row": null,
       "grid_template_areas": null,
       "grid_template_columns": null,
       "grid_template_rows": null,
       "height": null,
       "justify_content": null,
       "justify_items": null,
       "left": null,
       "margin": null,
       "max_height": null,
       "max_width": null,
       "min_height": null,
       "min_width": null,
       "object_fit": null,
       "object_position": null,
       "order": null,
       "overflow": null,
       "overflow_x": null,
       "overflow_y": null,
       "padding": null,
       "right": null,
       "top": null,
       "visibility": null,
       "width": null
      }
     },
     "6263d41ef48c4a2487b4f0367e1afd6d": {
      "model_module": "@jupyter-widgets/base",
      "model_module_version": "1.2.0",
      "model_name": "LayoutModel",
      "state": {
       "_model_module": "@jupyter-widgets/base",
       "_model_module_version": "1.2.0",
       "_model_name": "LayoutModel",
       "_view_count": null,
       "_view_module": "@jupyter-widgets/base",
       "_view_module_version": "1.2.0",
       "_view_name": "LayoutView",
       "align_content": null,
       "align_items": null,
       "align_self": null,
       "border": null,
       "bottom": null,
       "display": null,
       "flex": null,
       "flex_flow": null,
       "grid_area": null,
       "grid_auto_columns": null,
       "grid_auto_flow": null,
       "grid_auto_rows": null,
       "grid_column": null,
       "grid_gap": null,
       "grid_row": null,
       "grid_template_areas": null,
       "grid_template_columns": null,
       "grid_template_rows": null,
       "height": null,
       "justify_content": null,
       "justify_items": null,
       "left": null,
       "margin": null,
       "max_height": null,
       "max_width": null,
       "min_height": null,
       "min_width": null,
       "object_fit": null,
       "object_position": null,
       "order": null,
       "overflow": null,
       "overflow_x": null,
       "overflow_y": null,
       "padding": null,
       "right": null,
       "top": null,
       "visibility": null,
       "width": null
      }
     },
     "66e204410792423a92fc1ec4583a915a": {
      "model_module": "@jupyter-widgets/base",
      "model_module_version": "1.2.0",
      "model_name": "LayoutModel",
      "state": {
       "_model_module": "@jupyter-widgets/base",
       "_model_module_version": "1.2.0",
       "_model_name": "LayoutModel",
       "_view_count": null,
       "_view_module": "@jupyter-widgets/base",
       "_view_module_version": "1.2.0",
       "_view_name": "LayoutView",
       "align_content": null,
       "align_items": null,
       "align_self": null,
       "border": null,
       "bottom": null,
       "display": null,
       "flex": null,
       "flex_flow": null,
       "grid_area": null,
       "grid_auto_columns": null,
       "grid_auto_flow": null,
       "grid_auto_rows": null,
       "grid_column": null,
       "grid_gap": null,
       "grid_row": null,
       "grid_template_areas": null,
       "grid_template_columns": null,
       "grid_template_rows": null,
       "height": null,
       "justify_content": null,
       "justify_items": null,
       "left": null,
       "margin": null,
       "max_height": null,
       "max_width": null,
       "min_height": null,
       "min_width": null,
       "object_fit": null,
       "object_position": null,
       "order": null,
       "overflow": null,
       "overflow_x": null,
       "overflow_y": null,
       "padding": null,
       "right": null,
       "top": null,
       "visibility": null,
       "width": null
      }
     },
     "66ff8fefa58e4057a92ab123d2837f1f": {
      "model_module": "@jupyter-widgets/controls",
      "model_module_version": "1.5.0",
      "model_name": "HBoxModel",
      "state": {
       "_dom_classes": [],
       "_model_module": "@jupyter-widgets/controls",
       "_model_module_version": "1.5.0",
       "_model_name": "HBoxModel",
       "_view_count": null,
       "_view_module": "@jupyter-widgets/controls",
       "_view_module_version": "1.5.0",
       "_view_name": "HBoxView",
       "box_style": "",
       "children": [
        "IPY_MODEL_9dcd15f409db4cc3bcabf0df193a53d6",
        "IPY_MODEL_89ee7b3c024f4b6c80e55e90c9344226",
        "IPY_MODEL_883addddc57f459d9d1d81df1ff00845"
       ],
       "layout": "IPY_MODEL_134f3432f53b4696903d6a86f51cfc40"
      }
     },
     "6a02ee78c90c47a982eb046997fe942b": {
      "model_module": "@jupyter-widgets/base",
      "model_module_version": "1.2.0",
      "model_name": "LayoutModel",
      "state": {
       "_model_module": "@jupyter-widgets/base",
       "_model_module_version": "1.2.0",
       "_model_name": "LayoutModel",
       "_view_count": null,
       "_view_module": "@jupyter-widgets/base",
       "_view_module_version": "1.2.0",
       "_view_name": "LayoutView",
       "align_content": null,
       "align_items": null,
       "align_self": null,
       "border": null,
       "bottom": null,
       "display": null,
       "flex": null,
       "flex_flow": null,
       "grid_area": null,
       "grid_auto_columns": null,
       "grid_auto_flow": null,
       "grid_auto_rows": null,
       "grid_column": null,
       "grid_gap": null,
       "grid_row": null,
       "grid_template_areas": null,
       "grid_template_columns": null,
       "grid_template_rows": null,
       "height": null,
       "justify_content": null,
       "justify_items": null,
       "left": null,
       "margin": null,
       "max_height": null,
       "max_width": null,
       "min_height": null,
       "min_width": null,
       "object_fit": null,
       "object_position": null,
       "order": null,
       "overflow": null,
       "overflow_x": null,
       "overflow_y": null,
       "padding": null,
       "right": null,
       "top": null,
       "visibility": null,
       "width": null
      }
     },
     "6b4f00ab2fb54906afa67f0ff7d1e2fd": {
      "model_module": "@jupyter-widgets/base",
      "model_module_version": "1.2.0",
      "model_name": "LayoutModel",
      "state": {
       "_model_module": "@jupyter-widgets/base",
       "_model_module_version": "1.2.0",
       "_model_name": "LayoutModel",
       "_view_count": null,
       "_view_module": "@jupyter-widgets/base",
       "_view_module_version": "1.2.0",
       "_view_name": "LayoutView",
       "align_content": null,
       "align_items": null,
       "align_self": null,
       "border": null,
       "bottom": null,
       "display": null,
       "flex": null,
       "flex_flow": null,
       "grid_area": null,
       "grid_auto_columns": null,
       "grid_auto_flow": null,
       "grid_auto_rows": null,
       "grid_column": null,
       "grid_gap": null,
       "grid_row": null,
       "grid_template_areas": null,
       "grid_template_columns": null,
       "grid_template_rows": null,
       "height": null,
       "justify_content": null,
       "justify_items": null,
       "left": null,
       "margin": null,
       "max_height": null,
       "max_width": null,
       "min_height": null,
       "min_width": null,
       "object_fit": null,
       "object_position": null,
       "order": null,
       "overflow": null,
       "overflow_x": null,
       "overflow_y": null,
       "padding": null,
       "right": null,
       "top": null,
       "visibility": null,
       "width": null
      }
     },
     "7e6dac73f28a426b82bbd63ca5b3da5c": {
      "model_module": "@jupyter-widgets/controls",
      "model_module_version": "1.5.0",
      "model_name": "DescriptionStyleModel",
      "state": {
       "_model_module": "@jupyter-widgets/controls",
       "_model_module_version": "1.5.0",
       "_model_name": "DescriptionStyleModel",
       "_view_count": null,
       "_view_module": "@jupyter-widgets/base",
       "_view_module_version": "1.2.0",
       "_view_name": "StyleView",
       "description_width": ""
      }
     },
     "82e4fe70ef374770a1b6808a94b8946d": {
      "model_module": "@jupyter-widgets/controls",
      "model_module_version": "1.5.0",
      "model_name": "HTMLModel",
      "state": {
       "_dom_classes": [],
       "_model_module": "@jupyter-widgets/controls",
       "_model_module_version": "1.5.0",
       "_model_name": "HTMLModel",
       "_view_count": null,
       "_view_module": "@jupyter-widgets/controls",
       "_view_module_version": "1.5.0",
       "_view_name": "HTMLView",
       "description": "",
       "description_tooltip": null,
       "layout": "IPY_MODEL_6b4f00ab2fb54906afa67f0ff7d1e2fd",
       "placeholder": "​",
       "style": "IPY_MODEL_9cc222d254af43c2b7b426b1fd088507",
       "value": " 1/1 [00:00&lt;00:00,  3.65it/s]"
      }
     },
     "883addddc57f459d9d1d81df1ff00845": {
      "model_module": "@jupyter-widgets/controls",
      "model_module_version": "1.5.0",
      "model_name": "HTMLModel",
      "state": {
       "_dom_classes": [],
       "_model_module": "@jupyter-widgets/controls",
       "_model_module_version": "1.5.0",
       "_model_name": "HTMLModel",
       "_view_count": null,
       "_view_module": "@jupyter-widgets/controls",
       "_view_module_version": "1.5.0",
       "_view_name": "HTMLView",
       "description": "",
       "description_tooltip": null,
       "layout": "IPY_MODEL_dd8ff801eb8a488c84a294c54ed1879f",
       "placeholder": "​",
       "style": "IPY_MODEL_1e0789097fee43b5b74a2561f1034dcc",
       "value": " 11/11 [00:00&lt;00:00, 24.11it/s]"
      }
     },
     "89ee7b3c024f4b6c80e55e90c9344226": {
      "model_module": "@jupyter-widgets/controls",
      "model_module_version": "1.5.0",
      "model_name": "FloatProgressModel",
      "state": {
       "_dom_classes": [],
       "_model_module": "@jupyter-widgets/controls",
       "_model_module_version": "1.5.0",
       "_model_name": "FloatProgressModel",
       "_view_count": null,
       "_view_module": "@jupyter-widgets/controls",
       "_view_module_version": "1.5.0",
       "_view_name": "ProgressView",
       "bar_style": "success",
       "description": "",
       "description_tooltip": null,
       "layout": "IPY_MODEL_ec37587d7106471daef51abbead63865",
       "max": 11.0,
       "min": 0.0,
       "orientation": "horizontal",
       "style": "IPY_MODEL_e5bd4deda0c94495a802d6b003aa5334",
       "value": 11.0
      }
     },
     "8d950f5ef94a4cd18a1c2c58bd71e7f9": {
      "model_module": "@jupyter-widgets/controls",
      "model_module_version": "1.5.0",
      "model_name": "FloatProgressModel",
      "state": {
       "_dom_classes": [],
       "_model_module": "@jupyter-widgets/controls",
       "_model_module_version": "1.5.0",
       "_model_name": "FloatProgressModel",
       "_view_count": null,
       "_view_module": "@jupyter-widgets/controls",
       "_view_module_version": "1.5.0",
       "_view_name": "ProgressView",
       "bar_style": "success",
       "description": "",
       "description_tooltip": null,
       "layout": "IPY_MODEL_a07f93c4999247d9863a6fa8a2a6832e",
       "max": 1.0,
       "min": 0.0,
       "orientation": "horizontal",
       "style": "IPY_MODEL_c286e9c6c333474bb7ed0c70f3a24a6f",
       "value": 1.0
      }
     },
     "9cc222d254af43c2b7b426b1fd088507": {
      "model_module": "@jupyter-widgets/controls",
      "model_module_version": "1.5.0",
      "model_name": "DescriptionStyleModel",
      "state": {
       "_model_module": "@jupyter-widgets/controls",
       "_model_module_version": "1.5.0",
       "_model_name": "DescriptionStyleModel",
       "_view_count": null,
       "_view_module": "@jupyter-widgets/base",
       "_view_module_version": "1.2.0",
       "_view_name": "StyleView",
       "description_width": ""
      }
     },
     "9dcd15f409db4cc3bcabf0df193a53d6": {
      "model_module": "@jupyter-widgets/controls",
      "model_module_version": "1.5.0",
      "model_name": "HTMLModel",
      "state": {
       "_dom_classes": [],
       "_model_module": "@jupyter-widgets/controls",
       "_model_module_version": "1.5.0",
       "_model_name": "HTMLModel",
       "_view_count": null,
       "_view_module": "@jupyter-widgets/controls",
       "_view_module_version": "1.5.0",
       "_view_name": "HTMLView",
       "description": "",
       "description_tooltip": null,
       "layout": "IPY_MODEL_6a02ee78c90c47a982eb046997fe942b",
       "placeholder": "​",
       "style": "IPY_MODEL_9e40f798cd3541b3a5d1ce6529faca2f",
       "value": "Downloading artifacts: 100%"
      }
     },
     "9e40f798cd3541b3a5d1ce6529faca2f": {
      "model_module": "@jupyter-widgets/controls",
      "model_module_version": "1.5.0",
      "model_name": "DescriptionStyleModel",
      "state": {
       "_model_module": "@jupyter-widgets/controls",
       "_model_module_version": "1.5.0",
       "_model_name": "DescriptionStyleModel",
       "_view_count": null,
       "_view_module": "@jupyter-widgets/base",
       "_view_module_version": "1.2.0",
       "_view_name": "StyleView",
       "description_width": ""
      }
     },
     "a07f93c4999247d9863a6fa8a2a6832e": {
      "model_module": "@jupyter-widgets/base",
      "model_module_version": "1.2.0",
      "model_name": "LayoutModel",
      "state": {
       "_model_module": "@jupyter-widgets/base",
       "_model_module_version": "1.2.0",
       "_model_name": "LayoutModel",
       "_view_count": null,
       "_view_module": "@jupyter-widgets/base",
       "_view_module_version": "1.2.0",
       "_view_name": "LayoutView",
       "align_content": null,
       "align_items": null,
       "align_self": null,
       "border": null,
       "bottom": null,
       "display": null,
       "flex": null,
       "flex_flow": null,
       "grid_area": null,
       "grid_auto_columns": null,
       "grid_auto_flow": null,
       "grid_auto_rows": null,
       "grid_column": null,
       "grid_gap": null,
       "grid_row": null,
       "grid_template_areas": null,
       "grid_template_columns": null,
       "grid_template_rows": null,
       "height": null,
       "justify_content": null,
       "justify_items": null,
       "left": null,
       "margin": null,
       "max_height": null,
       "max_width": null,
       "min_height": null,
       "min_width": null,
       "object_fit": null,
       "object_position": null,
       "order": null,
       "overflow": null,
       "overflow_x": null,
       "overflow_y": null,
       "padding": null,
       "right": null,
       "top": null,
       "visibility": null,
       "width": null
      }
     },
     "ae012c6cf1a24c1b830fec5a3920ecd8": {
      "model_module": "@jupyter-widgets/base",
      "model_module_version": "1.2.0",
      "model_name": "LayoutModel",
      "state": {
       "_model_module": "@jupyter-widgets/base",
       "_model_module_version": "1.2.0",
       "_model_name": "LayoutModel",
       "_view_count": null,
       "_view_module": "@jupyter-widgets/base",
       "_view_module_version": "1.2.0",
       "_view_name": "LayoutView",
       "align_content": null,
       "align_items": null,
       "align_self": null,
       "border": null,
       "bottom": null,
       "display": null,
       "flex": null,
       "flex_flow": null,
       "grid_area": null,
       "grid_auto_columns": null,
       "grid_auto_flow": null,
       "grid_auto_rows": null,
       "grid_column": null,
       "grid_gap": null,
       "grid_row": null,
       "grid_template_areas": null,
       "grid_template_columns": null,
       "grid_template_rows": null,
       "height": null,
       "justify_content": null,
       "justify_items": null,
       "left": null,
       "margin": null,
       "max_height": null,
       "max_width": null,
       "min_height": null,
       "min_width": null,
       "object_fit": null,
       "object_position": null,
       "order": null,
       "overflow": null,
       "overflow_x": null,
       "overflow_y": null,
       "padding": null,
       "right": null,
       "top": null,
       "visibility": null,
       "width": null
      }
     },
     "b195d5ce77ed4438832f1182f46551b5": {
      "model_module": "@jupyter-widgets/controls",
      "model_module_version": "1.5.0",
      "model_name": "FloatProgressModel",
      "state": {
       "_dom_classes": [],
       "_model_module": "@jupyter-widgets/controls",
       "_model_module_version": "1.5.0",
       "_model_name": "FloatProgressModel",
       "_view_count": null,
       "_view_module": "@jupyter-widgets/controls",
       "_view_module_version": "1.5.0",
       "_view_name": "ProgressView",
       "bar_style": "success",
       "description": "",
       "description_tooltip": null,
       "layout": "IPY_MODEL_03baf26355aa498c9af1fad850568f15",
       "max": 1.0,
       "min": 0.0,
       "orientation": "horizontal",
       "style": "IPY_MODEL_bb306aa7743f408ea1eb9f197bc7fc6e",
       "value": 1.0
      }
     },
     "b5b7ddf136354226a12c5c204069230c": {
      "model_module": "@jupyter-widgets/controls",
      "model_module_version": "1.5.0",
      "model_name": "DescriptionStyleModel",
      "state": {
       "_model_module": "@jupyter-widgets/controls",
       "_model_module_version": "1.5.0",
       "_model_name": "DescriptionStyleModel",
       "_view_count": null,
       "_view_module": "@jupyter-widgets/base",
       "_view_module_version": "1.2.0",
       "_view_name": "StyleView",
       "description_width": ""
      }
     },
     "b6d9c142d9ee43c8a59eb0b40488b294": {
      "model_module": "@jupyter-widgets/controls",
      "model_module_version": "1.5.0",
      "model_name": "DescriptionStyleModel",
      "state": {
       "_model_module": "@jupyter-widgets/controls",
       "_model_module_version": "1.5.0",
       "_model_name": "DescriptionStyleModel",
       "_view_count": null,
       "_view_module": "@jupyter-widgets/base",
       "_view_module_version": "1.2.0",
       "_view_name": "StyleView",
       "description_width": ""
      }
     },
     "b8d47c6391f249f3a0d9cef0bd454343": {
      "model_module": "@jupyter-widgets/controls",
      "model_module_version": "1.5.0",
      "model_name": "DescriptionStyleModel",
      "state": {
       "_model_module": "@jupyter-widgets/controls",
       "_model_module_version": "1.5.0",
       "_model_name": "DescriptionStyleModel",
       "_view_count": null,
       "_view_module": "@jupyter-widgets/base",
       "_view_module_version": "1.2.0",
       "_view_name": "StyleView",
       "description_width": ""
      }
     },
     "bb306aa7743f408ea1eb9f197bc7fc6e": {
      "model_module": "@jupyter-widgets/controls",
      "model_module_version": "1.5.0",
      "model_name": "ProgressStyleModel",
      "state": {
       "_model_module": "@jupyter-widgets/controls",
       "_model_module_version": "1.5.0",
       "_model_name": "ProgressStyleModel",
       "_view_count": null,
       "_view_module": "@jupyter-widgets/base",
       "_view_module_version": "1.2.0",
       "_view_name": "StyleView",
       "bar_color": null,
       "description_width": ""
      }
     },
     "c286e9c6c333474bb7ed0c70f3a24a6f": {
      "model_module": "@jupyter-widgets/controls",
      "model_module_version": "1.5.0",
      "model_name": "ProgressStyleModel",
      "state": {
       "_model_module": "@jupyter-widgets/controls",
       "_model_module_version": "1.5.0",
       "_model_name": "ProgressStyleModel",
       "_view_count": null,
       "_view_module": "@jupyter-widgets/base",
       "_view_module_version": "1.2.0",
       "_view_name": "StyleView",
       "bar_color": null,
       "description_width": ""
      }
     },
     "c2a26ef69c644b9fa1b59851d2a35f88": {
      "model_module": "@jupyter-widgets/controls",
      "model_module_version": "1.5.0",
      "model_name": "DescriptionStyleModel",
      "state": {
       "_model_module": "@jupyter-widgets/controls",
       "_model_module_version": "1.5.0",
       "_model_name": "DescriptionStyleModel",
       "_view_count": null,
       "_view_module": "@jupyter-widgets/base",
       "_view_module_version": "1.2.0",
       "_view_name": "StyleView",
       "description_width": ""
      }
     },
     "c38bb0a62b294aab82ff3c4bdf686dc6": {
      "model_module": "@jupyter-widgets/controls",
      "model_module_version": "1.5.0",
      "model_name": "FloatProgressModel",
      "state": {
       "_dom_classes": [],
       "_model_module": "@jupyter-widgets/controls",
       "_model_module_version": "1.5.0",
       "_model_name": "FloatProgressModel",
       "_view_count": null,
       "_view_module": "@jupyter-widgets/controls",
       "_view_module_version": "1.5.0",
       "_view_name": "ProgressView",
       "bar_style": "success",
       "description": "",
       "description_tooltip": null,
       "layout": "IPY_MODEL_3c1868c4ecfe47c2875cfddb517ade4c",
       "max": 11.0,
       "min": 0.0,
       "orientation": "horizontal",
       "style": "IPY_MODEL_27a477c060854c9bbaf4449834ca6759",
       "value": 11.0
      }
     },
     "d80f822408a34f2ba92c574c392cef60": {
      "model_module": "@jupyter-widgets/base",
      "model_module_version": "1.2.0",
      "model_name": "LayoutModel",
      "state": {
       "_model_module": "@jupyter-widgets/base",
       "_model_module_version": "1.2.0",
       "_model_name": "LayoutModel",
       "_view_count": null,
       "_view_module": "@jupyter-widgets/base",
       "_view_module_version": "1.2.0",
       "_view_name": "LayoutView",
       "align_content": null,
       "align_items": null,
       "align_self": null,
       "border": null,
       "bottom": null,
       "display": null,
       "flex": null,
       "flex_flow": null,
       "grid_area": null,
       "grid_auto_columns": null,
       "grid_auto_flow": null,
       "grid_auto_rows": null,
       "grid_column": null,
       "grid_gap": null,
       "grid_row": null,
       "grid_template_areas": null,
       "grid_template_columns": null,
       "grid_template_rows": null,
       "height": null,
       "justify_content": null,
       "justify_items": null,
       "left": null,
       "margin": null,
       "max_height": null,
       "max_width": null,
       "min_height": null,
       "min_width": null,
       "object_fit": null,
       "object_position": null,
       "order": null,
       "overflow": null,
       "overflow_x": null,
       "overflow_y": null,
       "padding": null,
       "right": null,
       "top": null,
       "visibility": null,
       "width": null
      }
     },
     "d8809ad542c24d46bae8c442ad0f9f30": {
      "model_module": "@jupyter-widgets/controls",
      "model_module_version": "1.5.0",
      "model_name": "DescriptionStyleModel",
      "state": {
       "_model_module": "@jupyter-widgets/controls",
       "_model_module_version": "1.5.0",
       "_model_name": "DescriptionStyleModel",
       "_view_count": null,
       "_view_module": "@jupyter-widgets/base",
       "_view_module_version": "1.2.0",
       "_view_name": "StyleView",
       "description_width": ""
      }
     },
     "dd8ff801eb8a488c84a294c54ed1879f": {
      "model_module": "@jupyter-widgets/base",
      "model_module_version": "1.2.0",
      "model_name": "LayoutModel",
      "state": {
       "_model_module": "@jupyter-widgets/base",
       "_model_module_version": "1.2.0",
       "_model_name": "LayoutModel",
       "_view_count": null,
       "_view_module": "@jupyter-widgets/base",
       "_view_module_version": "1.2.0",
       "_view_name": "LayoutView",
       "align_content": null,
       "align_items": null,
       "align_self": null,
       "border": null,
       "bottom": null,
       "display": null,
       "flex": null,
       "flex_flow": null,
       "grid_area": null,
       "grid_auto_columns": null,
       "grid_auto_flow": null,
       "grid_auto_rows": null,
       "grid_column": null,
       "grid_gap": null,
       "grid_row": null,
       "grid_template_areas": null,
       "grid_template_columns": null,
       "grid_template_rows": null,
       "height": null,
       "justify_content": null,
       "justify_items": null,
       "left": null,
       "margin": null,
       "max_height": null,
       "max_width": null,
       "min_height": null,
       "min_width": null,
       "object_fit": null,
       "object_position": null,
       "order": null,
       "overflow": null,
       "overflow_x": null,
       "overflow_y": null,
       "padding": null,
       "right": null,
       "top": null,
       "visibility": null,
       "width": null
      }
     },
     "e1348b06b154437ea6a3de27d1f4cc25": {
      "model_module": "@jupyter-widgets/base",
      "model_module_version": "1.2.0",
      "model_name": "LayoutModel",
      "state": {
       "_model_module": "@jupyter-widgets/base",
       "_model_module_version": "1.2.0",
       "_model_name": "LayoutModel",
       "_view_count": null,
       "_view_module": "@jupyter-widgets/base",
       "_view_module_version": "1.2.0",
       "_view_name": "LayoutView",
       "align_content": null,
       "align_items": null,
       "align_self": null,
       "border": null,
       "bottom": null,
       "display": null,
       "flex": null,
       "flex_flow": null,
       "grid_area": null,
       "grid_auto_columns": null,
       "grid_auto_flow": null,
       "grid_auto_rows": null,
       "grid_column": null,
       "grid_gap": null,
       "grid_row": null,
       "grid_template_areas": null,
       "grid_template_columns": null,
       "grid_template_rows": null,
       "height": null,
       "justify_content": null,
       "justify_items": null,
       "left": null,
       "margin": null,
       "max_height": null,
       "max_width": null,
       "min_height": null,
       "min_width": null,
       "object_fit": null,
       "object_position": null,
       "order": null,
       "overflow": null,
       "overflow_x": null,
       "overflow_y": null,
       "padding": null,
       "right": null,
       "top": null,
       "visibility": null,
       "width": null
      }
     },
     "e5bd4deda0c94495a802d6b003aa5334": {
      "model_module": "@jupyter-widgets/controls",
      "model_module_version": "1.5.0",
      "model_name": "ProgressStyleModel",
      "state": {
       "_model_module": "@jupyter-widgets/controls",
       "_model_module_version": "1.5.0",
       "_model_name": "ProgressStyleModel",
       "_view_count": null,
       "_view_module": "@jupyter-widgets/base",
       "_view_module_version": "1.2.0",
       "_view_name": "StyleView",
       "bar_color": null,
       "description_width": ""
      }
     },
     "e9e1c684dec84bee8a3a4f617a168a34": {
      "model_module": "@jupyter-widgets/base",
      "model_module_version": "1.2.0",
      "model_name": "LayoutModel",
      "state": {
       "_model_module": "@jupyter-widgets/base",
       "_model_module_version": "1.2.0",
       "_model_name": "LayoutModel",
       "_view_count": null,
       "_view_module": "@jupyter-widgets/base",
       "_view_module_version": "1.2.0",
       "_view_name": "LayoutView",
       "align_content": null,
       "align_items": null,
       "align_self": null,
       "border": null,
       "bottom": null,
       "display": null,
       "flex": null,
       "flex_flow": null,
       "grid_area": null,
       "grid_auto_columns": null,
       "grid_auto_flow": null,
       "grid_auto_rows": null,
       "grid_column": null,
       "grid_gap": null,
       "grid_row": null,
       "grid_template_areas": null,
       "grid_template_columns": null,
       "grid_template_rows": null,
       "height": null,
       "justify_content": null,
       "justify_items": null,
       "left": null,
       "margin": null,
       "max_height": null,
       "max_width": null,
       "min_height": null,
       "min_width": null,
       "object_fit": null,
       "object_position": null,
       "order": null,
       "overflow": null,
       "overflow_x": null,
       "overflow_y": null,
       "padding": null,
       "right": null,
       "top": null,
       "visibility": null,
       "width": null
      }
     },
     "ec37587d7106471daef51abbead63865": {
      "model_module": "@jupyter-widgets/base",
      "model_module_version": "1.2.0",
      "model_name": "LayoutModel",
      "state": {
       "_model_module": "@jupyter-widgets/base",
       "_model_module_version": "1.2.0",
       "_model_name": "LayoutModel",
       "_view_count": null,
       "_view_module": "@jupyter-widgets/base",
       "_view_module_version": "1.2.0",
       "_view_name": "LayoutView",
       "align_content": null,
       "align_items": null,
       "align_self": null,
       "border": null,
       "bottom": null,
       "display": null,
       "flex": null,
       "flex_flow": null,
       "grid_area": null,
       "grid_auto_columns": null,
       "grid_auto_flow": null,
       "grid_auto_rows": null,
       "grid_column": null,
       "grid_gap": null,
       "grid_row": null,
       "grid_template_areas": null,
       "grid_template_columns": null,
       "grid_template_rows": null,
       "height": null,
       "justify_content": null,
       "justify_items": null,
       "left": null,
       "margin": null,
       "max_height": null,
       "max_width": null,
       "min_height": null,
       "min_width": null,
       "object_fit": null,
       "object_position": null,
       "order": null,
       "overflow": null,
       "overflow_x": null,
       "overflow_y": null,
       "padding": null,
       "right": null,
       "top": null,
       "visibility": null,
       "width": null
      }
     },
     "f900dca063c74274b90550547e0fa734": {
      "model_module": "@jupyter-widgets/controls",
      "model_module_version": "1.5.0",
      "model_name": "HTMLModel",
      "state": {
       "_dom_classes": [],
       "_model_module": "@jupyter-widgets/controls",
       "_model_module_version": "1.5.0",
       "_model_name": "HTMLModel",
       "_view_count": null,
       "_view_module": "@jupyter-widgets/controls",
       "_view_module_version": "1.5.0",
       "_view_name": "HTMLView",
       "description": "",
       "description_tooltip": null,
       "layout": "IPY_MODEL_d80f822408a34f2ba92c574c392cef60",
       "placeholder": "​",
       "style": "IPY_MODEL_c2a26ef69c644b9fa1b59851d2a35f88",
       "value": " 11/11 [00:00&lt;00:00,  7.19it/s]"
      }
     },
     "fb5fefec8f0f405fbee8b3ecc0b16ce0": {
      "model_module": "@jupyter-widgets/controls",
      "model_module_version": "1.5.0",
      "model_name": "HBoxModel",
      "state": {
       "_dom_classes": [],
       "_model_module": "@jupyter-widgets/controls",
       "_model_module_version": "1.5.0",
       "_model_name": "HBoxModel",
       "_view_count": null,
       "_view_module": "@jupyter-widgets/controls",
       "_view_module_version": "1.5.0",
       "_view_name": "HBoxView",
       "box_style": "",
       "children": [
        "IPY_MODEL_2e06ebc96d824b93a8b11f1eb5d86255",
        "IPY_MODEL_20c0ac3833aa45f3b9b1876ee1deccdf",
        "IPY_MODEL_82e4fe70ef374770a1b6808a94b8946d"
       ],
       "layout": "IPY_MODEL_e9e1c684dec84bee8a3a4f617a168a34"
      }
     }
    },
    "version_major": 2,
    "version_minor": 0
   }
  }
 },
 "nbformat": 4,
 "nbformat_minor": 0
}