{
 "cells": [
  {
   "cell_type": "markdown",
   "metadata": {
    "application/vnd.databricks.v1+cell": {
     "cellMetadata": {},
     "inputWidgets": {},
     "nuid": "6691065f-deda-41f4-a3ff-73b556a4f163",
     "showTitle": false,
     "tableResultSettingsMap": {},
     "title": ""
    }
   },
   "source": [
    "# Loading the registered model"
   ]
  },
  {
   "cell_type": "code",
   "execution_count": 0,
   "metadata": {
    "application/vnd.databricks.v1+cell": {
     "cellMetadata": {
      "byteLimit": 2048000,
      "rowLimit": 10000
     },
     "inputWidgets": {},
     "nuid": "cd6c9f4a-dbe8-4b06-b1f8-1f20854d0b4f",
     "showTitle": false,
     "tableResultSettingsMap": {},
     "title": ""
    }
   },
   "outputs": [],
   "source": [
    "model_name = \"views_model_data_final_views-2024_12_03_v9_LightGBMRegressor\""
   ]
  },
  {
   "cell_type": "code",
   "execution_count": 0,
   "metadata": {
    "application/vnd.databricks.v1+cell": {
     "cellMetadata": {
      "byteLimit": 2048000,
      "rowLimit": 10000
     },
     "inputWidgets": {},
     "nuid": "eb93e4e5-eee4-42a2-ab6c-7a4ed36b474c",
     "showTitle": false,
     "tableResultSettingsMap": {},
     "title": ""
    }
   },
   "outputs": [],
   "source": [
    "from mlflow.store.artifact.models_artifact_repo import ModelsArtifactRepository\n",
    "import os\n",
    "\n",
    "model_uri = f\"models:/{model_name}/Staging\"\n",
    "local_path = ModelsArtifactRepository(model_uri).download_artifacts(\"\") # download model from remote registry\n",
    "\n",
    "requirements_path = os.path.join(local_path, \"requirements.txt\")\n",
    "if not os.path.exists(requirements_path):\n",
    "  dbutils.fs.put(\"file:\" + requirements_path, \"\", True)"
   ]
  },
  {
   "cell_type": "code",
   "execution_count": 0,
   "metadata": {
    "application/vnd.databricks.v1+cell": {
     "cellMetadata": {
      "byteLimit": 2048000,
      "rowLimit": 10000
     },
     "inputWidgets": {},
     "nuid": "ce99292c-e896-4307-a89e-f54e011e24ed",
     "showTitle": false,
     "tableResultSettingsMap": {},
     "title": ""
    }
   },
   "outputs": [],
   "source": [
    "%pip install -r $requirements_path"
   ]
  },
  {
   "cell_type": "markdown",
   "metadata": {
    "application/vnd.databricks.v1+cell": {
     "cellMetadata": {},
     "inputWidgets": {},
     "nuid": "786dd181-1b15-449a-a434-4cd6c2ce7517",
     "showTitle": false,
     "tableResultSettingsMap": {},
     "title": ""
    }
   },
   "source": [
    "## Defining input and output\n"
   ]
  },
  {
   "cell_type": "code",
   "execution_count": 0,
   "metadata": {
    "application/vnd.databricks.v1+cell": {
     "cellMetadata": {
      "byteLimit": 2048000,
      "rowLimit": 10000
     },
     "inputWidgets": {},
     "nuid": "63c22e19-6d57-469b-ade9-2760082571c4",
     "showTitle": false,
     "tableResultSettingsMap": {},
     "title": ""
    }
   },
   "outputs": [],
   "source": [
    "# redefining key variables here because %pip and %conda restarts the Python interpreter\n",
    "model_name = \"views_model_data_final_views-2024_12_03_v9_LightGBMRegressor\"\n",
    "input_table_name = \"default.sampled_postings\"\n",
    "output_table_path = \"/FileStore/batch-inference/views_model_data_final_views-2024_12_03_v9_LightGBMRegressor\""
   ]
  },
  {
   "cell_type": "code",
   "execution_count": 0,
   "metadata": {
    "application/vnd.databricks.v1+cell": {
     "cellMetadata": {
      "byteLimit": 2048000,
      "rowLimit": 10000
     },
     "inputWidgets": {},
     "nuid": "96a15bf3-47cf-42c3-9806-a5be552b485a",
     "showTitle": false,
     "tableResultSettingsMap": {},
     "title": ""
    }
   },
   "outputs": [],
   "source": [
    "# load table as a Spark DataFrame\n",
    "training_data = spark.sql(\"SELECT * FROM model_testing_data\")\n",
    "test_data = spark.sql(\"SELECT * FROM deployment_testing_data\")\n"
   ]
  },
  {
   "cell_type": "markdown",
   "metadata": {
    "application/vnd.databricks.v1+cell": {
     "cellMetadata": {},
     "inputWidgets": {},
     "nuid": "dad9a470-3f5d-4daf-8c22-4343f58a07bd",
     "showTitle": false,
     "tableResultSettingsMap": {},
     "title": ""
    }
   },
   "source": [
    "\n",
    "## Loading model and running inference\n"
   ]
  },
  {
   "cell_type": "code",
   "execution_count": 0,
   "metadata": {
    "application/vnd.databricks.v1+cell": {
     "cellMetadata": {
      "byteLimit": 2048000,
      "rowLimit": 10000
     },
     "inputWidgets": {},
     "nuid": "fc851dc4-5c46-4bd6-970f-aa749bbde41e",
     "showTitle": false,
     "tableResultSettingsMap": {},
     "title": ""
    }
   },
   "outputs": [],
   "source": [
    "import mlflow\n",
    "from pyspark.sql.functions import struct\n",
    "\n",
    "model_uri = f\"models:/{model_name}/Staging\"\n",
    "\n",
    "# create spark user-defined function for model prediction\n",
    "predict = mlflow.pyfunc.spark_udf(spark, model_uri, result_type=\"double\")"
   ]
  },
  {
   "cell_type": "code",
   "execution_count": 0,
   "metadata": {
    "application/vnd.databricks.v1+cell": {
     "cellMetadata": {
      "byteLimit": 2048000,
      "rowLimit": 10000
     },
     "inputWidgets": {},
     "nuid": "407e00c4-3600-485e-baf1-7a2c8ccfcfbf",
     "showTitle": false,
     "tableResultSettingsMap": {},
     "title": ""
    }
   },
   "outputs": [],
   "source": [
    "test_data = test_data.withColumn(\"prediction\", predict(struct(*test_data.columns)))\n",
    "training_data = training_data.withColumn(\"prediction\", predict(struct(*training_data.columns)))"
   ]
  },
  {
   "cell_type": "code",
   "execution_count": 0,
   "metadata": {
    "application/vnd.databricks.v1+cell": {
     "cellMetadata": {
      "byteLimit": 2048000,
      "rowLimit": 10000
     },
     "inputWidgets": {},
     "nuid": "8703471f-203f-458a-83ca-aa2af55c2db4",
     "showTitle": false,
     "tableResultSettingsMap": {},
     "title": ""
    }
   },
   "outputs": [],
   "source": [
    "from pyspark.sql.functions import sqrt, mean, col, abs\n",
    "# Calculate the RMSE\n",
    "rmse = test_data.select(sqrt(mean((col(\"views\") - col(\"prediction\"))**2)).alias(\"rmse\")).collect()[0][\"rmse\"]\n",
    "\n",
    "# Calculate the MAE\n",
    "mae = test_data.select(mean(abs(col(\"views\") - col(\"prediction\"))).alias(\"mae\")).collect()[0][\"mae\"]\n",
    "\n",
    "# Print the results\n",
    "print(f\"RMSE: {rmse}\")\n",
    "print(f\"MAE: {mae}\")"
   ]
  },
  {
   "cell_type": "markdown",
   "metadata": {
    "application/vnd.databricks.v1+cell": {
     "cellMetadata": {},
     "inputWidgets": {},
     "nuid": "547f6a55-10a0-4f9d-9cb2-ff36c061447d",
     "showTitle": false,
     "tableResultSettingsMap": {},
     "title": ""
    }
   },
   "source": [
    "# Data Monitoring using Evidently"
   ]
  },
  {
   "cell_type": "code",
   "execution_count": 0,
   "metadata": {
    "application/vnd.databricks.v1+cell": {
     "cellMetadata": {
      "byteLimit": 2048000,
      "rowLimit": 10000
     },
     "inputWidgets": {},
     "nuid": "b45d9d1b-2a86-4bad-b0e3-96fab36d6f05",
     "showTitle": false,
     "tableResultSettingsMap": {},
     "title": ""
    }
   },
   "outputs": [],
   "source": [
    "%pip install git+https://github.com/evidentlyai/evidently.git"
   ]
  },
  {
   "cell_type": "code",
   "execution_count": 0,
   "metadata": {
    "application/vnd.databricks.v1+cell": {
     "cellMetadata": {
      "byteLimit": 2048000,
      "rowLimit": 10000
     },
     "inputWidgets": {},
     "nuid": "c68af02f-3866-4a10-85c3-2c60a1313cd6",
     "showTitle": false,
     "tableResultSettingsMap": {},
     "title": ""
    }
   },
   "outputs": [],
   "source": [
    "from evidently import ColumnMapping\n",
    "from evidently.report import Report\n",
    "from evidently.metric_preset import DataDriftPreset, TargetDriftPreset, RegressionPreset\n",
    "from evidently.metrics import *\n",
    "\n",
    "from evidently.test_suite import TestSuite\n",
    "from evidently.tests.base_test import generate_column_tests\n",
    "from evidently.test_preset import DataStabilityTestPreset, DataDriftTestPreset, RegressionTestPreset\n",
    "from evidently.tests import *\n",
    "\n",
    "from evidently import ColumnMapping\n",
    "from evidently.report import Report\n",
    "from evidently.metric_preset import RegressionPreset\n",
    "\n",
    "\n",
    "training_data = training_data.toPandas()\n",
    "test_data = test_data.toPandas()\n",
    "\n",
    "categorical_cols = training_data.select_dtypes(include=['object', 'category']).columns\n",
    "numerical_cols = training_data.select_dtypes(include=['float64', 'int64']).columns\n",
    "\n",
    "\n",
    "\n",
    "column_mapping = ColumnMapping()\n",
    "column_mapping.target = 'views'\n",
    "column_mapping.prediction = 'prediction'\n",
    "column_mapping.numerical_features = numerical_cols.tolist()\n",
    "column_mapping.categorical_features = categorical_cols.tolist()\n"
   ]
  },
  {
   "cell_type": "code",
   "execution_count": 0,
   "metadata": {
    "application/vnd.databricks.v1+cell": {
     "cellMetadata": {
      "byteLimit": 2048000,
      "rowLimit": 10000
     },
     "inputWidgets": {},
     "nuid": "2a925691-f6ac-4d7e-ae8f-7cdccaa1a2ff",
     "showTitle": false,
     "tableResultSettingsMap": {},
     "title": ""
    }
   },
   "outputs": [],
   "source": [
    "# Create a data drift dashboard\n",
    "drift_dashboard = Report([DataDriftPreset()])\n",
    "drift_dashboard.run(current_data = test_data, reference_data = training_data , column_mapping=column_mapping)\n",
    "drift_dashboard.show()"
   ]
  },
  {
   "cell_type": "code",
   "execution_count": 0,
   "metadata": {
    "application/vnd.databricks.v1+cell": {
     "cellMetadata": {
      "byteLimit": 2048000,
      "rowLimit": 10000
     },
     "inputWidgets": {},
     "nuid": "ce45b54d-8fe5-4b06-b847-6f36bf3da6c0",
     "showTitle": false,
     "tableResultSettingsMap": {},
     "title": ""
    }
   },
   "outputs": [],
   "source": [
    "regression_report = Report(metrics=[RegressionPreset()])\n",
    "regression_report.run(reference_data=training_data, current_data=test_data, column_mapping=column_mapping)\n",
    "regression_report.show()"
   ]
  },
  {
   "cell_type": "markdown",
   "metadata": {
    "application/vnd.databricks.v1+cell": {
     "cellMetadata": {},
     "inputWidgets": {},
     "nuid": "3c7c66dc-bae2-4cd4-8622-22c7d8095871",
     "showTitle": false,
     "tableResultSettingsMap": {},
     "title": ""
    }
   },
   "source": [
    "# 2 Variables Modified"
   ]
  },
  {
   "cell_type": "code",
   "execution_count": 0,
   "metadata": {
    "application/vnd.databricks.v1+cell": {
     "cellMetadata": {},
     "inputWidgets": {},
     "nuid": "00620ac6-aa15-4fba-a5fd-e24dea9c3002",
     "showTitle": false,
     "tableResultSettingsMap": {},
     "title": ""
    }
   },
   "outputs": [],
   "source": [
    "new_data = spark.createDataFrame(test_data)\n",
    "display(new_data)"
   ]
  },
  {
   "cell_type": "code",
   "execution_count": 0,
   "metadata": {
    "application/vnd.databricks.v1+cell": {
     "cellMetadata": {},
     "inputWidgets": {},
     "nuid": "45d9b695-e921-46f0-ab77-ba7d104185bc",
     "showTitle": false,
     "tableResultSettingsMap": {},
     "title": ""
    }
   },
   "outputs": [],
   "source": [
    "# swap two feature columns\n",
    "\n",
    "from pyspark.sql.functions import col\n",
    "\n",
    "# Swap values between \"title_length\" and \"experience_Entry_level\"\n",
    "new_data = new_data.withColumn(\"temp\", col(\"title_length\")) \\\n",
    "                   .withColumn(\"title_length\", col(\"experience_Entry_level\")) \\\n",
    "                   .withColumn(\"experience_Entry_level\", col(\"temp\")) \\\n",
    "                   .drop(\"temp\")\n",
    "\n"
   ]
  },
  {
   "cell_type": "code",
   "execution_count": 0,
   "metadata": {
    "application/vnd.databricks.v1+cell": {
     "cellMetadata": {},
     "inputWidgets": {},
     "nuid": "08cfc622-e36c-47ab-ba5e-765ec8e9f1c1",
     "showTitle": false,
     "tableResultSettingsMap": {},
     "title": ""
    }
   },
   "outputs": [],
   "source": [
    "new_data = new_data.toPandas()"
   ]
  },
  {
   "cell_type": "code",
   "execution_count": 0,
   "metadata": {
    "application/vnd.databricks.v1+cell": {
     "cellMetadata": {},
     "inputWidgets": {},
     "nuid": "51556281-1635-4a3a-bf76-2f5cbed35464",
     "showTitle": false,
     "tableResultSettingsMap": {},
     "title": ""
    }
   },
   "outputs": [],
   "source": [
    "import numpy as np\n",
    "\n",
    "# Calculate the RMSE\n",
    "rmse = np.sqrt(np.mean((new_data[\"views\"] - new_data[\"prediction\"])**2))\n",
    "\n",
    "# Calculate the MAE\n",
    "mae = np.mean(np.abs(new_data[\"views\"] - new_data[\"prediction\"]))\n",
    "\n",
    "# Print the results\n",
    "print(f\"RMSE: {rmse}\")\n",
    "print(f\"MAE: {mae}\")"
   ]
  },
  {
   "cell_type": "markdown",
   "metadata": {
    "application/vnd.databricks.v1+cell": {
     "cellMetadata": {},
     "inputWidgets": {},
     "nuid": "f8e5c5bf-d31d-422e-a4c4-1399f5f64a06",
     "showTitle": false,
     "tableResultSettingsMap": {},
     "title": ""
    }
   },
   "source": [
    "## Data Stability & Drift"
   ]
  },
  {
   "cell_type": "code",
   "execution_count": 0,
   "metadata": {
    "application/vnd.databricks.v1+cell": {
     "cellMetadata": {},
     "inputWidgets": {},
     "nuid": "ee5cfc7e-38fc-4dbf-8c34-dad7e20b16f2",
     "showTitle": false,
     "tableResultSettingsMap": {},
     "title": ""
    }
   },
   "outputs": [],
   "source": [
    "data_stability = TestSuite(tests=[DataStabilityTestPreset()])\n",
    "data_stability.run(current_data=new_data, reference_data=training_data, column_mapping=column_mapping)\n",
    "data_stability.show()"
   ]
  },
  {
   "cell_type": "code",
   "execution_count": 0,
   "metadata": {
    "application/vnd.databricks.v1+cell": {
     "cellMetadata": {},
     "inputWidgets": {},
     "nuid": "7c4e45b6-9839-403d-95ad-9065fd8b466a",
     "showTitle": false,
     "tableResultSettingsMap": {},
     "title": ""
    }
   },
   "outputs": [],
   "source": [
    "drift_dashboard = Report([DataDriftPreset()])\n",
    "drift_dashboard.run(current_data = new_data, reference_data = training_data , column_mapping=column_mapping)\n",
    "drift_dashboard.show()"
   ]
  },
  {
   "cell_type": "markdown",
   "metadata": {
    "application/vnd.databricks.v1+cell": {
     "cellMetadata": {},
     "inputWidgets": {},
     "nuid": "a85df816-a02b-4c44-8d10-caa59ffb0ae8",
     "showTitle": false,
     "tableResultSettingsMap": {},
     "title": ""
    }
   },
   "source": [
    "## Performance Drift"
   ]
  },
  {
   "cell_type": "code",
   "execution_count": 0,
   "metadata": {
    "application/vnd.databricks.v1+cell": {
     "cellMetadata": {},
     "inputWidgets": {},
     "nuid": "d58f9312-fd3c-470a-b87a-ec139d2943ce",
     "showTitle": false,
     "tableResultSettingsMap": {},
     "title": ""
    }
   },
   "outputs": [],
   "source": [
    "regression_report = Report(metrics=[RegressionPreset()])\n",
    "regression_report.run(reference_data=new_data, current_data=test_data, column_mapping=column_mapping)\n",
    "regression_report.show()"
   ]
  }
 ],
 "metadata": {
  "application/vnd.databricks.v1+notebook": {
   "dashboards": [],
   "environmentMetadata": null,
   "language": "python",
   "notebookMetadata": {
    "pythonIndentUnit": 4
   },
   "notebookName": "Inferencing Notebook",
   "widgets": {}
  },
  "language_info": {
   "name": "python"
  }
 },
 "nbformat": 4,
 "nbformat_minor": 0
}